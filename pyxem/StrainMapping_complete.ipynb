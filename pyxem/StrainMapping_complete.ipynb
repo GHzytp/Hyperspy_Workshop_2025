{
 "cells": [
  {
   "cell_type": "markdown",
   "id": "8309f9dd-6f7e-4585-8edc-e820880d372d",
   "metadata": {},
   "source": [
    "# Strain Mapping \n",
    "\n",
    "This notebook goes through the steps to calculate the strain using pyxem.  This data was taken from the paper:\n",
    "\n",
    "```\n",
    "Microstructure and microchemistry study of irradiation-induced precipitates in proton irradiated ZrNb alloys\n",
    "Yu, Zefeng; Zhang, Chenyu; Voyles, Paul M.; He, Lingfeng; Liu, Xiang; Nygren, Kelly; Couet, Adrien\n",
    "10.18126/2nj3-gyd8 \n",
    "```\n",
    "\n",
    "It shows a percipitate which arises from irradiation in the ZrNb sample.  The dataset shows the strain for one of these precipitates.  The results in this notebook are slightly different than those published as the paper only uses two diffraction spots to calculate strain.  Here we define a `basis` set of diffraction spots from an unstrained region of the sample and then use that basis set of spots to refine the diffraction spots found in the rest of the dataset.\n",
    "\n",
    "Then a gradient tensor which maps each set of found points at (x,y) is calculated such that the tensor maps the points onto the basis.\n",
    "\n",
    "Transforming that gradient tensor we can plot the percent strain in the E11 E22 and E33 directions as well as a Theta displacement. \n",
    "\n",
    "In this sample you can see that there is mostly compressive stress on the percipite as well as shear stress. Hot spots on the edge of the theta map suggest the presence of dislocations as well. \n",
    "<center><img src=\"Images/Strain Mapping.png\" alt=\"StrainMapping\" height=\"1000\" width=\"1000\"></center>"
   ]
  },
  {
   "cell_type": "code",
   "execution_count": 1,
   "id": "61bbba26-2087-4c8d-b1ba-b7429ce89cd2",
   "metadata": {},
   "outputs": [
    {
     "name": "stdout",
     "output_type": "stream",
     "text": [
      "0.21.0\n"
     ]
    }
   ],
   "source": [
    "import pyxem as pxm\n",
    "import hyperspy.api as hs\n",
    "print(pxm.__version__)"
   ]
  },
  {
   "cell_type": "code",
   "execution_count": 2,
   "id": "9906fc43-06b9-4fb6-846d-40ce13cff05b",
   "metadata": {
    "tags": []
   },
   "outputs": [],
   "source": [
    "# Load the data\n",
    "s = pxm.data.zrnb_precipitate(allow_download=True, lazy=True)"
   ]
  },
  {
   "cell_type": "code",
   "execution_count": 3,
   "id": "a67859be-a64f-4c7f-93db-cb21875ed3e8",
   "metadata": {},
   "outputs": [
    {
     "data": {
      "text/html": [
       "<style>\n",
       "table, th, td {\n",
       "\tborder: 1px solid black;\n",
       "\tborder-collapse: collapse;\n",
       "}\n",
       "th, td {\n",
       "\tpadding: 5px;\n",
       "}\n",
       "</style>\n",
       "<p><b>< Axes manager, axes: (60, 40|256, 256) ></b></p>\n",
       "<table style='width:100%'>\n",
       "\n",
       "<tr> \n",
       "<th>Navigation axis name</th> \n",
       "<th>size</th> \n",
       "<th>index</th> \n",
       "<th>offset</th> \n",
       "<th>scale</th> \n",
       "<th>units</th> </tr>\n",
       "<tr> \n",
       "<td>x</td> \n",
       "<td>60</td> \n",
       "<td>0</td> \n",
       "<td>0.5</td> \n",
       "<td>0.9</td> \n",
       "<td>nm</td> </tr>\n",
       "<tr> \n",
       "<td>y</td> \n",
       "<td>40</td> \n",
       "<td>0</td> \n",
       "<td>0.5</td> \n",
       "<td>0.9</td> \n",
       "<td>nm</td> </tr></table>\n",
       "<table style='width:100%'>\n",
       "\n",
       "<tr> \n",
       "<th>Signal axis name</th> \n",
       "<th>size</th> \n",
       "<th></th> \n",
       "<th>offset</th> \n",
       "<th>scale</th> \n",
       "<th>units</th> </tr>\n",
       "<tr> \n",
       "<td>kx</td> \n",
       "<td>256</td> \n",
       "<td></td> \n",
       "<td>-6.564102564102564</td> \n",
       "<td>0.05128205128205128</td> \n",
       "<td>nm^-1</td> </tr>\n",
       "<tr> \n",
       "<td>ky</td> \n",
       "<td>256</td> \n",
       "<td></td> \n",
       "<td>-6.564102564102564</td> \n",
       "<td>0.05128205128205128</td> \n",
       "<td>nm^-1</td> </tr></table>\n"
      ],
      "text/plain": [
       "<Axes manager, axes: (60, 40|256, 256)>\n",
       "            Name |   size |  index |  offset |   scale |  units \n",
       "================ | ====== | ====== | ======= | ======= | ====== \n",
       "               x |     60 |      0 |     0.5 |     0.9 |     nm \n",
       "               y |     40 |      0 |     0.5 |     0.9 |     nm \n",
       "---------------- | ------ | ------ | ------- | ------- | ------ \n",
       "              kx |    256 |      0 |    -6.6 |   0.051 |  nm^-1 \n",
       "              ky |    256 |      0 |    -6.6 |   0.051 |  nm^-1 "
      ]
     },
     "execution_count": 3,
     "metadata": {},
     "output_type": "execute_result"
    }
   ],
   "source": [
    "s.axes_manager"
   ]
  },
  {
   "cell_type": "code",
   "execution_count": 4,
   "id": "8ec70433-620c-4183-a4dd-bab91ce5407f",
   "metadata": {},
   "outputs": [],
   "source": [
    "s.calibration.scale= 0.051"
   ]
  },
  {
   "cell_type": "code",
   "execution_count": 5,
   "id": "d051ee91-ea88-471a-9ed0-dc64212931ad",
   "metadata": {
    "tags": []
   },
   "outputs": [],
   "source": [
    "# set axis labels\n",
    "s.axes_manager.signal_axes[0].name=\"kx\"\n",
    "s.axes_manager.signal_axes[1].name=\"ky\""
   ]
  },
  {
   "cell_type": "code",
   "execution_count": 6,
   "id": "d1faa0b2-523c-4416-8811-13e97a88e7af",
   "metadata": {
    "tags": []
   },
   "outputs": [],
   "source": [
    "# Set the figure dpi so that things show up nicely side by side (This is different for every monitor. \n",
    "import matplotlib.pyplot as plt\n",
    "plt.rcParams['figure.dpi'] = 60"
   ]
  },
  {
   "cell_type": "code",
   "execution_count": 7,
   "id": "6d6bd264-777d-43a4-a000-7d318320fcd3",
   "metadata": {},
   "outputs": [],
   "source": [
    "%matplotlib qt\n",
    "s.plot()"
   ]
  },
  {
   "cell_type": "code",
   "execution_count": 8,
   "id": "1ec132ca-b069-45a4-84b4-a2adabb7c456",
   "metadata": {},
   "outputs": [
    {
     "name": "stderr",
     "output_type": "stream",
     "text": [
      "2025-06-05 00:32:45.972 python[22610:439067] +[IMKClient subclass]: chose IMKClient_Modern\n",
      "2025-06-05 00:32:45.972 python[22610:439067] +[IMKInputSession subclass]: chose IMKInputSession_Modern\n"
     ]
    }
   ],
   "source": [
    "# center the direct beam\n",
    "beam_shift = s.get_direct_beam_position(method=\"blur\", sigma=15, half_square_width= 30)"
   ]
  },
  {
   "cell_type": "code",
   "execution_count": 9,
   "id": "8e8ba31b-08c6-4a3f-bbc7-f3b7a3e1e724",
   "metadata": {},
   "outputs": [
    {
     "data": {
      "application/vnd.jupyter.widget-view+json": {
       "model_id": "fbcf2571bffb4f62b7802e0c5349a7a2",
       "version_major": 2,
       "version_minor": 0
      },
      "text/plain": [
       "  0%|          | 0/121 [00:00<?, ?it/s]"
      ]
     },
     "metadata": {},
     "output_type": "display_data"
    }
   ],
   "source": [
    "# compute the beam shift\n",
    "beam_shift.compute()"
   ]
  },
  {
   "cell_type": "code",
   "execution_count": 10,
   "id": "527a58b2-3e11-4b6f-9d8b-951e6ac18117",
   "metadata": {},
   "outputs": [
    {
     "data": {
      "text/plain": [
       "[<Axes: title={'center': 'x-shift'}, xlabel='x axis (nm)', ylabel='y axis (nm)'>,\n",
       " <Axes: title={'center': 'y-shift'}, xlabel='x axis (nm)', ylabel='y axis (nm)'>]"
      ]
     },
     "execution_count": 10,
     "metadata": {},
     "output_type": "execute_result"
    }
   ],
   "source": [
    "# plot the beam shift\n",
    "beam_shift.plot()"
   ]
  },
  {
   "cell_type": "code",
   "execution_count": 11,
   "id": "17841cc8-39e0-43eb-bd93-bf52115fd97b",
   "metadata": {},
   "outputs": [],
   "source": [
    "# make the beam shift linear\n",
    "linear_beam_shift = beam_shift.get_linear_plane(fit_corners=0.5)"
   ]
  },
  {
   "cell_type": "code",
   "execution_count": 12,
   "id": "7914d844-2aad-440a-9697-a1a63d86cd17",
   "metadata": {},
   "outputs": [
    {
     "data": {
      "text/plain": [
       "[<Axes: title={'center': 'x-shift'}, xlabel='x axis (nm)', ylabel='y axis (nm)'>,\n",
       " <Axes: title={'center': 'y-shift'}, xlabel='x axis (nm)', ylabel='y axis (nm)'>]"
      ]
     },
     "execution_count": 12,
     "metadata": {},
     "output_type": "execute_result"
    }
   ],
   "source": [
    "# plot the linear beam shift\n",
    "linear_beam_shift.plot()"
   ]
  },
  {
   "cell_type": "code",
   "execution_count": 13,
   "id": "0c521171-8eed-40e6-ab15-4ba2c633ee69",
   "metadata": {},
   "outputs": [],
   "source": [
    "# center the direct beam\n",
    "centered_s = s.center_direct_beam(shifts=beam_shift, inplace=False)"
   ]
  },
  {
   "cell_type": "code",
   "execution_count": 14,
   "id": "e7a14b49-1ed9-4c03-9178-0f4165515a7f",
   "metadata": {},
   "outputs": [
    {
     "data": {
      "text/html": [
       "<table>\n",
       "    <tr>\n",
       "        <td>\n",
       "            <table>\n",
       "                <thead>\n",
       "                    <tr>\n",
       "                        <th> Title: </th>\n",
       "                        <td>  </td>\n",
       "                    </tr>\n",
       "                    <tr>\n",
       "                        <th> SignalType: </th>\n",
       "                        <td> electron_diffraction </td>\n",
       "                    </tr>\n",
       "                </thead>\n",
       "                <thead>\n",
       "                    <tr>\n",
       "                        <td>  </td>\n",
       "                        <th> Array </th>\n",
       "                        <th> Chunk </th>\n",
       "                    </tr>\n",
       "                </thead>\n",
       "                <tbody>\n",
       "                    \n",
       "                    <tr>\n",
       "                        <th> Bytes </th>\n",
       "                        <td> 600.00 MiB </td>\n",
       "                        <td> 16.00 MiB </td>\n",
       "                    </tr>\n",
       "                    \n",
       "                    <tr>\n",
       "                        <th> Shape </th>\n",
       "                        <td> (60, 40|256, 256) </td>\n",
       "                        <td> (8,8|<b>256</b>,<b>256</b>) </td>\n",
       "                    </tr>\n",
       "                    <tr>\n",
       "                        <th> Count </th>\n",
       "                        <td> 162 Tasks </td>\n",
       "                        <td> 40 Chunks </td>\n",
       "                    </tr>\n",
       "                    <tr>\n",
       "                    <th> Type </th>\n",
       "                    <td> float32 </td>\n",
       "                    <td> numpy.ndarray </td>\n",
       "                    </tr>\n",
       "                </tbody>\n",
       "            </table>\n",
       "        </td>\n",
       "        <td>\n",
       "            <table>\n",
       "                <thead>\n",
       "                    <tr>\n",
       "                        <th><p style=\"text-align:left;\">Navigation Axes</p>  </th>\n",
       "                        <th> <p style=\"text-align:left;\">Signal Axes</p> </th>\n",
       "                    </tr>\n",
       "                </thead>\n",
       "                <tbody>\n",
       "                    <tr>\n",
       "                        <td> <svg width=\"170\" height=\"130\" style=\"stroke:rgb(0,0,0);stroke-width:1\" >\n",
       "\n",
       "  <!-- Horizontal lines -->\n",
       "  <line x1=\"0\" y1=\"0\" x2=\"120\" y2=\"0\" style=\"stroke-width:2\" />\n",
       "  <line x1=\"0\" y1=\"16\" x2=\"120\" y2=\"16\" />\n",
       "  <line x1=\"0\" y1=\"32\" x2=\"120\" y2=\"32\" />\n",
       "  <line x1=\"0\" y1=\"48\" x2=\"120\" y2=\"48\" />\n",
       "  <line x1=\"0\" y1=\"64\" x2=\"120\" y2=\"64\" />\n",
       "  <line x1=\"0\" y1=\"80\" x2=\"120\" y2=\"80\" style=\"stroke-width:2\" />\n",
       "\n",
       "  <!-- Vertical lines -->\n",
       "  <line x1=\"0\" y1=\"0\" x2=\"0\" y2=\"80\" style=\"stroke-width:2\" />\n",
       "  <line x1=\"16\" y1=\"0\" x2=\"16\" y2=\"80\" />\n",
       "  <line x1=\"32\" y1=\"0\" x2=\"32\" y2=\"80\" />\n",
       "  <line x1=\"48\" y1=\"0\" x2=\"48\" y2=\"80\" />\n",
       "  <line x1=\"64\" y1=\"0\" x2=\"64\" y2=\"80\" />\n",
       "  <line x1=\"80\" y1=\"0\" x2=\"80\" y2=\"80\" />\n",
       "  <line x1=\"96\" y1=\"0\" x2=\"96\" y2=\"80\" />\n",
       "  <line x1=\"112\" y1=\"0\" x2=\"112\" y2=\"80\" />\n",
       "  <line x1=\"120\" y1=\"0\" x2=\"120\" y2=\"80\" style=\"stroke-width:2\" />\n",
       "\n",
       "  <!-- Colored Rectangle -->\n",
       "  <polygon points=\"0.0,0.0 120.0,0.0 120.0,80.0 0.0,80.0\" style=\"fill:#ECB172A0;stroke-width:0\"/>\n",
       "\n",
       "  <!-- Text -->\n",
       "  <text x=\"60.000000\" y=\"100.000000\" font-size=\"1.0rem\" font-weight=\"100\" text-anchor=\"middle\" >60</text>\n",
       "  <text x=\"140.000000\" y=\"40.000000\" font-size=\"1.0rem\" font-weight=\"100\" text-anchor=\"middle\" transform=\"rotate(0,140.000000,40.000000)\">40</text>\n",
       "</svg> </td>\n",
       "                        <td> <svg width=\"170\" height=\"170\" style=\"stroke:rgb(0,0,0);stroke-width:1\" >\n",
       "\n",
       "  <!-- Horizontal lines -->\n",
       "  <line x1=\"0\" y1=\"0\" x2=\"120\" y2=\"0\" style=\"stroke-width:2\" />\n",
       "  <line x1=\"0\" y1=\"120\" x2=\"120\" y2=\"120\" style=\"stroke-width:2\" />\n",
       "\n",
       "  <!-- Vertical lines -->\n",
       "  <line x1=\"0\" y1=\"0\" x2=\"0\" y2=\"120\" style=\"stroke-width:2\" />\n",
       "  <line x1=\"120\" y1=\"0\" x2=\"120\" y2=\"120\" style=\"stroke-width:2\" />\n",
       "\n",
       "  <!-- Colored Rectangle -->\n",
       "  <polygon points=\"0.0,0.0 120.0,0.0 120.0,120.0 0.0,120.0\" style=\"fill:#ECB172A0;stroke-width:0\"/>\n",
       "\n",
       "  <!-- Text -->\n",
       "  <text x=\"60.000000\" y=\"140.000000\" font-size=\"1.0rem\" font-weight=\"100\" text-anchor=\"middle\" >256</text>\n",
       "  <text x=\"140.000000\" y=\"60.000000\" font-size=\"1.0rem\" font-weight=\"100\" text-anchor=\"middle\" transform=\"rotate(-90,140.000000,60.000000)\">256</text>\n",
       "</svg> </td>\n",
       "                    </tr>\n",
       "                </tbody>\n",
       "            </table>\n",
       "        </td>\n",
       "    </tr>\n",
       "</table>"
      ],
      "text/plain": [
       "<LazyElectronDiffraction2D, title: , dimensions: (60, 40|256, 256)>"
      ]
     },
     "execution_count": 14,
     "metadata": {},
     "output_type": "execute_result"
    }
   ],
   "source": [
    "centered_s"
   ]
  },
  {
   "cell_type": "markdown",
   "id": "684c9424-91ec-4eb5-a7d4-551d621d2928",
   "metadata": {},
   "source": [
    "## Lets Average the Signal a Bit...\n",
    "\n",
    "Sometimes we see some varible intensity in the disks.  We can actually correct some of this by just gaussian filtering the data in real space.  \n",
    "For strain mapping we can make this very local (sigma = 1.,1.0,0.0,0.0) and we don't lose much spatial resolution. Of course you can also just take longer exposures to get more signal to noise ratio!  \n",
    "\n",
    "There are other things you can do.  "
   ]
  },
  {
   "cell_type": "code",
   "execution_count": 13,
   "id": "584d6be5-07fe-4fc3-ab95-480902aafa7d",
   "metadata": {},
   "outputs": [],
   "source": [
    "s.plot()"
   ]
  },
  {
   "cell_type": "code",
   "execution_count": 14,
   "id": "f62206be-18ac-4cad-825d-8b20608ad1f5",
   "metadata": {
    "tags": []
   },
   "outputs": [],
   "source": [
    "from dask_image.ndfilters import gaussian_filter # For lazy signals\n",
    "#from scipy.ndimage import gaussian_filter"
   ]
  },
  {
   "cell_type": "code",
   "execution_count": 15,
   "id": "4685a92a-e281-40c0-82e5-b311bd971135",
   "metadata": {},
   "outputs": [],
   "source": [
    "s = pxm.data.zrnb_precipitate(allow_download=True, lazy=True)"
   ]
  },
  {
   "cell_type": "code",
   "execution_count": 16,
   "id": "cc1fbdb7-df9e-48e6-85d2-9c7b05d6db60",
   "metadata": {},
   "outputs": [],
   "source": [
    "#s.compute()"
   ]
  },
  {
   "cell_type": "code",
   "execution_count": 17,
   "id": "c352e29f-4fcc-49b3-86f7-c34d4035f2fb",
   "metadata": {
    "tags": []
   },
   "outputs": [],
   "source": [
    "# filter the dataset using dask_image\n",
    "filtered = s.filter(gaussian_filter, sigma=(1,1,0,0)) # in pixels "
   ]
  },
  {
   "cell_type": "code",
   "execution_count": 18,
   "id": "f39f061f-839e-4378-8746-14310a8fe975",
   "metadata": {
    "tags": []
   },
   "outputs": [],
   "source": [
    "# plot the filtered dataset (Lets compare the two!) \n",
    "\n",
    "hs.plot.plot_signals([s, filtered], navigator=s.navigator,\n",
    "                     vmax=\"99th\", cmap='magma')\n",
    "plt.close(\"all\")"
   ]
  },
  {
   "cell_type": "code",
   "execution_count": 19,
   "id": "8d5b0aae-471f-4d74-9f9d-20f80e61ffd5",
   "metadata": {
    "tags": []
   },
   "outputs": [],
   "source": [
    "plt.close(\"all\")"
   ]
  },
  {
   "cell_type": "markdown",
   "id": "f58fda78-3182-4eb4-81da-8ea1116a9d41",
   "metadata": {},
   "source": [
    "## Aside:  I want to try a Hough Transform!\n",
    "\n",
    "Okay I personally am I little bit hisitent about the Hough Transform.  Most of the time the reason that people see better performance from the Hough transform over Template matching is that they are not doing a cross-correlation which properly normalizes for noise.  The Hough transform also requires very high signal to noise, requires you to mask your data in some way (which also explains better performance).  Template matching will handle fluctuations in the disks as long as you normalize correctly (which pyxem currently does quite well in my opinion)\n",
    "\n",
    "You can find the peaks from the circular_hough signal in the same way we normally find peaks. This functionality isn't currently baked into `pyxem` but if people are interested in this you can raise an issue and it is an easy addition. "
   ]
  },
  {
   "cell_type": "code",
   "execution_count": 20,
   "id": "6973f7c6-48ed-4f3c-a896-bcaa8e9e63fd",
   "metadata": {
    "tags": []
   },
   "outputs": [],
   "source": [
    "from skimage.transform import hough_circle\n",
    "from skimage.feature import canny\n",
    "import numpy as np\n",
    "\n",
    "def hough_circle_single_rad(img, radius,sigma=3, **kwargs):\n",
    "    return hough_circle(img, radius, **kwargs)[0] # Otherwise the returned "
   ]
  },
  {
   "cell_type": "code",
   "execution_count": 21,
   "id": "3a5352b8-bd9c-4479-8b06-0106883c5fc2",
   "metadata": {
    "tags": []
   },
   "outputs": [],
   "source": [
    "canny_img = filtered.map(canny, sigma=3, low_threshold=.6, high_threshold=.8, inplace=False, use_quantiles=True)"
   ]
  },
  {
   "cell_type": "code",
   "execution_count": 22,
   "id": "17e9b7a1-0f88-4841-b2b0-7f42eb2ec0ab",
   "metadata": {
    "tags": []
   },
   "outputs": [
    {
     "data": {
      "application/vnd.jupyter.widget-view+json": {
       "model_id": "1e121118b8c543acb9aee481ea3d965c",
       "version_major": 2,
       "version_minor": 0
      },
      "text/plain": [
       "  0%|          | 0/407 [00:00<?, ?it/s]"
      ]
     },
     "metadata": {},
     "output_type": "display_data"
    }
   ],
   "source": [
    "canny_img.plot()"
   ]
  },
  {
   "cell_type": "code",
   "execution_count": 23,
   "id": "bc9f8cb4-b584-49e1-b842-9baa11ab4a4f",
   "metadata": {
    "tags": []
   },
   "outputs": [],
   "source": [
    "circular_hough = canny_img.map(hough_circle_single_rad, radius=11, inplace=False)"
   ]
  },
  {
   "cell_type": "code",
   "execution_count": 24,
   "id": "7b1193ee-4d18-4a43-bc35-ad3c02116eda",
   "metadata": {
    "tags": []
   },
   "outputs": [
    {
     "data": {
      "application/vnd.jupyter.widget-view+json": {
       "model_id": "20f0377e29444420906822573932dbf7",
       "version_major": 2,
       "version_minor": 0
      },
      "text/plain": [
       "  0%|          | 0/407 [00:00<?, ?it/s]"
      ]
     },
     "metadata": {},
     "output_type": "display_data"
    }
   ],
   "source": [
    "canny_img.plot()\n",
    "circular_hough.plot(axes_manager=canny_img.axes_manager)"
   ]
  },
  {
   "cell_type": "markdown",
   "id": "2a31f67b-6805-42f4-95d2-46838ea42e7c",
   "metadata": {
    "tags": []
   },
   "source": [
    "## Filtering with a Disk Template Matching\n",
    "\n",
    "Then we can use template matching before finding the diffraction vectors in the dataset.  I like to do this lazily and then adjust the parameters.  The disk_r can be read from the size of the direct beam but it is also good to view the template result to make sure that things worked correctly.  If your disk_r is too small you might end up with a valley at the center of the disk and if your radius is too large you end up with a platau at the center.\n",
    "\n",
    "This is shown below where the ideal radius is around ~11 pixels"
   ]
  },
  {
   "cell_type": "code",
   "execution_count": 25,
   "id": "5569732b-d143-4672-bce3-3b60dbbda157",
   "metadata": {},
   "outputs": [],
   "source": [
    "plt.close(\"all\")"
   ]
  },
  {
   "cell_type": "code",
   "execution_count": 26,
   "id": "12ba9428-9005-4318-9162-b0d0b66c3ad6",
   "metadata": {},
   "outputs": [],
   "source": [
    "s.plot()"
   ]
  },
  {
   "cell_type": "code",
   "execution_count": 27,
   "id": "c2dbddaa-7bb1-47dd-9acb-c224a6a42918",
   "metadata": {
    "tags": []
   },
   "outputs": [],
   "source": [
    "# lets just try to see what the effect of different disk radii is:\n",
    "import matplotlib.pyplot as plt\n",
    "fig = plt.figure(figsize=(15, 5))\n",
    "one_pattern=filtered.inav[5,5]\n",
    "hs.plot.plot_images([one_pattern.template_match_disk(r) for r in [5,10,15]], \n",
    "                    axes_decor=\"off\",\n",
    "                    scalebar=\"all\",\n",
    "                    label=[\"Radius=5pix\",\"Radius=10pix\",\"Radius=15pix\"], fig=fig)\n",
    "plt.show()"
   ]
  },
  {
   "cell_type": "code",
   "execution_count": 28,
   "id": "306728b1-32d6-46d9-925c-03ebd73b518f",
   "metadata": {
    "tags": []
   },
   "outputs": [],
   "source": [
    "# template matching using a disk.  \n",
    "temp = filtered.template_match_disk(disk_r=11, subtract_min=False)"
   ]
  },
  {
   "cell_type": "code",
   "execution_count": 29,
   "id": "f40db461-27ad-4955-b611-59ea17315abc",
   "metadata": {
    "tags": []
   },
   "outputs": [],
   "source": [
    "# pass navigator and plot\n",
    "temp.navigator= s.navigator\n",
    "temp.plot()"
   ]
  },
  {
   "cell_type": "markdown",
   "id": "5a108d9f-980b-4044-af5b-57ba0481751d",
   "metadata": {},
   "source": [
    "## Peak Finding \n",
    "\n",
    "Now we can see what a good value for peak finding is.  We can either use the interactive peak finding in hyperspy but I tend to just play with the vmin value with plotting until I get a reasonable min value."
   ]
  },
  {
   "cell_type": "code",
   "execution_count": 30,
   "id": "6f496deb-01da-4e3a-9e21-cf9934fb9ad7",
   "metadata": {
    "tags": []
   },
   "outputs": [
    {
     "name": "stderr",
     "output_type": "stream",
     "text": [
      "/Users/carterfrancis/hyperspy-bundle/lib/python3.12/site-packages/hyperspy/misc/hist_tools.py:201: UserWarning: Estimated number of bins using `bins='fd'` is too large (366). Capping the number of bins at `max_num_bins=250`. Consider using an alternative method for calculating the bins such as `bins='scott'`, or increasing the value of the `max_num_bins` keyword argument.\n",
      "  warnings.warn(\n"
     ]
    },
    {
     "data": {
      "application/vnd.jupyter.widget-view+json": {
       "model_id": "b0df101f09054e418a63cd55f8286acc",
       "version_major": 2,
       "version_minor": 0
      },
      "text/plain": [
       "  0%|          | 0/2 [00:00<?, ?it/s]"
      ]
     },
     "metadata": {},
     "output_type": "display_data"
    }
   ],
   "source": [
    "# lets look at the histgram for just a couple of points\n",
    "temp.inav[3:10, 3:10].get_histogram().plot()"
   ]
  },
  {
   "cell_type": "code",
   "execution_count": 31,
   "id": "fb51f968-0787-4379-86cb-653a9396c281",
   "metadata": {
    "tags": []
   },
   "outputs": [],
   "source": [
    "# Lets plot the data with an adjusted vmin \n",
    "temp.plot(vmin=.4)"
   ]
  },
  {
   "cell_type": "code",
   "execution_count": 32,
   "id": "7bbf6b2a-5f51-4472-bea9-085153ca1c2c",
   "metadata": {
    "tags": []
   },
   "outputs": [
    {
     "name": "stdout",
     "output_type": "stream",
     "text": [
      "\u001b[33;20mWARNING | Hyperspy | The function you applied does not take into account the difference of scales in-between axes. (hyperspy.signal:5487)\u001b[0m\n",
      "\u001b[33;20mWARNING | Hyperspy | The function you applied does not take into account the difference of units in-between axes. (hyperspy.signal:5492)\u001b[0m\n"
     ]
    }
   ],
   "source": [
    "# get the diffraction vectors\n",
    "vect = temp.get_diffraction_vectors(threshold_abs=0.4,\n",
    "                        distance=10, get_intensity=False)"
   ]
  },
  {
   "cell_type": "code",
   "execution_count": 33,
   "id": "dc163f55-63d1-4135-88d1-056825789e60",
   "metadata": {
    "tags": []
   },
   "outputs": [
    {
     "data": {
      "text/html": [
       "<table>\n",
       "    <tr>\n",
       "        <td>\n",
       "            <table>\n",
       "                <thead>\n",
       "                    <tr>\n",
       "                        <th> Title: </th>\n",
       "                        <td>  </td>\n",
       "                    </tr>\n",
       "                    <tr>\n",
       "                        <th> SignalType: </th>\n",
       "                        <td> diffraction_vectors </td>\n",
       "                    </tr>\n",
       "                </thead>\n",
       "                <thead>\n",
       "                    <tr>\n",
       "                        <td>  </td>\n",
       "                        <th> Array </th>\n",
       "                        <th> Chunk </th>\n",
       "                    </tr>\n",
       "                </thead>\n",
       "                <tbody>\n",
       "                    \n",
       "                    <tr>\n",
       "                        <th> Bytes </th>\n",
       "                        <td> 18.75 kiB </td>\n",
       "                        <td> 512 B </td>\n",
       "                    </tr>\n",
       "                    \n",
       "                    <tr>\n",
       "                        <th> Shape </th>\n",
       "                        <td> (60, 40|ragged) </td>\n",
       "                        <td> (8,8|) </td>\n",
       "                    </tr>\n",
       "                    <tr>\n",
       "                        <th> Count </th>\n",
       "                        <td> 567 Tasks </td>\n",
       "                        <td> 40 Chunks </td>\n",
       "                    </tr>\n",
       "                    <tr>\n",
       "                    <th> Type </th>\n",
       "                    <td> object </td>\n",
       "                    <td> numpy.ndarray </td>\n",
       "                    </tr>\n",
       "                </tbody>\n",
       "            </table>\n",
       "        </td>\n",
       "        <td>\n",
       "            <table>\n",
       "                <thead>\n",
       "                    <tr>\n",
       "                        <th><p style=\"text-align:left;\">Navigation Axes</p>  </th>\n",
       "                        <th> <p style=\"text-align:left;\">Signal Axes</p> </th>\n",
       "                    </tr>\n",
       "                </thead>\n",
       "                <tbody>\n",
       "                    <tr>\n",
       "                        <td> <svg width=\"170\" height=\"130\" style=\"stroke:rgb(0,0,0);stroke-width:1\" >\n",
       "\n",
       "  <!-- Horizontal lines -->\n",
       "  <line x1=\"0\" y1=\"0\" x2=\"120\" y2=\"0\" style=\"stroke-width:2\" />\n",
       "  <line x1=\"0\" y1=\"16\" x2=\"120\" y2=\"16\" />\n",
       "  <line x1=\"0\" y1=\"32\" x2=\"120\" y2=\"32\" />\n",
       "  <line x1=\"0\" y1=\"48\" x2=\"120\" y2=\"48\" />\n",
       "  <line x1=\"0\" y1=\"64\" x2=\"120\" y2=\"64\" />\n",
       "  <line x1=\"0\" y1=\"80\" x2=\"120\" y2=\"80\" style=\"stroke-width:2\" />\n",
       "\n",
       "  <!-- Vertical lines -->\n",
       "  <line x1=\"0\" y1=\"0\" x2=\"0\" y2=\"80\" style=\"stroke-width:2\" />\n",
       "  <line x1=\"16\" y1=\"0\" x2=\"16\" y2=\"80\" />\n",
       "  <line x1=\"32\" y1=\"0\" x2=\"32\" y2=\"80\" />\n",
       "  <line x1=\"48\" y1=\"0\" x2=\"48\" y2=\"80\" />\n",
       "  <line x1=\"64\" y1=\"0\" x2=\"64\" y2=\"80\" />\n",
       "  <line x1=\"80\" y1=\"0\" x2=\"80\" y2=\"80\" />\n",
       "  <line x1=\"96\" y1=\"0\" x2=\"96\" y2=\"80\" />\n",
       "  <line x1=\"112\" y1=\"0\" x2=\"112\" y2=\"80\" />\n",
       "  <line x1=\"120\" y1=\"0\" x2=\"120\" y2=\"80\" style=\"stroke-width:2\" />\n",
       "\n",
       "  <!-- Colored Rectangle -->\n",
       "  <polygon points=\"0.0,0.0 120.0,0.0 120.0,80.0 0.0,80.0\" style=\"fill:#ECB172A0;stroke-width:0\"/>\n",
       "\n",
       "  <!-- Text -->\n",
       "  <text x=\"60.000000\" y=\"100.000000\" font-size=\"1.0rem\" font-weight=\"100\" text-anchor=\"middle\" >60</text>\n",
       "  <text x=\"140.000000\" y=\"40.000000\" font-size=\"1.0rem\" font-weight=\"100\" text-anchor=\"middle\" transform=\"rotate(0,140.000000,40.000000)\">40</text>\n",
       "</svg> </td>\n",
       "                        <td>  </td>\n",
       "                    </tr>\n",
       "                </tbody>\n",
       "            </table>\n",
       "        </td>\n",
       "    </tr>\n",
       "</table>"
      ],
      "text/plain": [
       "<LazyDiffractionVectors, title: , dimensions: (60, 40|ragged)>"
      ]
     },
     "execution_count": 33,
     "metadata": {},
     "output_type": "execute_result"
    }
   ],
   "source": [
    "#display the diffraction vectors\n",
    "vect"
   ]
  },
  {
   "cell_type": "code",
   "execution_count": 34,
   "id": "4e1cfcb0-b8ec-4c76-a4e4-33cae97b2de1",
   "metadata": {
    "tags": []
   },
   "outputs": [],
   "source": [
    "#plot the diffraction vectors\n",
    "m = vect.to_markers( facecolors=\"none\",\n",
    "                     edgecolor=\"w\", \n",
    "                     sizes=[30,])\n",
    "s.plot()\n",
    "s.add_marker(m,)\n"
   ]
  },
  {
   "cell_type": "code",
   "execution_count": 35,
   "id": "b52da698-ae08-4dec-8920-1b41bf0b24a3",
   "metadata": {},
   "outputs": [],
   "source": [
    "plt.close(\"all\")"
   ]
  },
  {
   "cell_type": "code",
   "execution_count": 36,
   "id": "b8666ce0-9e60-4318-bfc0-eacb0df104fe",
   "metadata": {},
   "outputs": [],
   "source": [
    "# lets subpixel refine the vectors and compare!\n",
    "vect_sub = vect.subpixel_refine(filtered,\"cross-correlation\",\n",
    "                     disk_r=11,\n",
    "                     upsample_factor=2, square_size=26)\n",
    "\n",
    "m = vect.to_markers( facecolors=\"none\",\n",
    "                     edgecolor=\"w\", \n",
    "                     sizes=[30,])\n",
    "\n",
    "m2 = vect_sub.to_markers( facecolors=\"none\",\n",
    "                     edgecolor=\"g\", \n",
    "                     sizes=[30,])\n",
    "s.plot()\n",
    "s.add_marker(m,)\n",
    "s.add_marker(m2,)"
   ]
  },
  {
   "cell_type": "markdown",
   "id": "07761ac9-601e-4f92-955b-d15db481a25c",
   "metadata": {},
   "source": [
    "## Setting a Basis and Determining Strain\n",
    "\n",
    "First we filter the vactors based on their magnitude. This gets rid of the zero beam and weaker peaks farther out!"
   ]
  },
  {
   "cell_type": "code",
   "execution_count": 37,
   "id": "84b59683-cb1b-4491-abc4-d7ba37d7b2fd",
   "metadata": {
    "tags": []
   },
   "outputs": [],
   "source": [
    "# filter the magnitude of the vectors\n",
    "vect_filtered = vect_sub.filter_magnitude(min_magnitude=3.5, max_magnitude=4.5)"
   ]
  },
  {
   "cell_type": "code",
   "execution_count": 38,
   "id": "c329e100-2458-49cd-ab9f-8c11f90217f2",
   "metadata": {
    "tags": []
   },
   "outputs": [
    {
     "data": {
      "application/vnd.jupyter.widget-view+json": {
       "model_id": "54233879d5384264aaa2d2aeac3e148d",
       "version_major": 2,
       "version_minor": 0
      },
      "text/plain": [
       "  0%|          | 0/487 [00:00<?, ?it/s]"
      ]
     },
     "metadata": {},
     "output_type": "display_data"
    }
   ],
   "source": [
    "# display the vectors\n",
    "#lazy_vect = vect_filtered.as_lazy()\n",
    "vect_filtered.compute()"
   ]
  },
  {
   "cell_type": "markdown",
   "id": "44947897-adee-4061-968c-ca5bee11ff65",
   "metadata": {},
   "source": [
    "Defining the basis vector far from the region of interest"
   ]
  },
  {
   "cell_type": "code",
   "execution_count": 39,
   "id": "e02e3ce9-00b6-4e14-af66-f47e86bf7b1a",
   "metadata": {
    "tags": []
   },
   "outputs": [],
   "source": [
    "# get a basis from the unstrained region\n",
    "basis = vect_filtered.inav[4,4]"
   ]
  },
  {
   "cell_type": "markdown",
   "id": "af081eb6-eb06-447d-b61f-d47d267ef2e4",
   "metadata": {},
   "source": [
    " Filter the vectors to only those vectors around a basis vector.  Distance defines the max distance from a basis point for some point to be associated with that point.\n",
    " \n",
    " If multiple points are found the closest point is used.  If no points are found `np.nan` is returned and it is ignored."
   ]
  },
  {
   "cell_type": "code",
   "execution_count": 41,
   "id": "a7a8fba9-edac-463a-8636-ade2ef9b39b1",
   "metadata": {
    "tags": []
   },
   "outputs": [
    {
     "data": {
      "application/vnd.jupyter.widget-view+json": {
       "model_id": "bced70ae4b484beea884e003aa9d5f84",
       "version_major": 2,
       "version_minor": 0
      },
      "text/plain": [
       "  0%|          | 0/109 [00:00<?, ?it/s]"
      ]
     },
     "metadata": {},
     "output_type": "display_data"
    }
   ],
   "source": [
    "# filter based on the basis\n",
    "filtered_data = vect_filtered.filter_basis(basis)"
   ]
  },
  {
   "cell_type": "code",
   "execution_count": 42,
   "id": "e8223e36-5575-4e2f-851a-beb0508f90a1",
   "metadata": {
    "tags": []
   },
   "outputs": [
    {
     "data": {
      "text/html": [
       "<table align=\"center\"><tr><td colspan= \"3\"> <center> DiffractionVectors2D, title: , dimensions: (60, 40|2, 10) </center></td></tr><tr><td colspan= \"3\"> <center> Current Index:(0, 0) </center> </td></tr><tr><td colspan= \"3\">  </td></tr><tr><th>column_names:</th><th><center>ky</center></th><th><center>kx</center></th></tr><th>units:</th><th><center>None</center></th><th><center>None</center></th></tr><tr><td><center>0</center></td><td><center>nan</center></td><td><center>nan</center></td></tr><tr><td><center>1</center></td><td><center>-2.1794871794871797</center></td><td><center>-3.333333333333333</center></td></tr><tr><td><center>2</center></td><td><center>1.9230769230769234</center></td><td><center>-3.333333333333333</center></td></tr><tr><td><center>3</center></td><td><center>nan</center></td><td><center>nan</center></td></tr><tr><td><center>4</center></td><td><center>-3.1538461538461537</center></td><td><center>-1.5897435897435894</center></td></tr><tr><td><center>5</center></td><td><center>-4.0256410256410255</center></td><td><center>0.07692307692307665</center></td></tr><tr><td><center>6</center></td><td><center>4.051282051282051</center></td><td><center>0.0512820512820511</center></td></tr><tr><td><center>7</center></td><td><center>3.0769230769230766</center></td><td><center>1.76923076923077</center></td></tr><tr><td><center>8</center></td><td><center>-2.051282051282051</center></td><td><center>3.384615384615385</center></td></tr><tr><td><center>9</center></td><td><center>2.0769230769230766</center></td><td><center>3.4102564102564106</center></td></tr></table>"
      ],
      "text/plain": [
       "<DiffractionVectors2D, title: , dimensions: (60, 40|2, 10)>"
      ]
     },
     "execution_count": 42,
     "metadata": {},
     "output_type": "execute_result"
    }
   ],
   "source": [
    "# display filtered data\n",
    "filtered_data"
   ]
  },
  {
   "cell_type": "code",
   "execution_count": 43,
   "id": "fd257644-52a1-480b-9533-4c935fdb0859",
   "metadata": {
    "tags": []
   },
   "outputs": [
    {
     "data": {
      "application/vnd.jupyter.widget-view+json": {
       "model_id": "a585f3d568444db192dc38576ebcbdf5",
       "version_major": 2,
       "version_minor": 0
      },
      "text/plain": [
       "  0%|          | 0/109 [00:00<?, ?it/s]"
      ]
     },
     "metadata": {},
     "output_type": "display_data"
    },
    {
     "data": {
      "application/vnd.jupyter.widget-view+json": {
       "model_id": "c4c33b84ef8243d3b2f585257824a2ee",
       "version_major": 2,
       "version_minor": 0
      },
      "text/plain": [
       "  0%|          | 0/407 [00:00<?, ?it/s]"
      ]
     },
     "metadata": {},
     "output_type": "display_data"
    }
   ],
   "source": [
    "# white for current data, red for basis.\n",
    "m = filtered_data.to_markers(edgecolor=\"w\",facecolor=\"none\", sizes=(40), lw=4)\n",
    "basis_markers = hs.plot.markers.Points(basis.data[0][:,::-1], edgecolor=\"r\",facecolor=\"none\", sizes=(40), lw=3 )\n",
    "\n",
    "filtered.plot(vmax=\"99th\")\n",
    "filtered.add_marker((m, basis_markers))"
   ]
  },
  {
   "cell_type": "markdown",
   "id": "8767dfa1-ff65-4b1c-bb24-203e9ebafa8e",
   "metadata": {},
   "source": [
    "## Fitting an Ellipse for the Strain\n",
    "\n",
    "Let's get a tensor strain map.  Basically we can determine the best elliptical transfromation to map from the basis set of vectors to the strained vectors.  We can also determine the residual and use that to improve the fits or indentify area where we are less confident about the fit.\n"
   ]
  },
  {
   "cell_type": "code",
   "execution_count": 44,
   "id": "43f7820f-2410-426e-bd9f-af58142f1306",
   "metadata": {},
   "outputs": [
    {
     "data": {
      "text/html": [
       "<table align=\"center\"><tr><td colspan= \"3\"> <center> DiffractionVectors, title: , dimensions: (|ragged) </center></td></tr><tr><td colspan= \"3\"> <center> Current Index:() </center> </td></tr><tr><td colspan= \"3\">  </td></tr><tr><th>column_names:</th><th><center>ky</center></th><th><center>kx</center></th></tr><th>units:</th><th><center>None</center></th><th><center>None</center></th></tr><tr><td><center>0</center></td><td><center>0.2564102564102564</center></td><td><center>-4.256410256410256</center></td></tr><tr><td><center>1</center></td><td><center>-2.1794871794871797</center></td><td><center>-3.333333333333333</center></td></tr><tr><td><center>2</center></td><td><center>1.8974358974358978</center></td><td><center>-3.358974358974359</center></td></tr><tr><td><center>3</center></td><td><center>3.384615384615385</center></td><td><center>-2.4871794871794872</center></td></tr><tr><td><center>4</center></td><td><center>-3.1538461538461537</center></td><td><center>-1.6410256410256405</center></td></tr><tr><td><center>5</center></td><td><center>-4.076923076923077</center></td><td><center>0.0512820512820511</center></td></tr><tr><td><center>6</center></td><td><center>4.051282051282051</center></td><td><center>0.0512820512820511</center></td></tr><tr><td><center>7</center></td><td><center>3.051282051282051</center></td><td><center>1.7948717948717956</center></td></tr><tr><td><center>8</center></td><td><center>-2.0</center></td><td><center>3.435897435897436</center></td></tr><tr><td><center>9</center></td><td><center>2.0769230769230766</center></td><td><center>3.435897435897436</center></td></tr></table>"
      ],
      "text/plain": [
       "<DiffractionVectors, title: , dimensions: (|ragged)>"
      ]
     },
     "execution_count": 44,
     "metadata": {},
     "output_type": "execute_result"
    }
   ],
   "source": [
    "basis"
   ]
  },
  {
   "cell_type": "code",
   "execution_count": 45,
   "id": "be2faa70-93fa-44bc-a2c4-1f44dadf5dec",
   "metadata": {},
   "outputs": [
    {
     "data": {
      "application/vnd.jupyter.widget-view+json": {
       "model_id": "9f0723fc06b542fcacf8dbf9506961b2",
       "version_major": 2,
       "version_minor": 0
      },
      "text/plain": [
       "  0%|          | 0/109 [00:00<?, ?it/s]"
      ]
     },
     "metadata": {},
     "output_type": "display_data"
    },
    {
     "data": {
      "application/vnd.jupyter.widget-view+json": {
       "model_id": "e18a8f5a7b3545a5bbf62ff8106fdf84",
       "version_major": 2,
       "version_minor": 0
      },
      "text/plain": [
       "  0%|          | 0/109 [00:00<?, ?it/s]"
      ]
     },
     "metadata": {},
     "output_type": "display_data"
    }
   ],
   "source": [
    "from pyxem.generators.displacement_gradient_tensor_generator import get_DisplacementGradientMap\n",
    "\n",
    "# Lets get a tensor strain map.\n",
    "strain_map, residual = get_DisplacementGradientMap(filtered_data, basis.data[0], return_residuals=True)"
   ]
  },
  {
   "cell_type": "code",
   "execution_count": 46,
   "id": "9492be82-db4d-4cf7-a66d-6dfaee4b6d5b",
   "metadata": {
    "tags": []
   },
   "outputs": [],
   "source": [
    "# get the magnitude of the residual\n",
    "std_err = (residual**2).sum(axis=-1)**0.5\n",
    "std_err.set_signal_type()"
   ]
  },
  {
   "cell_type": "code",
   "execution_count": 47,
   "id": "7dcc4239-615b-436b-8956-123cfd389f58",
   "metadata": {
    "tags": []
   },
   "outputs": [],
   "source": [
    "#plot the error.\n",
    "std_err.plot()"
   ]
  },
  {
   "cell_type": "code",
   "execution_count": 48,
   "id": "f60ec51d-01fc-4432-bb7a-0efbecb597e4",
   "metadata": {
    "tags": []
   },
   "outputs": [
    {
     "data": {
      "application/vnd.jupyter.widget-view+json": {
       "model_id": "a5d093dc3cd2445e960b3e89bd9e6091",
       "version_major": 2,
       "version_minor": 0
      },
      "text/plain": [
       "  0%|          | 0/109 [00:00<?, ?it/s]"
      ]
     },
     "metadata": {},
     "output_type": "display_data"
    }
   ],
   "source": [
    "# visualize the error and determine how to better fit the data.\n",
    "m = filtered_data.to_markers(edgecolor=\"w\",facecolor=\"none\", sizes=(40))\n",
    "basis_markers = hs.plot.markers.Points(basis.data[0][:,::-1], edgecolor=\"r\",facecolor=\"none\", sizes=(40) )\n",
    "\n",
    "filtered.plot(navigator=std_err, vmax=\"99th\")\n",
    "filtered.add_marker((m, basis_markers))"
   ]
  },
  {
   "cell_type": "code",
   "execution_count": 51,
   "id": "650f31c8-d893-4e82-ae59-5b58274b6987",
   "metadata": {
    "tags": []
   },
   "outputs": [
    {
     "data": {
      "application/vnd.jupyter.widget-view+json": {
       "model_id": "e90fca00a4d64ceb83a8393874e9e003",
       "version_major": 2,
       "version_minor": 0
      },
      "text/plain": [
       "  0%|          | 0/109 [00:00<?, ?it/s]"
      ]
     },
     "metadata": {},
     "output_type": "display_data"
    },
    {
     "data": {
      "application/vnd.jupyter.widget-view+json": {
       "model_id": "ee7c6baac27f4667a9be1c0e1d6b05a9",
       "version_major": 2,
       "version_minor": 0
      },
      "text/plain": [
       "  0%|          | 0/109 [00:00<?, ?it/s]"
      ]
     },
     "metadata": {},
     "output_type": "display_data"
    },
    {
     "data": {
      "application/vnd.jupyter.widget-view+json": {
       "model_id": "f81916a4f10c4844965f73a57cec9842",
       "version_major": 2,
       "version_minor": 0
      },
      "text/plain": [
       "  0%|          | 0/9 [00:00<?, ?it/s]"
      ]
     },
     "metadata": {},
     "output_type": "display_data"
    }
   ],
   "source": [
    "# get the strain maps.\n",
    "maps = strain_map.get_strain_maps()"
   ]
  },
  {
   "cell_type": "markdown",
   "id": "8ff8de58-46d0-49aa-952e-667305376ab3",
   "metadata": {},
   "source": [
    "## Visualizing the Strain"
   ]
  },
  {
   "cell_type": "code",
   "execution_count": 52,
   "id": "d998aefd-f96c-4254-9160-0901247ea135",
   "metadata": {
    "tags": []
   },
   "outputs": [],
   "source": [
    "# use plot images to show the images.\n",
    "import matplotlib.pyplot as plt\n",
    "f= plt.figure(figsize=(7,7))\n",
    "hs.plot.plot_images(maps,per_row=2,fig=f,\n",
    "                    label=[\"e11\",\"e22\", \"e12\", \"theta\"],\n",
    "                    tight_layout=True, cmap=\"hot\", axes_decor=\"off\", scalebar=\"all\", scalebar_color=\"black\")\n",
    "plt.show()\n",
    "# save the figure\n",
    "fig.savefig(\"strainmaps.png\", dpi=300)"
   ]
  },
  {
   "cell_type": "code",
   "execution_count": 53,
   "id": "264ffe12-e4ed-4606-a74b-e57bfb0313a7",
   "metadata": {
    "tags": []
   },
   "outputs": [
    {
     "data": {
      "application/vnd.jupyter.widget-view+json": {
       "model_id": "a772c9547d344d019f58226083a74dca",
       "version_major": 2,
       "version_minor": 0
      },
      "text/plain": [
       "  0%|          | 0/109 [00:00<?, ?it/s]"
      ]
     },
     "metadata": {},
     "output_type": "display_data"
    }
   ],
   "source": [
    "m = filtered_data.to_markers(edgecolor=\"w\",facecolor=\"none\", sizes=(45), linewidth=4)\n",
    "basis_markers = hs.plot.markers.Points(basis.data[0][:,::-1], edgecolor=\"r\",facecolor=\"none\", sizes=(45), linewidth=4 )\n",
    "\n",
    "filtered.plot(navigator=std_err,vmax=\"99th\", navigator_kwds =dict(cmap=\"hot\"))\n",
    "filtered.add_marker((m, basis_markers))\n"
   ]
  }
 ],
 "metadata": {
  "kernelspec": {
   "display_name": "Python [conda env:base] *",
   "language": "python",
   "name": "conda-base-py"
  },
  "language_info": {
   "codemirror_mode": {
    "name": "ipython",
    "version": 3
   },
   "file_extension": ".py",
   "mimetype": "text/x-python",
   "name": "python",
   "nbconvert_exporter": "python",
   "pygments_lexer": "ipython3",
   "version": "3.12.10"
  }
 },
 "nbformat": 4,
 "nbformat_minor": 5
}
