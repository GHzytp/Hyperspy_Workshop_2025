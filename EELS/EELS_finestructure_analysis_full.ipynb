{
 "cells": [
  {
   "cell_type": "markdown",
   "metadata": {
    "jp-MarkdownHeadingCollapsed": true
   },
   "source": [
    "# EELS analysis of perovskite oxides using eXSpy\n",
    "\n",
    "This tutorial shows the various functionalities in eXSpy which is used to analyse Electron Energy Loss Spectroscopy data, using EELS datasets from a perovskite oxide heterostructure.\n",
    "\n",
    "It assumes some knowledge on how to use HyperSpy, like loading datasets and how the basic signals work.\n",
    "\n",
    "This notebook requires **HyperSpy 2.0.0** or later. In addition **eXSpy**, which has the EELS and EDX specific parts of HyperSpy: https://hyperspy.org/exspy/\n",
    "\n",
    "## Author\n",
    "\n",
    "7/6/2016 Magnus Nord - Developed for HyperSpy workshop at Scandem conference 2016\n",
    "\n",
    "## Changes\n",
    "\n",
    "* 3/8/2016 Updated for HyperSpy 1.1. Added note about Gatan Digital Micrograph GOS.\n",
    "* 20/7/2019 Katherine MacArthur - Checked for Hyperspy 1.5.1 and commented out sections requiring Gatan GOS files.\n",
    "* 30/7/2019 Magnus Nord - Minor text improvements for M&M19 short course\n",
    "* 9/3/2024 Magnus Nord - Updated to work with HyperSpy 2.0.0\n",
    "* 1/6/2025 Eric Prestat - reworked for the ePSIC HyperSpy workshop 2025\n",
    "\n",
    "## Table of contents\n",
    "\n",
    "1. <a href='#spec_and_data'> Specimen & Data</a>\n",
    "2. <a href='#loading_and_aligning_data'> Loading and aligning data</a>\n",
    "3. <a href='#fourier_ratio_deconvolution'> Fourier ratio deconvolution and peak fitting</a>\n",
    "4. <a href='#fine_structure_fitting'> Fine structure fitting with convolution</a>\n",
    "5. <a href='#visualise_fitting_results'> Visualise fitting results</a>"
   ]
  },
  {
   "cell_type": "markdown",
   "metadata": {},
   "source": [
    "# <a id='spec_and_data'></a>1. Specimen & Data\n",
    "\n",
    "The data was acquired on a Jeol ARM200cF using a Gatan Quantum ER with DualEELS capabilities.\n",
    "\n",
    "The data itself is from La$_{0.7}$Sr$_{0.3}$MnO$_3$ thin films deposited on SrTiO$_3$. In the fine structure example parts of the film has been exposed to a very long electron beam exposure, inducing oxygen vacancies.\n",
    "\n",
    "The datasets has been binned to reduce the file size and processing time."
   ]
  },
  {
   "cell_type": "markdown",
   "metadata": {},
   "source": [
    "# <a id='loading_and_aligning_data'></a> 2. Loading and aligning data"
   ]
  },
  {
   "cell_type": "code",
   "execution_count": 1,
   "metadata": {},
   "outputs": [],
   "source": [
    "%matplotlib qt\n",
    "import hyperspy.api as hs"
   ]
  },
  {
   "cell_type": "markdown",
   "metadata": {},
   "source": [
    "Here we take a look at a linescan from a La$_{0.7}$Sr$_{0.3}$MnO$_3$ thin film, where parts of the film has been bombarded with the electron beam for an extended time.\n",
    "\n",
    "We start by loading the core-loss dataset stored in `datasets/LSMO_linescan.hspy`"
   ]
  },
  {
   "cell_type": "code",
   "execution_count": 2,
   "metadata": {
    "tags": []
   },
   "outputs": [],
   "source": [
    "# open the \"datasets/LSMO_linescan.hspy\" file\n",
    "s = hs.load(\"datasets/LSMO_linescan.hspy\")"
   ]
  },
  {
   "cell_type": "markdown",
   "metadata": {},
   "source": [
    "Plot the signal, and use the red line in the navigation plot to explore the data. There is clearly something going on in the middle on both the oxygen and the manganese edges. In addition, there are some thickness changes during the line scan."
   ]
  },
  {
   "cell_type": "code",
   "execution_count": 3,
   "metadata": {
    "tags": []
   },
   "outputs": [],
   "source": [
    "# Plot the signal\n",
    "s.plot()"
   ]
  },
  {
   "cell_type": "markdown",
   "metadata": {},
   "source": [
    "Using the low loss signal, we make sure the energy scale is properly calibrated: `datasets/LSMO_linescan_low_loss.hspy`"
   ]
  },
  {
   "cell_type": "code",
   "execution_count": 4,
   "metadata": {
    "tags": []
   },
   "outputs": [],
   "source": [
    "# Open the \"datasets/LSMO_linescan_low_loss.hspy\"\n",
    "s_ll = hs.load(\"datasets/LSMO_linescan_low_loss.hspy\")"
   ]
  },
  {
   "cell_type": "markdown",
   "metadata": {},
   "source": [
    "We plot the low loss signal.\n",
    "`autoscale=\"\"` can be used to be disable resetting the zoom when changing the navigation coordinate."
   ]
  },
  {
   "cell_type": "code",
   "execution_count": 5,
   "metadata": {
    "tags": []
   },
   "outputs": [],
   "source": [
    "# Plot the signal setting the `autoscale` parameter to disable autoscale\n",
    "s_ll.plot(autoscale=\"\")"
   ]
  },
  {
   "cell_type": "markdown",
   "metadata": {},
   "source": [
    "The zero loss peak is not well aligned at 0 eV energy loss. We align both signals (low-loss and core-loss) by measuring the energy shift on the zero loss peak and applying the shifts to both signals."
   ]
  },
  {
   "cell_type": "code",
   "execution_count": 6,
   "metadata": {
    "tags": []
   },
   "outputs": [
    {
     "name": "stdout",
     "output_type": "stream",
     "text": [
      "Initial ZLP position statistics\n",
      "-------------------------------\n",
      "Summary statistics\n",
      "------------------\n",
      "mean:\t3.23\n",
      "std:\t0.249\n",
      "\n",
      "min:\t3\n",
      "Q1:\t3\n",
      "median:\t3\n",
      "Q3:\t3.5\n",
      "max:\t3.5\n"
     ]
    },
    {
     "data": {
      "application/vnd.jupyter.widget-view+json": {
       "model_id": "bdaeb02f5a4542fd9e56f7eb3b6d2d20",
       "version_major": 2,
       "version_minor": 0
      },
      "text/plain": [
       "  0%|          | 0/2 [00:00<?, ?it/s]"
      ]
     },
     "metadata": {},
     "output_type": "display_data"
    },
    {
     "data": {
      "application/vnd.jupyter.widget-view+json": {
       "model_id": "fdc5b56af5f04e56b167f394e358fa0d",
       "version_major": 2,
       "version_minor": 0
      },
      "text/plain": [
       "  0%|          | 0/2 [00:00<?, ?it/s]"
      ]
     },
     "metadata": {},
     "output_type": "display_data"
    },
    {
     "data": {
      "application/vnd.jupyter.widget-view+json": {
       "model_id": "f5075a30f70a49849d6d556ed51da548",
       "version_major": 2,
       "version_minor": 0
      },
      "text/plain": [
       "  0%|          | 0/2 [00:00<?, ?it/s]"
      ]
     },
     "metadata": {},
     "output_type": "display_data"
    },
    {
     "data": {
      "application/vnd.jupyter.widget-view+json": {
       "model_id": "ed394a5709584dec8225905064f1e2a4",
       "version_major": 2,
       "version_minor": 0
      },
      "text/plain": [
       "  0%|          | 0/2 [00:00<?, ?it/s]"
      ]
     },
     "metadata": {},
     "output_type": "display_data"
    },
    {
     "data": {
      "application/vnd.jupyter.widget-view+json": {
       "model_id": "7940e69cb0504b3fa347b6cfa1d2d09e",
       "version_major": 2,
       "version_minor": 0
      },
      "text/plain": [
       "  0%|          | 0/2 [00:00<?, ?it/s]"
      ]
     },
     "metadata": {},
     "output_type": "display_data"
    }
   ],
   "source": [
    "# align both signal (`s` and `s_ll`) using `align_zero_loss_peak`.\n",
    "s_ll.align_zero_loss_peak(also_align=[s])"
   ]
  },
  {
   "cell_type": "markdown",
   "metadata": {},
   "source": [
    "The plotted signal has updated and we can checked that the zero loss peak has been shifted to 0 energy loss.\n",
    "\n",
    "We can also calculate the relative thickness using the low loss, with the [`estimate_thickness`](https://hyperspy.org/exspy/reference/signals.html#exspy.signals.EELSSpectrum.estimate_thickness) method. We'll have to specify the end of the zero loss beam, which for cold field emissions guns 3.0 eV seems to work well."
   ]
  },
  {
   "cell_type": "code",
   "execution_count": 7,
   "metadata": {
    "tags": []
   },
   "outputs": [
    {
     "name": "stderr",
     "output_type": "stream",
     "text": [
      "Computing the thickness without taking into account the effect of the limited collection angle, what usually leads to underestimating the thickness. To perform the angular corrections you must provide the density of the material.\n",
      "Computing the relative thickness. To compute the absolute thickness provide the `mean_free_path` and/or the `density`\n"
     ]
    }
   ],
   "source": [
    "# Use the `estimate_thickness` method' specify the energy threshold\n",
    "s_thickness = s_ll.estimate_thickness(threshold=3.0)"
   ]
  },
  {
   "cell_type": "markdown",
   "metadata": {},
   "source": [
    "It would also be possible to use hyperspy to determine the threshold itself using:\n",
    "    \n",
    "    th = s_ll.estimate_elastic_scattering_threshold()\n",
    "    s_ll.estimate_thickness(threshold=th)"
   ]
  },
  {
   "cell_type": "markdown",
   "metadata": {},
   "source": [
    "Plotting this gives the relative thickness and, as expected, there is an increase towards the end of the line scan"
   ]
  },
  {
   "cell_type": "code",
   "execution_count": 8,
   "metadata": {
    "tags": []
   },
   "outputs": [],
   "source": [
    "# Plot the thickness\n",
    "s_thickness.T.plot()"
   ]
  },
  {
   "cell_type": "markdown",
   "metadata": {},
   "source": [
    "# <a id='fourier_ratio_deconvolution'></a> 3. Fourier ratio deconvolution and peak fitting"
   ]
  },
  {
   "cell_type": "markdown",
   "metadata": {},
   "source": [
    "## 3.1 Fourier ratio deconvolution\n",
    "Lets take a closer look at the oxygen-K edge, firstly by removing the plasmon background with `remove_background`. Note: this will overwrite the `s` spectrum with the cropped one. "
   ]
  },
  {
   "cell_type": "code",
   "execution_count": 9,
   "metadata": {
    "tags": []
   },
   "outputs": [],
   "source": [
    "# Remove the background using a signal range of (490, 520)\n",
    "s_bg_removed = s.remove_background(signal_range=(490, 520))\n",
    "# Plot the background subtracted signal\n",
    "s_bg_removed.plot()"
   ]
  },
  {
   "cell_type": "markdown",
   "metadata": {},
   "source": [
    "This makes it much easier to compare the different positions. Pressing 'e' with the spectrum window highlighted gives a second spectrum picker, which can be moved independently of the first one.\n",
    "\n",
    "We can then do Fourier ratio deconvolution to remove the effects of plural scattering using the [`fourier_ratio_deconvolution`](https://hyperspy.org/exspy/reference/signals.html#exspy.signals.EELSSpectrum.fourier_ratio_deconvolution) method:"
   ]
  },
  {
   "cell_type": "code",
   "execution_count": 10,
   "metadata": {
    "tags": []
   },
   "outputs": [
    {
     "data": {
      "application/vnd.jupyter.widget-view+json": {
       "model_id": "c42faf4f86fe4adc938433f98796f9ff",
       "version_major": 2,
       "version_minor": 0
      },
      "text/plain": [
       "  0%|          | 0/2 [00:00<?, ?it/s]"
      ]
     },
     "metadata": {},
     "output_type": "display_data"
    }
   ],
   "source": [
    "# Use the `fourier_ratio_deconvolution` method to perform Fourier ratio deconvolution\n",
    "s_deconvolved = s_bg_removed.fourier_ratio_deconvolution(s_ll)"
   ]
  },
  {
   "cell_type": "markdown",
   "metadata": {},
   "source": [
    "Plotting this, we see that the thickness effects has been greatly reduced towards the end of the line scan"
   ]
  },
  {
   "cell_type": "code",
   "execution_count": 11,
   "metadata": {
    "tags": []
   },
   "outputs": [],
   "source": [
    "# Plot the deconvolved signal\n",
    "s_deconvolved.plot()"
   ]
  },
  {
   "cell_type": "markdown",
   "metadata": {
    "tags": []
   },
   "source": [
    "For visualisation purposes, we can create a \"meaningless\" complex signal as a convenience to compare before and deconvolution, with\n",
    "the real (plotted in red) and imaginary (plotted in blue) part corresponding to the before and after deconvolution, respectively."
   ]
  },
  {
   "cell_type": "code",
   "execution_count": 12,
   "metadata": {
    "tags": []
   },
   "outputs": [],
   "source": [
    "# Create a \"meaningless but convenient\" complex signal to compare the signal before and after deconvolution \n",
    "comparison = s_bg_removed + s_deconvolved * 1j\n",
    "# Plot the comparison\n",
    "comparison.plot()"
   ]
  },
  {
   "cell_type": "markdown",
   "metadata": {
    "tags": []
   },
   "source": [
    "## 3.2 Peak fitting\n",
    "\n",
    "Since these peaks we are trying to fit overlapping strongly, the fit is highly susceptible to fall into a local minimum during fit optimisation that doesn't describe well the experimental data. To avoid this issue, we constrain (_guide_) the optimisation by using bounded fitting and setting the bounds ([`bmin` and `bmax`](https://hyperspy.org/hyperspy-doc/current/reference/base_classes/model/parameter.html#hyperspy.component.Parameter)) of the `sigma` parameter of the [`Gaussian`](https://hyperspy.org/hyperspy-doc/current/reference/api.model/components1D.html#hyperspy.api.model.components1D.Gaussian) components.\n",
    "\n",
    "The fitting approach consists in the following steps:\n",
    "1. set bounding: `bmin = 0.75` and `bmax = 3.5` for the `sigma` parameters. By default the `bmin` of the `A` parameter is set to 0. We could also contrain the `centre` parameter but the fit is satisfactionary without adding this constraint\n",
    "2. fit each component individually by specifying a fitting range. The order of the component fitting matters in this case: we start with the 2nd peak, then the 3rd and fit the 1st peak last. We choose to fit the first peak last because this peak is small and it overlaps strongly with the 2nd peak\n",
    "3. Fix the `centre` parameter\n",
    "4. refine the fit by fitting all components together\n",
    "\n",
    "Alternative approaches could be considered, for example, setting the bounds to the `centre` parameter and/or avoid fixing the centre at a later could be worth trying."
   ]
  },
  {
   "cell_type": "markdown",
   "metadata": {
    "tags": []
   },
   "source": [
    "As a convenience, we start by cropping the signal in energy to the region of interest - this is not necessary but it makes visualisation slightly easier."
   ]
  },
  {
   "cell_type": "code",
   "execution_count": 13,
   "metadata": {
    "tags": []
   },
   "outputs": [],
   "source": [
    "# Use the `crop_signal` method to crop to the energy region of (500, 570)\n",
    "s_deconvolved.crop_signal(500., 560.)"
   ]
  },
  {
   "cell_type": "markdown",
   "metadata": {
    "tags": []
   },
   "source": [
    "We create a model without a background because it was already removed before the deconvolution"
   ]
  },
  {
   "cell_type": "code",
   "execution_count": 14,
   "metadata": {
    "tags": []
   },
   "outputs": [],
   "source": [
    "# Create a model without background\n",
    "m = s_deconvolved.create_model(auto_background=False)"
   ]
  },
  {
   "cell_type": "code",
   "execution_count": 15,
   "metadata": {
    "tags": []
   },
   "outputs": [],
   "source": [
    "# Plot the model and its components individually\n",
    "m.plot(True)"
   ]
  },
  {
   "cell_type": "markdown",
   "metadata": {
    "tags": []
   },
   "source": [
    "We will fit three Gaussian functions to the edge. We create these componenents and add them to the model."
   ]
  },
  {
   "cell_type": "code",
   "execution_count": 16,
   "metadata": {
    "tags": []
   },
   "outputs": [],
   "source": [
    "g1 = hs.model.components1D.Gaussian()\n",
    "g1.name = \"O_K_peak1\"\n",
    "g2 = hs.model.components1D.Gaussian()\n",
    "g2.name = \"O_K_peak2\"\n",
    "g3 = hs.model.components1D.Gaussian()\n",
    "g3.name = \"O_K_peak3\""
   ]
  },
  {
   "cell_type": "code",
   "execution_count": 17,
   "metadata": {
    "tags": []
   },
   "outputs": [],
   "source": [
    "# Add these components to the model\n",
    "m.extend([g1, g2, g3])"
   ]
  },
  {
   "cell_type": "markdown",
   "metadata": {
    "tags": []
   },
   "source": [
    "Step 1: set the bounds of the `sigma` parameter"
   ]
  },
  {
   "cell_type": "code",
   "execution_count": 18,
   "metadata": {
    "tags": []
   },
   "outputs": [],
   "source": [
    "# Set the bmin and bmax of the `sigma` parameter of all Gaussian components\n",
    "for g in [g1, g2, g3]:\n",
    "    g.sigma.bmin = 0.75\n",
    "    g.sigma.bmax = 3.5"
   ]
  },
  {
   "cell_type": "markdown",
   "metadata": {
    "tags": []
   },
   "source": [
    "Now we fit the components individually, starting from the 2nd peak as described previously"
   ]
  },
  {
   "cell_type": "markdown",
   "metadata": {
    "tags": []
   },
   "source": [
    "Step 2: fit each component individually"
   ]
  },
  {
   "cell_type": "code",
   "execution_count": 19,
   "metadata": {
    "tags": []
   },
   "outputs": [
    {
     "data": {
      "application/vnd.jupyter.widget-view+json": {
       "model_id": "212689b56d984414b9d455b8e4274a8f",
       "version_major": 2,
       "version_minor": 0
      },
      "text/plain": [
       "  0%|          | 0/40 [00:00<?, ?it/s]"
      ]
     },
     "metadata": {},
     "output_type": "display_data"
    }
   ],
   "source": [
    "# Use the `fit_component` method of the model to fit the 2nd component\n",
    "# specify signal range (528., 532.); fit all navigation coordinates; Use bounded fit\n",
    "m.fit_component(g2, signal_range=(528., 532.), only_current=False, bounded=True)"
   ]
  },
  {
   "cell_type": "code",
   "execution_count": 20,
   "metadata": {
    "tags": []
   },
   "outputs": [
    {
     "data": {
      "application/vnd.jupyter.widget-view+json": {
       "model_id": "93a1863265034f0cacdac2dec59d42ee",
       "version_major": 2,
       "version_minor": 0
      },
      "text/plain": [
       "  0%|          | 0/40 [00:00<?, ?it/s]"
      ]
     },
     "metadata": {},
     "output_type": "display_data"
    }
   ],
   "source": [
    "# Same as last cell but for 3rd component; use signal range (535., 540.)\n",
    "m.fit_component(g3, signal_range=(535., 540.), only_current=False, bounded=True)"
   ]
  },
  {
   "cell_type": "code",
   "execution_count": 21,
   "metadata": {
    "tags": []
   },
   "outputs": [
    {
     "data": {
      "application/vnd.jupyter.widget-view+json": {
       "model_id": "de4be893ce244cc5a5f458d5d9165388",
       "version_major": 2,
       "version_minor": 0
      },
      "text/plain": [
       "  0%|          | 0/40 [00:00<?, ?it/s]"
      ]
     },
     "metadata": {},
     "output_type": "display_data"
    }
   ],
   "source": [
    "# Same as last cell but for 1st component; use signal range (523., 526.)\n",
    "m.fit_component(g1, signal_range=(523., 526.), only_current=False, bounded=True)"
   ]
  },
  {
   "cell_type": "markdown",
   "metadata": {
    "scrolled": true,
    "tags": []
   },
   "source": [
    "Step 3: fix the `centre` parameter of the three Gaussian components"
   ]
  },
  {
   "cell_type": "code",
   "execution_count": 22,
   "metadata": {
    "scrolled": true,
    "tags": []
   },
   "outputs": [],
   "source": [
    "# Use the `set_parameters_not_free` method of the model  \n",
    "m.set_parameters_not_free(parameter_name_list=[\"centre\"])"
   ]
  },
  {
   "cell_type": "markdown",
   "metadata": {
    "scrolled": true,
    "tags": []
   },
   "source": [
    "Fit for the current position to check that the fit converge to a satisfactory minimum; a few positions can be checked"
   ]
  },
  {
   "cell_type": "code",
   "execution_count": 23,
   "metadata": {
    "scrolled": true,
    "tags": []
   },
   "outputs": [
    {
     "data": {
      "text/plain": [
       " message: \n",
       " success: True\n",
       "  status: 1\n",
       "       x: [ 5.739e+05  1.309e+00  1.540e+06  1.773e+00  2.833e+06\n",
       "            3.500e+00]\n",
       "     nit: 9\n",
       "   covar: [[ 1.781e+01  2.948e-05 ...  2.594e+00  0.000e+00]\n",
       "           [ 2.948e-05  1.147e-10 ...  5.636e-06  0.000e+00]\n",
       "           ...\n",
       "           [ 2.594e+00  5.636e-06 ...  2.675e+01  0.000e+00]\n",
       "           [ 0.000e+00  0.000e+00 ...  0.000e+00  0.000e+00]]\n",
       "  perror: [ 4.220e+00  1.071e-05  4.922e+00  6.625e-06  5.172e+00\n",
       "            0.000e+00]\n",
       "    nfev: 58\n",
       "     dof: 114\n",
       "   fnorm: 257194712132.09842"
      ]
     },
     "execution_count": 23,
     "metadata": {},
     "output_type": "execute_result"
    }
   ],
   "source": [
    "# Make sure to use bounded fit\n",
    "m.fit(bounded=True)"
   ]
  },
  {
   "cell_type": "markdown",
   "metadata": {
    "scrolled": true,
    "tags": []
   },
   "source": [
    "Once satisfied with current fit, fit for all navigation positions"
   ]
  },
  {
   "cell_type": "code",
   "execution_count": 24,
   "metadata": {
    "scrolled": true,
    "tags": []
   },
   "outputs": [
    {
     "data": {
      "application/vnd.jupyter.widget-view+json": {
       "model_id": "536a2ff507604a13a1195a25ce904cfc",
       "version_major": 2,
       "version_minor": 0
      },
      "text/plain": [
       "  0%|          | 0/40 [00:00<?, ?it/s]"
      ]
     },
     "metadata": {},
     "output_type": "display_data"
    }
   ],
   "source": [
    "# use `multifit` with bounding\n",
    "m.multifit(bounded=True)"
   ]
  },
  {
   "cell_type": "markdown",
   "metadata": {},
   "source": [
    "# <a id='fine_structure_fitting'></a> 4. Fine structure fitting with convolution\n"
   ]
  },
  {
   "cell_type": "markdown",
   "metadata": {},
   "source": [
    "In this section, we will use a different approach: instead of performing a deconvolution before the fitting, we will convolve the mode during fitting. The second approach is expected to provide more accurate results and be more robust because of the following reasons:\n",
    "- convolution is numerical more stable than deconvolution accross different experimental dataset, mostly because deconvolution is not a trivial problem to solve numerically: it uses iterative approaches and can also introduce artefacts.\n",
    "- Fitting background and edges together usually better describe the experimental data.\n",
    "\n",
    "We reload and align the data. Similarly as in the previous section, we start by cropping a region of the O-K edge, for example 450 to 590 eV as a convenience - here, we will use a wider signal range to fit the background and edges."
   ]
  },
  {
   "cell_type": "code",
   "execution_count": 25,
   "metadata": {},
   "outputs": [
    {
     "name": "stdout",
     "output_type": "stream",
     "text": [
      "Initial ZLP position statistics\n",
      "-------------------------------\n",
      "Summary statistics\n",
      "------------------\n",
      "mean:\t3.23\n",
      "std:\t0.249\n",
      "\n",
      "min:\t3\n",
      "Q1:\t3\n",
      "median:\t3\n",
      "Q3:\t3.5\n",
      "max:\t3.5\n"
     ]
    },
    {
     "data": {
      "application/vnd.jupyter.widget-view+json": {
       "model_id": "01123db3abb14f14ac353f9ee4fd02ba",
       "version_major": 2,
       "version_minor": 0
      },
      "text/plain": [
       "  0%|          | 0/2 [00:00<?, ?it/s]"
      ]
     },
     "metadata": {},
     "output_type": "display_data"
    },
    {
     "data": {
      "application/vnd.jupyter.widget-view+json": {
       "model_id": "61dba9a4e7054b08b6eee6c9026e3997",
       "version_major": 2,
       "version_minor": 0
      },
      "text/plain": [
       "  0%|          | 0/2 [00:00<?, ?it/s]"
      ]
     },
     "metadata": {},
     "output_type": "display_data"
    },
    {
     "data": {
      "application/vnd.jupyter.widget-view+json": {
       "model_id": "bc5903db777249afb9127080e2549fed",
       "version_major": 2,
       "version_minor": 0
      },
      "text/plain": [
       "  0%|          | 0/2 [00:00<?, ?it/s]"
      ]
     },
     "metadata": {},
     "output_type": "display_data"
    },
    {
     "data": {
      "application/vnd.jupyter.widget-view+json": {
       "model_id": "15319e9e78ea4290ad3d879005ac9d5f",
       "version_major": 2,
       "version_minor": 0
      },
      "text/plain": [
       "  0%|          | 0/2 [00:00<?, ?it/s]"
      ]
     },
     "metadata": {},
     "output_type": "display_data"
    },
    {
     "data": {
      "application/vnd.jupyter.widget-view+json": {
       "model_id": "a213ef42ea1a469783e10a58cd17b275",
       "version_major": 2,
       "version_minor": 0
      },
      "text/plain": [
       "  0%|          | 0/2 [00:00<?, ?it/s]"
      ]
     },
     "metadata": {},
     "output_type": "display_data"
    }
   ],
   "source": [
    "s2 = hs.load(\"datasets/LSMO_linescan.hspy\")\n",
    "s2_ll = hs.load(\"datasets/LSMO_linescan_low_loss.hspy\")\n",
    "s2_ll.align_zero_loss_peak(also_align=[s2])\n",
    "s2.crop_signal(450., 590.)"
   ]
  },
  {
   "cell_type": "markdown",
   "metadata": {},
   "source": [
    "We will also check that the elements are correctly in [`metadata.Sample.elements`](https://hyperspy.org/exspy/user_guide/metadata_structure.html)"
   ]
  },
  {
   "cell_type": "code",
   "execution_count": 26,
   "metadata": {},
   "outputs": [
    {
     "data": {
      "text/html": [
       "<ul style=\"margin: 0px; list-style-position: outside;\">\n",
       "                    <details open>\n",
       "                    <summary style=\"display: list-item;\">\n",
       "                    <li style=\"display: inline;\">\n",
       "                    Acquisition_instrument\n",
       "                    </li></summary>\n",
       "                    <ul style=\"margin: 0px; list-style-position: outside;\">\n",
       "                    <details closed>\n",
       "                    <summary style=\"display: list-item;\">\n",
       "                    <li style=\"display: inline;\">\n",
       "                    TEM\n",
       "                    </li></summary>\n",
       "                    <ul style=\"margin: 0px; list-style-position: outside;\">\n",
       "                    <details closed>\n",
       "                    <summary style=\"display: list-item;\">\n",
       "                    <li style=\"display: inline;\">\n",
       "                    Detector\n",
       "                    </li></summary>\n",
       "                    <ul style=\"margin: 0px; list-style-position: outside;\">\n",
       "                    <details closed>\n",
       "                    <summary style=\"display: list-item;\">\n",
       "                    <li style=\"display: inline;\">\n",
       "                    EELS\n",
       "                    </li></summary>\n",
       "                    \n",
       "    <ul style=\"margin: 0px; list-style-position: outside;\">\n",
       "    <li style='margin-left:1em; padding-left: 0.5em'>collection_angle = np.float64(33.19)</li></ul>\n",
       "    </details></ul></details></ul>\n",
       "    <ul style=\"margin: 0px; list-style-position: outside;\">\n",
       "    <li style='margin-left:1em; padding-left: 0.5em'>beam_energy = np.float64(80.0)</li></ul>\n",
       "    \n",
       "    <ul style=\"margin: 0px; list-style-position: outside;\">\n",
       "    <li style='margin-left:1em; padding-left: 0.5em'>convergence_angle = np.float64(27.42)</li></ul>\n",
       "    \n",
       "    <ul style=\"margin: 0px; list-style-position: outside;\">\n",
       "    <li style='margin-left:1em; padding-left: 0.5em'>dwell_time = np.float64(0.1)</li></ul>\n",
       "    </details></ul></details></ul><ul style=\"margin: 0px; list-style-position: outside;\">\n",
       "                    <details open>\n",
       "                    <summary style=\"display: list-item;\">\n",
       "                    <li style=\"display: inline;\">\n",
       "                    General\n",
       "                    </li></summary>\n",
       "                    <ul style=\"margin: 0px; list-style-position: outside;\">\n",
       "                    <details closed>\n",
       "                    <summary style=\"display: list-item;\">\n",
       "                    <li style=\"display: inline;\">\n",
       "                    FileIO\n",
       "                    </li></summary>\n",
       "                    <ul style=\"margin: 0px; list-style-position: outside;\">\n",
       "                    <details closed>\n",
       "                    <summary style=\"display: list-item;\">\n",
       "                    <li style=\"display: inline;\">\n",
       "                    0\n",
       "                    </li></summary>\n",
       "                    \n",
       "    <ul style=\"margin: 0px; list-style-position: outside;\">\n",
       "    <li style='margin-left:1em; padding-left: 0.5em'>hyperspy_version = 2.0</li></ul>\n",
       "    \n",
       "    <ul style=\"margin: 0px; list-style-position: outside;\">\n",
       "    <li style='margin-left:1em; padding-left: 0.5em'>io_plugin = rsciio.hspy</li></ul>\n",
       "    \n",
       "    <ul style=\"margin: 0px; list-style-position: outside;\">\n",
       "    <li style='margin-left:1em; padding-left: 0.5em'>operation = load</li></ul>\n",
       "    \n",
       "    <ul style=\"margin: 0px; list-style-position: outside;\">\n",
       "    <li style='margin-left:1em; padding-left: 0.5em'>timestamp = 2024-03-09T17:51:54.322801+01:00</li></ul>\n",
       "    </details></ul><ul style=\"margin: 0px; list-style-position: outside;\">\n",
       "                    <details closed>\n",
       "                    <summary style=\"display: list-item;\">\n",
       "                    <li style=\"display: inline;\">\n",
       "                    1\n",
       "                    </li></summary>\n",
       "                    \n",
       "    <ul style=\"margin: 0px; list-style-position: outside;\">\n",
       "    <li style='margin-left:1em; padding-left: 0.5em'>hyperspy_version = 2.0</li></ul>\n",
       "    \n",
       "    <ul style=\"margin: 0px; list-style-position: outside;\">\n",
       "    <li style='margin-left:1em; padding-left: 0.5em'>io_plugin = rsciio.hspy</li></ul>\n",
       "    \n",
       "    <ul style=\"margin: 0px; list-style-position: outside;\">\n",
       "    <li style='margin-left:1em; padding-left: 0.5em'>operation = save</li></ul>\n",
       "    \n",
       "    <ul style=\"margin: 0px; list-style-position: outside;\">\n",
       "    <li style='margin-left:1em; padding-left: 0.5em'>timestamp = 2024-03-09T17:52:04.954963+01:00</li></ul>\n",
       "    </details></ul><ul style=\"margin: 0px; list-style-position: outside;\">\n",
       "                    <details closed>\n",
       "                    <summary style=\"display: list-item;\">\n",
       "                    <li style=\"display: inline;\">\n",
       "                    2\n",
       "                    </li></summary>\n",
       "                    \n",
       "    <ul style=\"margin: 0px; list-style-position: outside;\">\n",
       "    <li style='margin-left:1em; padding-left: 0.5em'>hyperspy_version = 2.4.0.dev3+g8ac7020d2</li></ul>\n",
       "    \n",
       "    <ul style=\"margin: 0px; list-style-position: outside;\">\n",
       "    <li style='margin-left:1em; padding-left: 0.5em'>io_plugin = rsciio.hspy</li></ul>\n",
       "    \n",
       "    <ul style=\"margin: 0px; list-style-position: outside;\">\n",
       "    <li style='margin-left:1em; padding-left: 0.5em'>operation = load</li></ul>\n",
       "    \n",
       "    <ul style=\"margin: 0px; list-style-position: outside;\">\n",
       "    <li style='margin-left:1em; padding-left: 0.5em'>timestamp = 2025-06-02T19:17:22.009211+01:00</li></ul>\n",
       "    </details></ul></details></ul>\n",
       "    <ul style=\"margin: 0px; list-style-position: outside;\">\n",
       "    <li style='margin-left:1em; padding-left: 0.5em'>original_filename = EELS Spectrum Image (high-loss).dm3</li></ul>\n",
       "    \n",
       "    <ul style=\"margin: 0px; list-style-position: outside;\">\n",
       "    <li style='margin-left:1em; padding-left: 0.5em'>title = EELS Spectrum Image (high-loss)</li></ul>\n",
       "    </details></ul><ul style=\"margin: 0px; list-style-position: outside;\">\n",
       "                    <details open>\n",
       "                    <summary style=\"display: list-item;\">\n",
       "                    <li style=\"display: inline;\">\n",
       "                    Signal\n",
       "                    </li></summary>\n",
       "                    \n",
       "    <ul style=\"margin: 0px; list-style-position: outside;\">\n",
       "    <li style='margin-left:1em; padding-left: 0.5em'>signal_origin = </li></ul>\n",
       "    \n",
       "    <ul style=\"margin: 0px; list-style-position: outside;\">\n",
       "    <li style='margin-left:1em; padding-left: 0.5em'>signal_type = EELS</li></ul>\n",
       "    </details></ul>"
      ],
      "text/plain": [
       "├── Acquisition_instrument\n",
       "│   └── TEM\n",
       "│       ├── Detector\n",
       "│       │   └── EELS\n",
       "│       │       └── collection_angle = np.float64(33.19)\n",
       "│       ├── beam_energy = np.float64(80.0)\n",
       "│       ├── convergence_angle = np.float64(27.42)\n",
       "│       └── dwell_time = np.float64(0.1)\n",
       "├── General\n",
       "│   ├── FileIO\n",
       "│   │   ├── 0\n",
       "│   │   │   ├── hyperspy_version = 2.0\n",
       "│   │   │   ├── io_plugin = rsciio.hspy\n",
       "│   │   │   ├── operation = load\n",
       "│   │   │   └── timestamp = 2024-03-09T17:51:54.322801+01:00\n",
       "│   │   ├── 1\n",
       "│   │   │   ├── hyperspy_version = 2.0\n",
       "│   │   │   ├── io_plugin = rsciio.hspy\n",
       "│   │   │   ├── operation = save\n",
       "│   │   │   └── timestamp = 2024-03-09T17:52:04.954963+01:00\n",
       "│   │   └── 2\n",
       "│   │       ├── hyperspy_version = 2.4.0.dev3+g8ac7020d2\n",
       "│   │       ├── io_plugin = rsciio.hspy\n",
       "│   │       ├── operation = load\n",
       "│   │       └── timestamp = 2025-06-02T19:17:22.009211+01:00\n",
       "│   ├── original_filename = EELS Spectrum Image (high-loss).dm3\n",
       "│   └── title = EELS Spectrum Image (high-loss)\n",
       "└── Signal\n",
       "    ├── signal_origin = \n",
       "    └── signal_type = EELS"
      ]
     },
     "execution_count": 26,
     "metadata": {},
     "output_type": "execute_result"
    }
   ],
   "source": [
    "# Display the metadata\n",
    "s2.metadata"
   ]
  },
  {
   "cell_type": "markdown",
   "metadata": {
    "tags": []
   },
   "source": [
    "As no elements is defined in the metadata, we add them using the [`add_elements`](https://hyperspy.org/exspy/reference/signals.html#exspy.signals.EELSSpectrum.add_elements) method"
   ]
  },
  {
   "cell_type": "code",
   "execution_count": 27,
   "metadata": {
    "scrolled": true,
    "tags": []
   },
   "outputs": [
    {
     "data": {
      "text/html": [
       "<ul style=\"margin: 0px; list-style-position: outside;\">\n",
       "                    <details open>\n",
       "                    <summary style=\"display: list-item;\">\n",
       "                    <li style=\"display: inline;\">\n",
       "                    Acquisition_instrument\n",
       "                    </li></summary>\n",
       "                    <ul style=\"margin: 0px; list-style-position: outside;\">\n",
       "                    <details closed>\n",
       "                    <summary style=\"display: list-item;\">\n",
       "                    <li style=\"display: inline;\">\n",
       "                    TEM\n",
       "                    </li></summary>\n",
       "                    <ul style=\"margin: 0px; list-style-position: outside;\">\n",
       "                    <details closed>\n",
       "                    <summary style=\"display: list-item;\">\n",
       "                    <li style=\"display: inline;\">\n",
       "                    Detector\n",
       "                    </li></summary>\n",
       "                    <ul style=\"margin: 0px; list-style-position: outside;\">\n",
       "                    <details closed>\n",
       "                    <summary style=\"display: list-item;\">\n",
       "                    <li style=\"display: inline;\">\n",
       "                    EELS\n",
       "                    </li></summary>\n",
       "                    \n",
       "    <ul style=\"margin: 0px; list-style-position: outside;\">\n",
       "    <li style='margin-left:1em; padding-left: 0.5em'>collection_angle = np.float64(33.19)</li></ul>\n",
       "    </details></ul></details></ul>\n",
       "    <ul style=\"margin: 0px; list-style-position: outside;\">\n",
       "    <li style='margin-left:1em; padding-left: 0.5em'>beam_energy = np.float64(80.0)</li></ul>\n",
       "    \n",
       "    <ul style=\"margin: 0px; list-style-position: outside;\">\n",
       "    <li style='margin-left:1em; padding-left: 0.5em'>convergence_angle = np.float64(27.42)</li></ul>\n",
       "    \n",
       "    <ul style=\"margin: 0px; list-style-position: outside;\">\n",
       "    <li style='margin-left:1em; padding-left: 0.5em'>dwell_time = np.float64(0.1)</li></ul>\n",
       "    </details></ul></details></ul><ul style=\"margin: 0px; list-style-position: outside;\">\n",
       "                    <details open>\n",
       "                    <summary style=\"display: list-item;\">\n",
       "                    <li style=\"display: inline;\">\n",
       "                    General\n",
       "                    </li></summary>\n",
       "                    <ul style=\"margin: 0px; list-style-position: outside;\">\n",
       "                    <details closed>\n",
       "                    <summary style=\"display: list-item;\">\n",
       "                    <li style=\"display: inline;\">\n",
       "                    FileIO\n",
       "                    </li></summary>\n",
       "                    <ul style=\"margin: 0px; list-style-position: outside;\">\n",
       "                    <details closed>\n",
       "                    <summary style=\"display: list-item;\">\n",
       "                    <li style=\"display: inline;\">\n",
       "                    0\n",
       "                    </li></summary>\n",
       "                    \n",
       "    <ul style=\"margin: 0px; list-style-position: outside;\">\n",
       "    <li style='margin-left:1em; padding-left: 0.5em'>hyperspy_version = 2.0</li></ul>\n",
       "    \n",
       "    <ul style=\"margin: 0px; list-style-position: outside;\">\n",
       "    <li style='margin-left:1em; padding-left: 0.5em'>io_plugin = rsciio.hspy</li></ul>\n",
       "    \n",
       "    <ul style=\"margin: 0px; list-style-position: outside;\">\n",
       "    <li style='margin-left:1em; padding-left: 0.5em'>operation = load</li></ul>\n",
       "    \n",
       "    <ul style=\"margin: 0px; list-style-position: outside;\">\n",
       "    <li style='margin-left:1em; padding-left: 0.5em'>timestamp = 2024-03-09T17:51:54.322801+01:00</li></ul>\n",
       "    </details></ul><ul style=\"margin: 0px; list-style-position: outside;\">\n",
       "                    <details closed>\n",
       "                    <summary style=\"display: list-item;\">\n",
       "                    <li style=\"display: inline;\">\n",
       "                    1\n",
       "                    </li></summary>\n",
       "                    \n",
       "    <ul style=\"margin: 0px; list-style-position: outside;\">\n",
       "    <li style='margin-left:1em; padding-left: 0.5em'>hyperspy_version = 2.0</li></ul>\n",
       "    \n",
       "    <ul style=\"margin: 0px; list-style-position: outside;\">\n",
       "    <li style='margin-left:1em; padding-left: 0.5em'>io_plugin = rsciio.hspy</li></ul>\n",
       "    \n",
       "    <ul style=\"margin: 0px; list-style-position: outside;\">\n",
       "    <li style='margin-left:1em; padding-left: 0.5em'>operation = save</li></ul>\n",
       "    \n",
       "    <ul style=\"margin: 0px; list-style-position: outside;\">\n",
       "    <li style='margin-left:1em; padding-left: 0.5em'>timestamp = 2024-03-09T17:52:04.954963+01:00</li></ul>\n",
       "    </details></ul><ul style=\"margin: 0px; list-style-position: outside;\">\n",
       "                    <details closed>\n",
       "                    <summary style=\"display: list-item;\">\n",
       "                    <li style=\"display: inline;\">\n",
       "                    2\n",
       "                    </li></summary>\n",
       "                    \n",
       "    <ul style=\"margin: 0px; list-style-position: outside;\">\n",
       "    <li style='margin-left:1em; padding-left: 0.5em'>hyperspy_version = 2.4.0.dev3+g8ac7020d2</li></ul>\n",
       "    \n",
       "    <ul style=\"margin: 0px; list-style-position: outside;\">\n",
       "    <li style='margin-left:1em; padding-left: 0.5em'>io_plugin = rsciio.hspy</li></ul>\n",
       "    \n",
       "    <ul style=\"margin: 0px; list-style-position: outside;\">\n",
       "    <li style='margin-left:1em; padding-left: 0.5em'>operation = load</li></ul>\n",
       "    \n",
       "    <ul style=\"margin: 0px; list-style-position: outside;\">\n",
       "    <li style='margin-left:1em; padding-left: 0.5em'>timestamp = 2025-06-02T19:17:22.009211+01:00</li></ul>\n",
       "    </details></ul></details></ul>\n",
       "    <ul style=\"margin: 0px; list-style-position: outside;\">\n",
       "    <li style='margin-left:1em; padding-left: 0.5em'>original_filename = EELS Spectrum Image (high-loss).dm3</li></ul>\n",
       "    \n",
       "    <ul style=\"margin: 0px; list-style-position: outside;\">\n",
       "    <li style='margin-left:1em; padding-left: 0.5em'>title = EELS Spectrum Image (high-loss)</li></ul>\n",
       "    </details></ul><ul style=\"margin: 0px; list-style-position: outside;\">\n",
       "                    <details open>\n",
       "                    <summary style=\"display: list-item;\">\n",
       "                    <li style=\"display: inline;\">\n",
       "                    Sample\n",
       "                    </li></summary>\n",
       "                    \n",
       "    <ul style=\"margin: 0px; list-style-position: outside;\">\n",
       "    <li style='margin-left:1em; padding-left: 0.5em'>elements = ['O']</li></ul>\n",
       "    </details></ul><ul style=\"margin: 0px; list-style-position: outside;\">\n",
       "                    <details open>\n",
       "                    <summary style=\"display: list-item;\">\n",
       "                    <li style=\"display: inline;\">\n",
       "                    Signal\n",
       "                    </li></summary>\n",
       "                    \n",
       "    <ul style=\"margin: 0px; list-style-position: outside;\">\n",
       "    <li style='margin-left:1em; padding-left: 0.5em'>signal_origin = </li></ul>\n",
       "    \n",
       "    <ul style=\"margin: 0px; list-style-position: outside;\">\n",
       "    <li style='margin-left:1em; padding-left: 0.5em'>signal_type = EELS</li></ul>\n",
       "    </details></ul>"
      ],
      "text/plain": [
       "├── Acquisition_instrument\n",
       "│   └── TEM\n",
       "│       ├── Detector\n",
       "│       │   └── EELS\n",
       "│       │       └── collection_angle = np.float64(33.19)\n",
       "│       ├── beam_energy = np.float64(80.0)\n",
       "│       ├── convergence_angle = np.float64(27.42)\n",
       "│       └── dwell_time = np.float64(0.1)\n",
       "├── General\n",
       "│   ├── FileIO\n",
       "│   │   ├── 0\n",
       "│   │   │   ├── hyperspy_version = 2.0\n",
       "│   │   │   ├── io_plugin = rsciio.hspy\n",
       "│   │   │   ├── operation = load\n",
       "│   │   │   └── timestamp = 2024-03-09T17:51:54.322801+01:00\n",
       "│   │   ├── 1\n",
       "│   │   │   ├── hyperspy_version = 2.0\n",
       "│   │   │   ├── io_plugin = rsciio.hspy\n",
       "│   │   │   ├── operation = save\n",
       "│   │   │   └── timestamp = 2024-03-09T17:52:04.954963+01:00\n",
       "│   │   └── 2\n",
       "│   │       ├── hyperspy_version = 2.4.0.dev3+g8ac7020d2\n",
       "│   │       ├── io_plugin = rsciio.hspy\n",
       "│   │       ├── operation = load\n",
       "│   │       └── timestamp = 2025-06-02T19:17:22.009211+01:00\n",
       "│   ├── original_filename = EELS Spectrum Image (high-loss).dm3\n",
       "│   └── title = EELS Spectrum Image (high-loss)\n",
       "├── Sample\n",
       "│   └── elements = ['O']\n",
       "└── Signal\n",
       "    ├── signal_origin = \n",
       "    └── signal_type = EELS"
      ]
     },
     "execution_count": 27,
     "metadata": {},
     "output_type": "execute_result"
    }
   ],
   "source": [
    "s2.add_elements((\"O\", ))\n",
    "s2.metadata"
   ]
  },
  {
   "cell_type": "markdown",
   "metadata": {
    "tags": []
   },
   "source": [
    "We create the model. We pass the low-loss signal to take into account multiple scattering into the model: the model will be convolved with a the low-loss before being fitted to the data."
   ]
  },
  {
   "cell_type": "code",
   "execution_count": 28,
   "metadata": {
    "tags": []
   },
   "outputs": [],
   "source": [
    "# Use the `create_model` method from the signal; don't forget to set the low loss\n",
    "m2 = s2.create_model(low_loss=s2_ll)"
   ]
  },
  {
   "cell_type": "markdown",
   "metadata": {
    "tags": []
   },
   "source": [
    "We check that we have the expected components: a background the `O_K` edges "
   ]
  },
  {
   "cell_type": "code",
   "execution_count": 29,
   "metadata": {
    "tags": []
   },
   "outputs": [
    {
     "data": {
      "text/plain": [
       "   # |      Attribute Name |      Component Name |      Component Type\n",
       "---- | ------------------- | ------------------- | -------------------\n",
       "   0 |            PowerLaw |            PowerLaw |            PowerLaw\n",
       "   1 |                 O_K |                 O_K |          EELSCLEdge"
      ]
     },
     "execution_count": 29,
     "metadata": {},
     "output_type": "execute_result"
    }
   ],
   "source": [
    "m2.components"
   ]
  },
  {
   "cell_type": "markdown",
   "metadata": {
    "tags": []
   },
   "source": [
    "We plot the model with the individually components as we will used these to observe how the fit proceed"
   ]
  },
  {
   "cell_type": "code",
   "execution_count": 30,
   "metadata": {
    "tags": []
   },
   "outputs": [],
   "source": [
    "m2.plot(True)"
   ]
  },
  {
   "cell_type": "markdown",
   "metadata": {
    "tags": []
   },
   "source": [
    "We perform a smart fit to fit components before fitting the peaks of the fine structure"
   ]
  },
  {
   "cell_type": "code",
   "execution_count": 31,
   "metadata": {
    "tags": []
   },
   "outputs": [],
   "source": [
    "m2.smart_fit()"
   ]
  },
  {
   "cell_type": "markdown",
   "metadata": {
    "tags": []
   },
   "source": [
    "As we can notice that the edge position doesn't describe well the data, we adjust the `onset_energy`. Visual inspecting shows us that the onset is at 524 eV. We want to do that for all navigation positions."
   ]
  },
  {
   "cell_type": "code",
   "execution_count": 32,
   "metadata": {
    "tags": []
   },
   "outputs": [],
   "source": [
    "# Use the `set_parameters_value` method from the model\n",
    "m2.set_parameters_value(\"onset_energy\", 524, component_list=[1])"
   ]
  },
  {
   "cell_type": "markdown",
   "metadata": {
    "tags": []
   },
   "source": [
    "We run a fit again to check how the fit improves"
   ]
  },
  {
   "cell_type": "code",
   "execution_count": 33,
   "metadata": {
    "tags": []
   },
   "outputs": [],
   "source": [
    "m2.smart_fit()"
   ]
  },
  {
   "cell_type": "markdown",
   "metadata": {
    "tags": []
   },
   "source": [
    "Once we have satisfy with the current fit, fit all navigation positions"
   ]
  },
  {
   "cell_type": "code",
   "execution_count": 34,
   "metadata": {
    "tags": []
   },
   "outputs": [
    {
     "data": {
      "application/vnd.jupyter.widget-view+json": {
       "model_id": "cfe7f6bae6204d7e97d13de26f46ac2a",
       "version_major": 2,
       "version_minor": 0
      },
      "text/plain": [
       "  0%|          | 0/40 [00:00<?, ?it/s]"
      ]
     },
     "metadata": {},
     "output_type": "display_data"
    }
   ],
   "source": [
    "m2.multifit(kind=\"smart\")"
   ]
  },
  {
   "cell_type": "markdown",
   "metadata": {},
   "source": [
    "We enable the fine structure and set the `fine_structure_width` to 30. Further documentation is available in the [eXSpy user guide](https://hyperspy.org/exspy/user_guide/eels.html#fine-structure-analysis-using-gaussian-functions)."
   ]
  },
  {
   "cell_type": "code",
   "execution_count": 35,
   "metadata": {
    "tags": []
   },
   "outputs": [],
   "source": [
    "m2.enable_fine_structure()\n",
    "m2[1].fine_structure_width = 30"
   ]
  },
  {
   "cell_type": "markdown",
   "metadata": {
    "tags": []
   },
   "source": [
    "We fit all navigation positions."
   ]
  },
  {
   "cell_type": "code",
   "execution_count": 36,
   "metadata": {
    "tags": []
   },
   "outputs": [
    {
     "data": {
      "application/vnd.jupyter.widget-view+json": {
       "model_id": "4d68a6b736a14902b9b7edd3d6893217",
       "version_major": 2,
       "version_minor": 0
      },
      "text/plain": [
       "  0%|          | 0/40 [00:00<?, ?it/s]"
      ]
     },
     "metadata": {},
     "output_type": "display_data"
    }
   ],
   "source": [
    "m2.multifit(kind=\"smart\")"
   ]
  },
  {
   "cell_type": "markdown",
   "metadata": {
    "tags": []
   },
   "source": [
    "The fit looks very nice but this is still using spline to fit the fine structure. This approach of fitting the fine structure is useful to improve fit quality and get accurate edges intensity for quantification but it doesn't give use the characteristics (peaks, height, width) of the peaks of the fine structure."
   ]
  },
  {
   "cell_type": "markdown",
   "metadata": {
    "tags": []
   },
   "source": [
    "## Add Gaussian to the fine structure\n",
    "\n",
    "To get the characteristics (peaks, height, width) of the peaks of the fine structure, we will add `Gaussian` components and fit these in the same manner as done in the section 3.2."
   ]
  },
  {
   "cell_type": "code",
   "execution_count": 37,
   "metadata": {
    "tags": []
   },
   "outputs": [],
   "source": [
    "# Create the three Gaussian copmponents\n",
    "g1_m2 = hs.model.components1D.Gaussian()\n",
    "g1_m2.name = \"O_K_peak1\"\n",
    "g2_m2 = hs.model.components1D.Gaussian()\n",
    "g2_m2.name = \"O_K_peak2\"\n",
    "g3_m2 = hs.model.components1D.Gaussian()\n",
    "g3_m2.name = \"O_K_peak3\""
   ]
  },
  {
   "cell_type": "code",
   "execution_count": 38,
   "metadata": {
    "tags": []
   },
   "outputs": [],
   "source": [
    "# Set bounds on the `sigma` parameter\n",
    "for g in [g1_m2, g2_m2, g3_m2]:\n",
    "    g.sigma.bmin = 0.75\n",
    "    g.sigma.bmax = 3.5"
   ]
  },
  {
   "cell_type": "markdown",
   "metadata": {
    "tags": []
   },
   "source": [
    "Add the `Gaussian` components to the list of `fine_structure_components`. We also set the `fine_structure_spline_onset`, which defines where the spline will start to a value of 18."
   ]
  },
  {
   "cell_type": "code",
   "execution_count": 39,
   "metadata": {
    "tags": []
   },
   "outputs": [],
   "source": [
    "O_K = m2.components.O_K\n",
    "O_K.fine_structure_components.update((g1_m2, g2_m2, g3_m2))\n",
    "O_K.fine_structure_spline_onset = 18"
   ]
  },
  {
   "cell_type": "markdown",
   "metadata": {
    "tags": []
   },
   "source": [
    "Fit the three Gaussian components individually; observe how the fit progress before each steps and if it describes well the experimental data."
   ]
  },
  {
   "cell_type": "code",
   "execution_count": 40,
   "metadata": {
    "tags": []
   },
   "outputs": [
    {
     "data": {
      "application/vnd.jupyter.widget-view+json": {
       "model_id": "611bd1aaa1c04dbeb52f4a8a652ed4f7",
       "version_major": 2,
       "version_minor": 0
      },
      "text/plain": [
       "  0%|          | 0/40 [00:00<?, ?it/s]"
      ]
     },
     "metadata": {},
     "output_type": "display_data"
    }
   ],
   "source": [
    "m2.fit_component(g2_m2, signal_range=(528., 532.), only_current=False, bounded=True)"
   ]
  },
  {
   "cell_type": "code",
   "execution_count": 41,
   "metadata": {
    "tags": []
   },
   "outputs": [
    {
     "data": {
      "application/vnd.jupyter.widget-view+json": {
       "model_id": "21f19a49d7774e9db33118b15977df57",
       "version_major": 2,
       "version_minor": 0
      },
      "text/plain": [
       "  0%|          | 0/40 [00:00<?, ?it/s]"
      ]
     },
     "metadata": {},
     "output_type": "display_data"
    }
   ],
   "source": [
    "m2.fit_component(g3_m2, signal_range=(535., 540.), only_current=False, bounded=True)"
   ]
  },
  {
   "cell_type": "code",
   "execution_count": 42,
   "metadata": {
    "tags": []
   },
   "outputs": [
    {
     "data": {
      "application/vnd.jupyter.widget-view+json": {
       "model_id": "5510faf7dd1446839afda28fe05369b4",
       "version_major": 2,
       "version_minor": 0
      },
      "text/plain": [
       "  0%|          | 0/40 [00:00<?, ?it/s]"
      ]
     },
     "metadata": {},
     "output_type": "display_data"
    }
   ],
   "source": [
    "m2.fit_component(g1_m2, signal_range=(523., 526.), only_current=False, bounded=True)"
   ]
  },
  {
   "cell_type": "code",
   "execution_count": 43,
   "metadata": {
    "scrolled": true,
    "tags": []
   },
   "outputs": [],
   "source": [
    "m2.set_parameters_not_free(parameter_name_list=[\"centre\"])"
   ]
  },
  {
   "cell_type": "code",
   "execution_count": 44,
   "metadata": {
    "tags": []
   },
   "outputs": [],
   "source": [
    "m2.smart_fit(bounded=True)"
   ]
  },
  {
   "cell_type": "markdown",
   "metadata": {
    "tags": []
   },
   "source": [
    "Finally, fit all components together for all navigation positions."
   ]
  },
  {
   "cell_type": "code",
   "execution_count": 45,
   "metadata": {
    "tags": []
   },
   "outputs": [
    {
     "data": {
      "application/vnd.jupyter.widget-view+json": {
       "model_id": "97b3c59ff8b54e3f80ece9a5a0486ab7",
       "version_major": 2,
       "version_minor": 0
      },
      "text/plain": [
       "  0%|          | 0/40 [00:00<?, ?it/s]"
      ]
     },
     "metadata": {},
     "output_type": "display_data"
    }
   ],
   "source": [
    "m2.multifit(kind=\"smart\", bounded=True)"
   ]
  },
  {
   "cell_type": "markdown",
   "metadata": {},
   "source": [
    "# <a id='visualise_fitting_results'></a> 5. Visualise fitting results\n",
    "\n",
    "We can then compare the parameters in the components, by getting the parameter values as signals using the [`as_signal`](https://hyperspy.org/hyperspy-doc/current/reference/base_classes/model/parameter.html#hyperspy.component.Parameter.as_signal) method.\n",
    "\n",
    "Firstly get the ratio of the `A` parameters for the largest peak and the pre-peak, by using [`as_signal`](https://hyperspy.org/hyperspy-doc/current/reference/base_classes/model/parameter.html#hyperspy.component.Parameter.as_signal) and dividing the signals. Then plot the results."
   ]
  },
  {
   "cell_type": "markdown",
   "metadata": {},
   "source": [
    "## 5.1 Fitting after deconvolution"
   ]
  },
  {
   "cell_type": "code",
   "execution_count": 46,
   "metadata": {},
   "outputs": [],
   "source": [
    "g1_g3_ratio = g1.A.as_signal() / g3.A.as_signal()"
   ]
  },
  {
   "cell_type": "code",
   "execution_count": 47,
   "metadata": {},
   "outputs": [],
   "source": [
    "g1_g3_ratio.plot()"
   ]
  },
  {
   "cell_type": "markdown",
   "metadata": {},
   "source": [
    "Then get the difference in centre positions between the largest peak and the pre-peak, via the `centre` parameter in the Gaussians."
   ]
  },
  {
   "cell_type": "code",
   "execution_count": 48,
   "metadata": {},
   "outputs": [],
   "source": [
    "g1_g3_position = g3.centre.as_signal() - g1.centre.as_signal()"
   ]
  },
  {
   "cell_type": "code",
   "execution_count": 49,
   "metadata": {},
   "outputs": [],
   "source": [
    "g1_g3_position.plot()"
   ]
  },
  {
   "cell_type": "markdown",
   "metadata": {},
   "source": [
    "Lastly, get the ratio of the `sigma` parameters in the largest peak and the pre-peak."
   ]
  },
  {
   "cell_type": "code",
   "execution_count": 50,
   "metadata": {},
   "outputs": [],
   "source": [
    "g1_g3_sigma = g1.sigma.as_signal() / g3.sigma.as_signal()"
   ]
  },
  {
   "cell_type": "code",
   "execution_count": 51,
   "metadata": {},
   "outputs": [],
   "source": [
    "g1_g3_sigma.plot()"
   ]
  },
  {
   "cell_type": "markdown",
   "metadata": {},
   "source": [
    "In all of the comparisons there are some large changes in the region with beam damage. However, the values can vary a great deal. This is most likely due to the pre-peak almost disappearing at some points in the line scan, leading to bad fitting of g1 and g3."
   ]
  },
  {
   "cell_type": "markdown",
   "metadata": {},
   "source": [
    "## 5.2 Fitting with convolution"
   ]
  },
  {
   "cell_type": "code",
   "execution_count": 52,
   "metadata": {},
   "outputs": [],
   "source": [
    "g1_g3_ratio_m2 = g1_m2.A.as_signal() / g3_m2.A.as_signal()"
   ]
  },
  {
   "cell_type": "code",
   "execution_count": 53,
   "metadata": {},
   "outputs": [],
   "source": [
    "g1_g3_ratio_m2.plot()"
   ]
  },
  {
   "cell_type": "markdown",
   "metadata": {},
   "source": [
    "Then get the difference in centre positions between the largest peak and the pre-peak, via the `centre` parameter in the Gaussians."
   ]
  },
  {
   "cell_type": "code",
   "execution_count": 54,
   "metadata": {},
   "outputs": [],
   "source": [
    "g1_g3_position_m2 = g3_m2.centre.as_signal() - g1_m2.centre.as_signal()"
   ]
  },
  {
   "cell_type": "code",
   "execution_count": 55,
   "metadata": {},
   "outputs": [],
   "source": [
    "g1_g3_position_m2.plot()"
   ]
  },
  {
   "cell_type": "markdown",
   "metadata": {},
   "source": [
    "Lastly, get the ratio of the `sigma` parameters in the largest peak and the pre-peak."
   ]
  },
  {
   "cell_type": "code",
   "execution_count": 56,
   "metadata": {},
   "outputs": [],
   "source": [
    "g1_g3_sigma_m2 = g1_m2.sigma.as_signal() / g3_m2.sigma.as_signal()"
   ]
  },
  {
   "cell_type": "code",
   "execution_count": 57,
   "metadata": {},
   "outputs": [],
   "source": [
    "g1_g3_sigma_m2.plot()"
   ]
  },
  {
   "cell_type": "markdown",
   "metadata": {},
   "source": [
    "## 5.3 Comparison of fitting results for both approaches"
   ]
  },
  {
   "cell_type": "code",
   "execution_count": 60,
   "metadata": {},
   "outputs": [
    {
     "data": {
      "text/plain": [
       "Text(0, 0.5, '1st to 3rd peak intensity ratio')"
      ]
     },
     "execution_count": 60,
     "metadata": {},
     "output_type": "execute_result"
    }
   ],
   "source": [
    "ax = hs.plot.plot_spectra([g1_g3_ratio, g1_g3_ratio_m2], legend=[\"Deconvolution approach\", \"Convolution approach\"])\n",
    "ax.set_ylabel(\"1st to 3rd peak intensity ratio\")"
   ]
  },
  {
   "cell_type": "code",
   "execution_count": 62,
   "metadata": {},
   "outputs": [
    {
     "data": {
      "text/plain": [
       "Text(0, 0.5, '1st to 3rd peak separation (eV)')"
      ]
     },
     "execution_count": 62,
     "metadata": {},
     "output_type": "execute_result"
    }
   ],
   "source": [
    "ax = hs.plot.plot_spectra([g1_g3_position, g1_g3_position_m2], legend=[\"Deconvolution approach\", \"Convolution approach\"])\n",
    "ax.set_ylabel(\"1st to 3rd peak separation (eV)\")"
   ]
  }
 ],
 "metadata": {
  "kernelspec": {
   "display_name": "Python 3 (ipykernel)",
   "language": "python",
   "name": "python3"
  },
  "language_info": {
   "codemirror_mode": {
    "name": "ipython",
    "version": 3
   },
   "file_extension": ".py",
   "mimetype": "text/x-python",
   "name": "python",
   "nbconvert_exporter": "python",
   "pygments_lexer": "ipython3",
   "version": "3.12.9"
  },
  "widgets": {
   "application/vnd.jupyter.widget-state+json": {
    "state": {
     "00c3fd4bb03c4b2d994a213af150ef33": {
      "model_module": "jupyter-js-widgets",
      "model_module_version": "~2.1.4",
      "model_name": "LayoutModel",
      "state": {
       "_model_module_version": "~2.1.4",
       "_view_module_version": "~2.1.4"
      }
     },
     "01a37b4dd4f144c9bbf550a1c7de6493": {
      "model_module": "jupyter-js-widgets",
      "model_module_version": "~2.1.4",
      "model_name": "HBoxModel",
      "state": {
       "_model_module_version": "~2.1.4",
       "_view_module_version": "~2.1.4",
       "children": [
        "IPY_MODEL_332fc6dd84b34ce9954ff31ae9a145fb",
        "IPY_MODEL_cd6d1ab56eba4051aaff3f46c555a96e"
       ],
       "layout": "IPY_MODEL_e38cd8eb1604411e821d113463ea111d"
      }
     },
     "02b46d644d5a49e1a4c0e5079de432ac": {
      "model_module": "jupyter-js-widgets",
      "model_module_version": "~2.1.4",
      "model_name": "LayoutModel",
      "state": {
       "_model_module_version": "~2.1.4",
       "_view_module_version": "~2.1.4"
      }
     },
     "02c2d6826e0e42fa845af6799e50564b": {
      "model_module": "jupyter-js-widgets",
      "model_module_version": "~2.1.4",
      "model_name": "HBoxModel",
      "state": {
       "_model_module_version": "~2.1.4",
       "_view_module_version": "~2.1.4",
       "children": [
        "IPY_MODEL_4a428cab5bd04a46afb0cabb877b4301",
        "IPY_MODEL_ccf862186f054a6db9aefecb58dafee1"
       ],
       "layout": "IPY_MODEL_fe45aa34e21f494db548ab28b6a12052"
      }
     },
     "03736830f4154dd1b5f1cdc4aa116d4a": {
      "model_module": "jupyter-js-widgets",
      "model_module_version": "~2.1.4",
      "model_name": "ProgressStyleModel",
      "state": {
       "_model_module_version": "~2.1.4",
       "_view_module_version": "~2.1.4"
      }
     },
     "03a28ada817c4056beb2c6f20e30fbd8": {
      "model_module": "jupyter-js-widgets",
      "model_module_version": "~2.1.4",
      "model_name": "VBoxModel",
      "state": {
       "_model_module_version": "~2.1.4",
       "_view_module_version": "~2.1.4",
       "children": [
        "IPY_MODEL_e6d6ae9694294cb3b6817b508469323b",
        "IPY_MODEL_3ebf05ad17464456987dc17ed01cfa39",
        "IPY_MODEL_b07683477e0a43f6b9236d3185b05326",
        "IPY_MODEL_7e1476a387ae4dacaccc90ce51cf30ec"
       ],
       "layout": "IPY_MODEL_0b81b0338dde416297dabecc54b35a85"
      }
     },
     "03f12a2559aa4f038849ce6c3dabfd14": {
      "model_module": "jupyter-js-widgets",
      "model_module_version": "~2.1.4",
      "model_name": "LayoutModel",
      "state": {
       "_model_module_version": "~2.1.4",
       "_view_module_version": "~2.1.4"
      }
     },
     "041fcf03f875406893c99c7d82209cb4": {
      "model_module": "jupyter-js-widgets",
      "model_module_version": "~2.1.4",
      "model_name": "HBoxModel",
      "state": {
       "_model_module_version": "~2.1.4",
       "_view_module_version": "~2.1.4",
       "children": [
        "IPY_MODEL_915a67710ef040dda0ef30b08918511b",
        "IPY_MODEL_2ef53db11010486e9ac39b9430597698",
        "IPY_MODEL_9b779506f8194f31afaf77846aa65363",
        "IPY_MODEL_346d022618404dc3b6130617cd8beacd",
        "IPY_MODEL_2ef53db11010486e9ac39b9430597698"
       ],
       "layout": "IPY_MODEL_22347316f834421592eadcef2eeb095a"
      }
     },
     "04897807ffa3485885354e69071c014a": {
      "model_module": "jupyter-js-widgets",
      "model_module_version": "~2.1.4",
      "model_name": "LayoutModel",
      "state": {
       "_model_module_version": "~2.1.4",
       "_view_module_version": "~2.1.4"
      }
     },
     "052af2190d4546dc92b92a8082860829": {
      "model_module": "jupyter-js-widgets",
      "model_module_version": "~2.1.4",
      "model_name": "HTMLModel",
      "state": {
       "_model_module_version": "~2.1.4",
       "_view_module_version": "~2.1.4",
       "layout": "IPY_MODEL_6648208eec8545658171572919a85fbe",
       "value": "Click on the signal figure and drag to the right to select arange. Press `Apply` to remove the background in the whole dataset. If fast is checked, the background parameters are estimated using a fast (analytical) method that can compromise accuray. When unchecked non linear least squares is employed instead."
      }
     },
     "0648998b41704d80b4af954e0b4e5f8f": {
      "model_module": "jupyter-js-widgets",
      "model_module_version": "~2.1.4",
      "model_name": "ProgressStyleModel",
      "state": {
       "_model_module_version": "~2.1.4",
       "_view_module_version": "~2.1.4"
      }
     },
     "071ce46bcf4c44e4ab4ac800a293d94d": {
      "model_module": "jupyter-js-widgets",
      "model_module_version": "~2.1.4",
      "model_name": "HTMLModel",
      "state": {
       "_model_module_version": "~2.1.4",
       "_view_module_version": "~2.1.4",
       "layout": "IPY_MODEL_311d62a0e0b448feaee5307c929f2450",
       "value": "100% 5/5 [00:00&lt;00:00, 37.74it/s]"
      }
     },
     "07dfd04448554f94b50cae60a06e697d": {
      "model_module": "jupyter-js-widgets",
      "model_module_version": "~2.1.4",
      "model_name": "CheckboxModel",
      "state": {
       "_model_module_version": "~2.1.4",
       "_view_module_version": "~2.1.4",
       "disabled": false,
       "layout": "IPY_MODEL_2a286542bdd248478e85abd27b330295",
       "value": true
      }
     },
     "0839690fbb09415e83c5731bb193e70f": {
      "model_module": "jupyter-js-widgets",
      "model_module_version": "~2.1.4",
      "model_name": "ProgressModel",
      "state": {
       "_model_module_version": "~2.1.4",
       "_view_module_version": "~2.1.4",
       "bar_style": "success",
       "layout": "IPY_MODEL_eb3ef057de8b475595b44d2a66d8b42e",
       "max": 5,
       "style": "IPY_MODEL_10306e4f139541daa5af9841f930d1c4",
       "value": 5
      }
     },
     "0842d5e99c464f81b0ac2fd98e7e95e5": {
      "model_module": "jupyter-js-widgets",
      "model_module_version": "~2.1.4",
      "model_name": "LayoutModel",
      "state": {
       "_model_module_version": "~2.1.4",
       "_view_module_version": "~2.1.4"
      }
     },
     "08e520d78f504f56b169cef99c49d261": {
      "model_module": "jupyter-js-widgets",
      "model_module_version": "~2.1.4",
      "model_name": "LayoutModel",
      "state": {
       "_model_module_version": "~2.1.4",
       "_view_module_version": "~2.1.4"
      }
     },
     "09f28a21537f476783d98539f3f83a2c": {
      "model_module": "jupyter-js-widgets",
      "model_module_version": "~2.1.4",
      "model_name": "LayoutModel",
      "state": {
       "_model_module_version": "~2.1.4",
       "_view_module_version": "~2.1.4"
      }
     },
     "0a0e6be0227c4f70b3402a533a19b284": {
      "model_module": "jupyter-js-widgets",
      "model_module_version": "~2.1.4",
      "model_name": "HBoxModel",
      "state": {
       "_model_module_version": "~2.1.4",
       "_view_module_version": "~2.1.4",
       "children": [
        "IPY_MODEL_730d946acfed478983e7da7a064b6945",
        "IPY_MODEL_ad817739796743648e9dfc5896e52e67"
       ],
       "layout": "IPY_MODEL_e38cd8eb1604411e821d113463ea111d"
      }
     },
     "0a3afa52760642b4894a929b55d437ef": {
      "model_module": "jupyter-js-widgets",
      "model_module_version": "~2.1.4",
      "model_name": "HBoxModel",
      "state": {
       "_model_module_version": "~2.1.4",
       "_view_module_version": "~2.1.4",
       "children": [
        "IPY_MODEL_75706747fbd7403689eb416b33e10966",
        "IPY_MODEL_29eae5e0bad54ea8a8c385a6acb291f4"
       ],
       "layout": "IPY_MODEL_e61ee9d330f94f988bf6e2fc020e0d54"
      }
     },
     "0ab0c1a0338240e5933a45c0e8572648": {
      "model_module": "jupyter-js-widgets",
      "model_module_version": "~2.1.4",
      "model_name": "ProgressStyleModel",
      "state": {
       "_model_module_version": "~2.1.4",
       "_view_module_version": "~2.1.4"
      }
     },
     "0adfc4c1ec1b4d2d9dcc89450429fd8c": {
      "model_module": "jupyter-js-widgets",
      "model_module_version": "~2.1.4",
      "model_name": "LayoutModel",
      "state": {
       "_model_module_version": "~2.1.4",
       "_view_module_version": "~2.1.4"
      }
     },
     "0af9e24c6b1441d4948fcaa53e67b8ac": {
      "model_module": "jupyter-js-widgets",
      "model_module_version": "~2.1.4",
      "model_name": "DropdownModel",
      "state": {
       "_model_module_version": "~2.1.4",
       "_options_labels": [
        "Power Law",
        "Gaussian",
        "Offset",
        "Polynomial"
       ],
       "_view_module_version": "~2.1.4",
       "description": "Background type",
       "layout": "IPY_MODEL_a79d9bda04134807825e4bc4f3ddb9d2",
       "value": "Power Law"
      }
     },
     "0b670aac1fa54fceaa48e26a19415202": {
      "model_module": "jupyter-js-widgets",
      "model_module_version": "~2.1.4",
      "model_name": "ProgressModel",
      "state": {
       "_model_module_version": "~2.1.4",
       "_view_module_version": "~2.1.4",
       "bar_style": "success",
       "layout": "IPY_MODEL_a2a993eec30f44e1bcdb4abf56291e88",
       "max": 2,
       "style": "IPY_MODEL_3ea802b4040d40afbc0d6ff5c7d1c872",
       "value": 2
      }
     },
     "0b81b0338dde416297dabecc54b35a85": {
      "model_module": "jupyter-js-widgets",
      "model_module_version": "~2.1.4",
      "model_name": "LayoutModel",
      "state": {
       "_model_module_version": "~2.1.4",
       "_view_module_version": "~2.1.4"
      }
     },
     "0d144052a1ac4ab9861894f951a1f9df": {
      "model_module": "jupyter-js-widgets",
      "model_module_version": "~2.1.4",
      "model_name": "ProgressModel",
      "state": {
       "_model_module_version": "~2.1.4",
       "_view_module_version": "~2.1.4",
       "bar_style": "success",
       "layout": "IPY_MODEL_b9ea6ce902f4486f99f6d78cfa39af2a",
       "max": 2,
       "style": "IPY_MODEL_799eee499d204583a6e9360025fb275d",
       "value": 2
      }
     },
     "0d3b270550914e30a98a30994f0f6728": {
      "model_module": "jupyter-js-widgets",
      "model_module_version": "~2.1.4",
      "model_name": "FloatTextModel",
      "state": {
       "_model_module_version": "~2.1.4",
       "_view_module_version": "~2.1.4",
       "description": "Left",
       "disabled": true,
       "layout": "IPY_MODEL_965c8dbbb1f54d54bfd6d926500dd5ef",
       "value": 431.5715630584631
      }
     },
     "0d5a1cc6b2c74430a1ba8e9983df4f85": {
      "model_module": "jupyter-js-widgets",
      "model_module_version": "~2.1.4",
      "model_name": "ButtonModel",
      "state": {
       "_model_module_version": "~2.1.4",
       "_view_module_version": "~2.1.4",
       "description": "Close",
       "layout": "IPY_MODEL_6115e39a67b8493eb3c8414b6d2c0e54",
       "style": "IPY_MODEL_3a5cf1a865b2499d842fa1e116fc602a",
       "tooltip": "Close widget and remove span selector from the signal figure."
      }
     },
     "0e003539ccc34424834f7b94451ec897": {
      "model_module": "jupyter-js-widgets",
      "model_module_version": "~2.1.4",
      "model_name": "LayoutModel",
      "state": {
       "_model_module_version": "~2.1.4",
       "_view_module_version": "~2.1.4"
      }
     },
     "1025722266d34d27b55d63df1e50ac69": {
      "model_module": "jupyter-js-widgets",
      "model_module_version": "~2.1.4",
      "model_name": "ButtonStyleModel",
      "state": {
       "_model_module_version": "~2.1.4",
       "_view_module_version": "~2.1.4"
      }
     },
     "10306e4f139541daa5af9841f930d1c4": {
      "model_module": "jupyter-js-widgets",
      "model_module_version": "~2.1.4",
      "model_name": "ProgressStyleModel",
      "state": {
       "_model_module_version": "~2.1.4",
       "_view_module_version": "~2.1.4"
      }
     },
     "104453bf5a10455ab5727444d149e9cd": {
      "model_module": "jupyter-js-widgets",
      "model_module_version": "~2.1.4",
      "model_name": "ProgressStyleModel",
      "state": {
       "_model_module_version": "~2.1.4",
       "_view_module_version": "~2.1.4"
      }
     },
     "10917d7d20ad4fa58fd3f858dfca2fc6": {
      "model_module": "jupyter-js-widgets",
      "model_module_version": "~2.1.4",
      "model_name": "LayoutModel",
      "state": {
       "_model_module_version": "~2.1.4",
       "_view_module_version": "~2.1.4",
       "width": "auto"
      }
     },
     "11009c8f61214a8ebbc070080cb320fd": {
      "model_module": "jupyter-js-widgets",
      "model_module_version": "~2.1.4",
      "model_name": "FloatTextModel",
      "state": {
       "_model_module_version": "~2.1.4",
       "_view_module_version": "~2.1.4",
       "description": "Left",
       "disabled": true,
       "layout": "IPY_MODEL_d47a95f24b4b46918e2fea1ede91a7e2",
       "value": 454.5327067909114
      }
     },
     "11654f7ef6b24bcf92806f4e35e203c0": {
      "model_module": "jupyter-js-widgets",
      "model_module_version": "~2.1.4",
      "model_name": "LayoutModel",
      "state": {
       "_model_module_version": "~2.1.4",
       "_view_module_version": "~2.1.4"
      }
     },
     "116bd91c111d451489e22b081009b69d": {
      "model_module": "jupyter-js-widgets",
      "model_module_version": "~2.1.4",
      "model_name": "VBoxModel",
      "state": {
       "_model_module_version": "~2.1.4",
       "_view_module_version": "~2.1.4",
       "children": [
        "IPY_MODEL_53dee194d4514468acb8da90fe9f2c5f",
        "IPY_MODEL_4392a59c8c6e4d18a74952f789481c89",
        "IPY_MODEL_5b361bb4c53c4acab752919950d64715"
       ],
       "layout": "IPY_MODEL_90676a5f11ab473e8e711db3be11f3a4"
      }
     },
     "1178b550b91e434e86f7ee04982142cb": {
      "model_module": "jupyter-js-widgets",
      "model_module_version": "~2.1.4",
      "model_name": "LayoutModel",
      "state": {
       "_model_module_version": "~2.1.4",
       "_view_module_version": "~2.1.4"
      }
     },
     "117ba1d1ce8f499a9f02c0986bf230fe": {
      "model_module": "jupyter-js-widgets",
      "model_module_version": "~2.1.4",
      "model_name": "LayoutModel",
      "state": {
       "_model_module_version": "~2.1.4",
       "_view_module_version": "~2.1.4"
      }
     },
     "12382dc8cca7497dad173d9ddb89d937": {
      "model_module": "jupyter-js-widgets",
      "model_module_version": "~2.1.4",
      "model_name": "LayoutModel",
      "state": {
       "_model_module_version": "~2.1.4",
       "_view_module_version": "~2.1.4"
      }
     },
     "1364c82086ce408c8d3e67de52cd7cde": {
      "model_module": "jupyter-js-widgets",
      "model_module_version": "~2.1.4",
      "model_name": "VBoxModel",
      "state": {
       "_model_module_version": "~2.1.4",
       "_view_module_version": "~2.1.4",
       "children": [
        "IPY_MODEL_60d40e759a7d4ef0a55f1c3e955bf0d4",
        "IPY_MODEL_01a37b4dd4f144c9bbf550a1c7de6493",
        "IPY_MODEL_9d51dad44342475dadc6b4cbd6bf3e55",
        "IPY_MODEL_95809276eebe4603accc4c9aaa935f9b",
        "IPY_MODEL_0a0e6be0227c4f70b3402a533a19b284",
        "IPY_MODEL_4aa917cb23904f3d865b354850b6d973"
       ],
       "layout": "IPY_MODEL_47e78c8bc32e4f27b5259e71da397dbf"
      }
     },
     "155d6e9f014447068e4d5cb7a1756e3e": {
      "model_module": "jupyter-js-widgets",
      "model_module_version": "~2.1.4",
      "model_name": "HBoxModel",
      "state": {
       "_model_module_version": "~2.1.4",
       "_view_module_version": "~2.1.4",
       "children": [
        "IPY_MODEL_0b670aac1fa54fceaa48e26a19415202",
        "IPY_MODEL_5f37adb061ee4c63a073a291c783782e"
       ],
       "layout": "IPY_MODEL_fb512709e18c4c34ad1ab4c2d0a30b39"
      }
     },
     "17310984ec5c48128d6f9df2d0b6bb3b": {
      "model_module": "jupyter-js-widgets",
      "model_module_version": "~2.1.4",
      "model_name": "FloatTextModel",
      "state": {
       "_model_module_version": "~2.1.4",
       "_view_module_version": "~2.1.4",
       "layout": "IPY_MODEL_f7b9390d746044698eaaa57c6cb82ea7",
       "value": 130
      }
     },
     "188ff97b2a8f4e58a6b9b10f32e037a8": {
      "model_module": "jupyter-js-widgets",
      "model_module_version": "~2.1.4",
      "model_name": "LayoutModel",
      "state": {
       "_model_module_version": "~2.1.4",
       "_view_module_version": "~2.1.4"
      }
     },
     "192428ae3fae444ebe24866d6b787b90": {
      "model_module": "jupyter-js-widgets",
      "model_module_version": "~2.1.4",
      "model_name": "DropdownModel",
      "state": {
       "_model_module_version": "~2.1.4",
       "_options_labels": [
        "Power Law",
        "Gaussian",
        "Offset",
        "Polynomial"
       ],
       "_view_module_version": "~2.1.4",
       "description": "Background type",
       "layout": "IPY_MODEL_c090bd78b70545b093a5d5713b379ecd",
       "value": "Power Law"
      }
     },
     "19d4ee3a33504991bf2d58efe3e1f96d": {
      "model_module": "jupyter-js-widgets",
      "model_module_version": "~2.1.4",
      "model_name": "LayoutModel",
      "state": {
       "_model_module_version": "~2.1.4",
       "_view_module_version": "~2.1.4"
      }
     },
     "1a104b2ca8604dbe8b695e02702cb6d3": {
      "model_module": "jupyter-js-widgets",
      "model_module_version": "~2.1.4",
      "model_name": "LayoutModel",
      "state": {
       "_model_module_version": "~2.1.4",
       "_view_module_version": "~2.1.4"
      }
     },
     "1a4b549b981f43d0838e79e16a16a706": {
      "model_module": "jupyter-js-widgets",
      "model_module_version": "~2.1.4",
      "model_name": "VBoxModel",
      "state": {
       "_model_module_version": "~2.1.4",
       "_view_module_version": "~2.1.4",
       "children": [
        "IPY_MODEL_df6b84a681354201951d09e472ebd4aa"
       ],
       "layout": "IPY_MODEL_9e3df5ba72a5449c935271c86d7f088c"
      }
     },
     "1b000c7e2c254ce4b39493d76667fdff": {
      "model_module": "jupyter-js-widgets",
      "model_module_version": "~2.1.4",
      "model_name": "ProgressModel",
      "state": {
       "_model_module_version": "~2.1.4",
       "_view_module_version": "~2.1.4",
       "bar_style": "success",
       "layout": "IPY_MODEL_483cb31d6e1e4c1b8d24155fa02bd387",
       "max": 2,
       "style": "IPY_MODEL_64a7b86438144580be82b17fbe3e7d1b",
       "value": 2
      }
     },
     "1bc99bef28e24c0d8000b2d4e368291f": {
      "model_module": "jupyter-js-widgets",
      "model_module_version": "~2.1.4",
      "model_name": "LayoutModel",
      "state": {
       "_model_module_version": "~2.1.4",
       "_view_module_version": "~2.1.4"
      }
     },
     "1bd1c3d7e368409a8a8bcb0e5f2b5e1c": {
      "model_module": "jupyter-js-widgets",
      "model_module_version": "~2.1.4",
      "model_name": "LayoutModel",
      "state": {
       "_model_module_version": "~2.1.4",
       "_view_module_version": "~2.1.4"
      }
     },
     "1bf0ea81851b495b9a00ca49d297ab27": {
      "model_module": "jupyter-js-widgets",
      "model_module_version": "~2.1.4",
      "model_name": "FloatTextModel",
      "state": {
       "_model_module_version": "~2.1.4",
       "_view_module_version": "~2.1.4",
       "description": "Right",
       "disabled": true,
       "layout": "IPY_MODEL_4bfb10280ee4478bb3eb36d1ba7fd35f",
       "value": 519.6782773806484
      }
     },
     "1cd729986a7a463e9f77485ccb313095": {
      "model_module": "jupyter-js-widgets",
      "model_module_version": "~2.1.4",
      "model_name": "HTMLModel",
      "state": {
       "_model_module_version": "~2.1.4",
       "_view_module_version": "~2.1.4",
       "layout": "IPY_MODEL_c019d073c65a47cb823a4a588ea7988e",
       "value": "Click on the signal figure and drag to the right to select arange. Press `Apply` to remove the background in the whole dataset. If fast is checked, the background parameters are estimated using a fast (analytical) method that can compromise accuray. When unchecked non linear least squares is employed instead."
      }
     },
     "1df4368025804af1975a7ac32e7feada": {
      "model_module": "jupyter-js-widgets",
      "model_module_version": "~2.1.4",
      "model_name": "LayoutModel",
      "state": {
       "_model_module_version": "~2.1.4",
       "_view_module_version": "~2.1.4"
      }
     },
     "1e5dc8b041544e5ab9acdd2ea8171ecd": {
      "model_module": "jupyter-js-widgets",
      "model_module_version": "~2.1.4",
      "model_name": "CheckboxModel",
      "state": {
       "_model_module_version": "~2.1.4",
       "_view_module_version": "~2.1.4",
       "description": "Fast",
       "disabled": false,
       "layout": "IPY_MODEL_81592a95cf454f4a8a3628e79b3ef441",
       "value": true
      }
     },
     "1e5fd335058d417cbb24744b18050887": {
      "model_module": "jupyter-js-widgets",
      "model_module_version": "~2.1.4",
      "model_name": "VBoxModel",
      "state": {
       "_model_module_version": "~2.1.4",
       "_view_module_version": "~2.1.4",
       "children": [
        "IPY_MODEL_041fcf03f875406893c99c7d82209cb4",
        "IPY_MODEL_82c91b22360a4dc39229a523945024f4",
        "IPY_MODEL_8c028ec0b8d4477b8b4e65385f381cad"
       ],
       "layout": "IPY_MODEL_5796bc6f31fc4e4ba6f0f73ff19ffb86"
      }
     },
     "20793d6f21d34f92922b0c8bfbf9eca9": {
      "model_module": "jupyter-js-widgets",
      "model_module_version": "~2.1.4",
      "model_name": "ButtonModel",
      "state": {
       "_model_module_version": "~2.1.4",
       "_view_module_version": "~2.1.4",
       "description": "Close",
       "layout": "IPY_MODEL_a27245673d48423d85ea851a8cebb085",
       "style": "IPY_MODEL_5fe4aced8de942b1b20b515dd1691c03",
       "tooltip": "Close widget and remove span selector from the signal figure."
      }
     },
     "21ec5c264efe418da4e7d8c7ae83eeff": {
      "model_module": "jupyter-js-widgets",
      "model_module_version": "~2.1.4",
      "model_name": "ButtonStyleModel",
      "state": {
       "_model_module_version": "~2.1.4",
       "_view_module_version": "~2.1.4"
      }
     },
     "22347316f834421592eadcef2eeb095a": {
      "model_module": "jupyter-js-widgets",
      "model_module_version": "~2.1.4",
      "model_name": "LayoutModel",
      "state": {
       "_model_module_version": "~2.1.4",
       "_view_module_version": "~2.1.4"
      }
     },
     "2251a0f47c8e488caea9692ac1af9510": {
      "model_module": "jupyter-js-widgets",
      "model_module_version": "~2.1.4",
      "model_name": "ButtonModel",
      "state": {
       "_model_module_version": "~2.1.4",
       "_view_module_version": "~2.1.4",
       "description": "Close",
       "layout": "IPY_MODEL_6b5e1a090bd948eb9e8f4bcb7c6e0ed0",
       "style": "IPY_MODEL_864b7865ffd94af88af64672637c252c",
       "tooltip": "Close widget and remove span selector from the signal figure."
      }
     },
     "234724c760c9450dbf107e51bd3c0e40": {
      "model_module": "jupyter-js-widgets",
      "model_module_version": "~2.1.4",
      "model_name": "IntTextModel",
      "state": {
       "_model_module_version": "~2.1.4",
       "_view_module_version": "~2.1.4",
       "description": "Polynomial order",
       "layout": "IPY_MODEL_57ad15ad2f1641b586db84c3ac1b14d8",
       "value": 1
      }
     },
     "23decac2e7f047c4a59fb901064bae25": {
      "model_module": "jupyter-js-widgets",
      "model_module_version": "~2.1.4",
      "model_name": "LayoutModel",
      "state": {
       "_model_module_version": "~2.1.4",
       "_view_module_version": "~2.1.4"
      }
     },
     "2465b53eeab0420399be235c4b5bd852": {
      "model_module": "jupyter-js-widgets",
      "model_module_version": "~2.1.4",
      "model_name": "LayoutModel",
      "state": {
       "_model_module_version": "~2.1.4",
       "_view_module_version": "~2.1.4"
      }
     },
     "24a1d9e9367e46688153a2c25fb52c82": {
      "model_module": "jupyter-js-widgets",
      "model_module_version": "~2.1.4",
      "model_name": "LayoutModel",
      "state": {
       "_model_module_version": "~2.1.4",
       "_view_module_version": "~2.1.4"
      }
     },
     "2510c1aae61e4f0f8f5ffffbdca28f08": {
      "model_module": "jupyter-js-widgets",
      "model_module_version": "~2.1.4",
      "model_name": "LayoutModel",
      "state": {
       "_model_module_version": "~2.1.4",
       "_view_module_version": "~2.1.4"
      }
     },
     "251f3c197a384a4bb17ab2b6ba513659": {
      "model_module": "jupyter-js-widgets",
      "model_module_version": "~2.1.4",
      "model_name": "ButtonModel",
      "state": {
       "_model_module_version": "~2.1.4",
       "_view_module_version": "~2.1.4",
       "description": "Close",
       "layout": "IPY_MODEL_bb735fab41374346b6744ae4f8f72e68",
       "style": "IPY_MODEL_bfe5a6faccb2434b939c221ac6e6aac1",
       "tooltip": "Close widget and remove span selector from the signal figure."
      }
     },
     "2538896a6ec1468fb4905a353e4f02f4": {
      "model_module": "jupyter-js-widgets",
      "model_module_version": "~2.1.4",
      "model_name": "LayoutModel",
      "state": {
       "_model_module_version": "~2.1.4",
       "_view_module_version": "~2.1.4"
      }
     },
     "26d405a838f14be889bdd46ceed61a2b": {
      "model_module": "jupyter-js-widgets",
      "model_module_version": "~2.1.4",
      "model_name": "LayoutModel",
      "state": {
       "_model_module_version": "~2.1.4",
       "_view_module_version": "~2.1.4"
      }
     },
     "27a58543e3354247bcca39141e32466a": {
      "model_module": "jupyter-js-widgets",
      "model_module_version": "~2.1.4",
      "model_name": "HTMLModel",
      "state": {
       "_model_module_version": "~2.1.4",
       "_view_module_version": "~2.1.4",
       "layout": "IPY_MODEL_f0b7eb61ac1b4b0cb8bba3bda5fb3f7b",
       "value": "100% 5/5 [00:00&lt;00:00, 32.73it/s]"
      }
     },
     "29de9a965cd041fdbd2724f6460814fe": {
      "model_module": "jupyter-js-widgets",
      "model_module_version": "~2.1.4",
      "model_name": "LayoutModel",
      "state": {
       "_model_module_version": "~2.1.4",
       "_view_module_version": "~2.1.4"
      }
     },
     "29eae5e0bad54ea8a8c385a6acb291f4": {
      "model_module": "jupyter-js-widgets",
      "model_module_version": "~2.1.4",
      "model_name": "HTMLModel",
      "state": {
       "_model_module_version": "~2.1.4",
       "_view_module_version": "~2.1.4",
       "layout": "IPY_MODEL_f081794290574b05b1879914b08ab95a",
       "value": "100% 5/5 [00:00&lt;00:00, 31.51it/s]"
      }
     },
     "2a286542bdd248478e85abd27b330295": {
      "model_module": "jupyter-js-widgets",
      "model_module_version": "~2.1.4",
      "model_name": "LayoutModel",
      "state": {
       "_model_module_version": "~2.1.4",
       "_view_module_version": "~2.1.4"
      }
     },
     "2a2ada98d5624aceb24a2d2d22127c7f": {
      "model_module": "jupyter-js-widgets",
      "model_module_version": "~2.1.4",
      "model_name": "ButtonStyleModel",
      "state": {
       "_model_module_version": "~2.1.4",
       "_view_module_version": "~2.1.4"
      }
     },
     "2b26f7cf6c48492294e13e6e14312dd3": {
      "model_module": "jupyter-js-widgets",
      "model_module_version": "~2.1.4",
      "model_name": "ProgressStyleModel",
      "state": {
       "_model_module_version": "~2.1.4",
       "_view_module_version": "~2.1.4"
      }
     },
     "2e5535cb98f748c4a6a0d63e7295a41a": {
      "model_module": "jupyter-js-widgets",
      "model_module_version": "~2.1.4",
      "model_name": "ProgressStyleModel",
      "state": {
       "_model_module_version": "~2.1.4",
       "_view_module_version": "~2.1.4"
      }
     },
     "2e925028a4da4521854618e343f780ef": {
      "model_module": "jupyter-js-widgets",
      "model_module_version": "~2.1.4",
      "model_name": "LayoutModel",
      "state": {
       "_model_module_version": "~2.1.4",
       "_view_module_version": "~2.1.4"
      }
     },
     "2ef53db11010486e9ac39b9430597698": {
      "model_module": "jupyter-js-widgets",
      "model_module_version": "~2.1.4",
      "model_name": "LabelModel",
      "state": {
       "_model_module_version": "~2.1.4",
       "_view_module_version": "~2.1.4",
       "layout": "IPY_MODEL_26d405a838f14be889bdd46ceed61a2b",
       "value": "eV"
      }
     },
     "2fa9ea26fb8546ecbffdc5de3701b7f4": {
      "model_module": "jupyter-js-widgets",
      "model_module_version": "~2.1.4",
      "model_name": "LayoutModel",
      "state": {
       "_model_module_version": "~2.1.4",
       "_view_module_version": "~2.1.4"
      }
     },
     "310c9406aee74bf8abdcd5e3558bb8ca": {
      "model_module": "jupyter-js-widgets",
      "model_module_version": "~2.1.4",
      "model_name": "AccordionModel",
      "state": {
       "_model_module_version": "~2.1.4",
       "_titles": {
        "0": "Help"
       },
       "_view_module_version": "~2.1.4",
       "children": [
        "IPY_MODEL_fbf21afbdcf44f249e70502a9e89d5e2"
       ],
       "layout": "IPY_MODEL_781c757b6acc42398a2310c3e74edebf"
      }
     },
     "310d334928e04a7a805b774204435a5e": {
      "model_module": "jupyter-js-widgets",
      "model_module_version": "~2.1.4",
      "model_name": "LayoutModel",
      "state": {
       "_model_module_version": "~2.1.4",
       "_view_module_version": "~2.1.4",
       "width": "auto"
      }
     },
     "310e06607f8d480f9c99a70387c9fa56": {
      "model_module": "jupyter-js-widgets",
      "model_module_version": "~2.1.4",
      "model_name": "LayoutModel",
      "state": {
       "_model_module_version": "~2.1.4",
       "_view_module_version": "~2.1.4"
      }
     },
     "311d62a0e0b448feaee5307c929f2450": {
      "model_module": "jupyter-js-widgets",
      "model_module_version": "~2.1.4",
      "model_name": "LayoutModel",
      "state": {
       "_model_module_version": "~2.1.4",
       "_view_module_version": "~2.1.4"
      }
     },
     "318bb27c495443d2a1a2762763ea953a": {
      "model_module": "jupyter-js-widgets",
      "model_module_version": "~2.1.4",
      "model_name": "LayoutModel",
      "state": {
       "_model_module_version": "~2.1.4",
       "_view_module_version": "~2.1.4"
      }
     },
     "31cf2ff9bcbd4876abb211b28f908a21": {
      "model_module": "jupyter-js-widgets",
      "model_module_version": "~2.1.4",
      "model_name": "LayoutModel",
      "state": {
       "_model_module_version": "~2.1.4",
       "_view_module_version": "~2.1.4"
      }
     },
     "3221b4c6ac494c11a8658399448ab557": {
      "model_module": "jupyter-js-widgets",
      "model_module_version": "~2.1.4",
      "model_name": "LayoutModel",
      "state": {
       "_model_module_version": "~2.1.4",
       "_view_module_version": "~2.1.4"
      }
     },
     "32c4e9b2a2894ec39b97706602aae380": {
      "model_module": "jupyter-js-widgets",
      "model_module_version": "~2.1.4",
      "model_name": "ProgressStyleModel",
      "state": {
       "_model_module_version": "~2.1.4",
       "_view_module_version": "~2.1.4"
      }
     },
     "332fc6dd84b34ce9954ff31ae9a145fb": {
      "model_module": "jupyter-js-widgets",
      "model_module_version": "~2.1.4",
      "model_name": "LabelModel",
      "state": {
       "_model_module_version": "~2.1.4",
       "_view_module_version": "~2.1.4",
       "layout": "IPY_MODEL_4903e901bf264207b03467312d480aaa",
       "value": "Automatic logging (requires IPython)"
      }
     },
     "34149f12e79a42d4af61fcbeca0b25ac": {
      "model_module": "jupyter-js-widgets",
      "model_module_version": "~2.1.4",
      "model_name": "LayoutModel",
      "state": {
       "_model_module_version": "~2.1.4",
       "_view_module_version": "~2.1.4"
      }
     },
     "3415b8fbbeca4c4ebde823e549dffc88": {
      "model_module": "jupyter-js-widgets",
      "model_module_version": "~2.1.4",
      "model_name": "LayoutModel",
      "state": {
       "_model_module_version": "~2.1.4",
       "_view_module_version": "~2.1.4"
      }
     },
     "346d022618404dc3b6130617cd8beacd": {
      "model_module": "jupyter-js-widgets",
      "model_module_version": "~2.1.4",
      "model_name": "FloatTextModel",
      "state": {
       "_model_module_version": "~2.1.4",
       "_view_module_version": "~2.1.4",
       "disabled": true,
       "layout": "IPY_MODEL_6ae66beef83340ea81674380bed48f29",
       "value": 545.8825040200107
      }
     },
     "3481809e518b432a83378e074e209d92": {
      "model_module": "jupyter-js-widgets",
      "model_module_version": "~2.1.4",
      "model_name": "VBoxModel",
      "state": {
       "_model_module_version": "~2.1.4",
       "_view_module_version": "~2.1.4",
       "children": [
        "IPY_MODEL_a30283dfb2e243dabf7c69cb23ff2e7f",
        "IPY_MODEL_310c9406aee74bf8abdcd5e3558bb8ca",
        "IPY_MODEL_e9bbea9b34e64c8db77f12c2afe94c90"
       ],
       "layout": "IPY_MODEL_9b1be1d5bbd34de0be7448a806adacde"
      }
     },
     "34f0396b79d4466ca1664eb51c89d9cc": {
      "model_module": "jupyter-js-widgets",
      "model_module_version": "~2.1.4",
      "model_name": "CheckboxModel",
      "state": {
       "_model_module_version": "~2.1.4",
       "_view_module_version": "~2.1.4",
       "description": "Fast",
       "disabled": false,
       "layout": "IPY_MODEL_5ed51fa0cb7a4f9dbdcd762a29599e0b",
       "value": true
      }
     },
     "350dc729493c497da0f013003a2f7ad8": {
      "model_module": "jupyter-js-widgets",
      "model_module_version": "~2.1.4",
      "model_name": "HTMLModel",
      "state": {
       "_model_module_version": "~2.1.4",
       "_view_module_version": "~2.1.4",
       "layout": "IPY_MODEL_ba32443684c4441c8e893a7a57ca4747",
       "value": "100% 5/5 [00:00&lt;00:00, 53.13it/s]"
      }
     },
     "360ecbbaeb3f48fc8ff0641258f908d0": {
      "model_module": "jupyter-js-widgets",
      "model_module_version": "~2.1.4",
      "model_name": "LayoutModel",
      "state": {
       "_model_module_version": "~2.1.4",
       "_view_module_version": "~2.1.4"
      }
     },
     "362051de68ed453db69f4f0c59707c40": {
      "model_module": "jupyter-js-widgets",
      "model_module_version": "~2.1.4",
      "model_name": "HBoxModel",
      "state": {
       "_model_module_version": "~2.1.4",
       "_view_module_version": "~2.1.4",
       "children": [
        "IPY_MODEL_b8b2f74572eb4d9f9b28c8b48556cf7f",
        "IPY_MODEL_73078b11b48d43159c53c21d7c05af33"
       ],
       "layout": "IPY_MODEL_b7a040fe0c154300be58c13bea622384"
      }
     },
     "37046adbf09e472eb2d83da33b3d0ade": {
      "model_module": "jupyter-js-widgets",
      "model_module_version": "~2.1.4",
      "model_name": "LayoutModel",
      "state": {
       "_model_module_version": "~2.1.4",
       "_view_module_version": "~2.1.4"
      }
     },
     "37b3f638430345029b9e7404b7fa0d39": {
      "model_module": "jupyter-js-widgets",
      "model_module_version": "~2.1.4",
      "model_name": "LayoutModel",
      "state": {
       "_model_module_version": "~2.1.4",
       "_view_module_version": "~2.1.4"
      }
     },
     "3900ffff108d4b18b2946f375b1df817": {
      "model_module": "jupyter-js-widgets",
      "model_module_version": "~2.1.4",
      "model_name": "HBoxModel",
      "state": {
       "_model_module_version": "~2.1.4",
       "_view_module_version": "~2.1.4",
       "children": [
        "IPY_MODEL_7ad62ffe64574f338cea3531b491bf44",
        "IPY_MODEL_350dc729493c497da0f013003a2f7ad8"
       ],
       "layout": "IPY_MODEL_31cf2ff9bcbd4876abb211b28f908a21"
      }
     },
     "391450526c7e4256a9c1b3bc6de1eaea": {
      "model_module": "jupyter-js-widgets",
      "model_module_version": "~2.1.4",
      "model_name": "LayoutModel",
      "state": {
       "_model_module_version": "~2.1.4",
       "_view_module_version": "~2.1.4"
      }
     },
     "39cfedeaf27743ec8d1062c3af699619": {
      "model_module": "jupyter-js-widgets",
      "model_module_version": "~2.1.4",
      "model_name": "DropdownModel",
      "state": {
       "_model_module_version": "~2.1.4",
       "_options_labels": [
        "Power Law",
        "Gaussian",
        "Offset",
        "Polynomial"
       ],
       "_view_module_version": "~2.1.4",
       "description": "Background type",
       "layout": "IPY_MODEL_5d659d8b506847e382cb8a9786365a03",
       "value": "Power Law"
      }
     },
     "3a5cf1a865b2499d842fa1e116fc602a": {
      "model_module": "jupyter-js-widgets",
      "model_module_version": "~2.1.4",
      "model_name": "ButtonStyleModel",
      "state": {
       "_model_module_version": "~2.1.4",
       "_view_module_version": "~2.1.4"
      }
     },
     "3abd454420ee42cb86684be4038d320b": {
      "model_module": "jupyter-js-widgets",
      "model_module_version": "~2.1.4",
      "model_name": "LayoutModel",
      "state": {
       "_model_module_version": "~2.1.4",
       "_view_module_version": "~2.1.4"
      }
     },
     "3c0dac7b9fcb42b58e7c94a1e9020c5c": {
      "model_module": "jupyter-js-widgets",
      "model_module_version": "~2.1.4",
      "model_name": "LayoutModel",
      "state": {
       "_model_module_version": "~2.1.4",
       "_view_module_version": "~2.1.4"
      }
     },
     "3d6ea6bba9184247a19c09baef04031d": {
      "model_module": "jupyter-js-widgets",
      "model_module_version": "~2.1.4",
      "model_name": "ButtonStyleModel",
      "state": {
       "_model_module_version": "~2.1.4",
       "_view_module_version": "~2.1.4"
      }
     },
     "3df210848dda4055b8b46bdd82d34782": {
      "model_module": "jupyter-js-widgets",
      "model_module_version": "~2.1.4",
      "model_name": "LayoutModel",
      "state": {
       "_model_module_version": "~2.1.4",
       "_view_module_version": "~2.1.4"
      }
     },
     "3ea802b4040d40afbc0d6ff5c7d1c872": {
      "model_module": "jupyter-js-widgets",
      "model_module_version": "~2.1.4",
      "model_name": "ProgressStyleModel",
      "state": {
       "_model_module_version": "~2.1.4",
       "_view_module_version": "~2.1.4"
      }
     },
     "3ebf05ad17464456987dc17ed01cfa39": {
      "model_module": "jupyter-js-widgets",
      "model_module_version": "~2.1.4",
      "model_name": "HBoxModel",
      "state": {
       "_model_module_version": "~2.1.4",
       "_view_module_version": "~2.1.4",
       "children": [
        "IPY_MODEL_bd44bf3c949b4d5aa142c79546363de6",
        "IPY_MODEL_8173ec96fa49420da188193d7f9f3b6e"
       ],
       "layout": "IPY_MODEL_e38cd8eb1604411e821d113463ea111d"
      }
     },
     "3fbe4db97b3b4ae6a8e09c9045ad83c8": {
      "model_module": "jupyter-js-widgets",
      "model_module_version": "~2.1.4",
      "model_name": "LayoutModel",
      "state": {
       "_model_module_version": "~2.1.4",
       "_view_module_version": "~2.1.4"
      }
     },
     "3fd1cfbdb5a7496692103832a6cf86d6": {
      "model_module": "jupyter-js-widgets",
      "model_module_version": "~2.1.4",
      "model_name": "ProgressStyleModel",
      "state": {
       "_model_module_version": "~2.1.4",
       "_view_module_version": "~2.1.4"
      }
     },
     "3fe041c35841469f99f4d937b1079a4f": {
      "model_module": "jupyter-js-widgets",
      "model_module_version": "~2.1.4",
      "model_name": "CheckboxModel",
      "state": {
       "_model_module_version": "~2.1.4",
       "_view_module_version": "~2.1.4",
       "disabled": false,
       "layout": "IPY_MODEL_54a6033e91994493b53ad5d6bf8ec5d7",
       "value": false
      }
     },
     "40b677da50ac46378de98e6f3a5336cb": {
      "model_module": "jupyter-js-widgets",
      "model_module_version": "~2.1.4",
      "model_name": "ButtonStyleModel",
      "state": {
       "_model_module_version": "~2.1.4",
       "_view_module_version": "~2.1.4"
      }
     },
     "420feb53e8644ea0b715a00a6e8ef427": {
      "model_module": "jupyter-js-widgets",
      "model_module_version": "~2.1.4",
      "model_name": "HTMLModel",
      "state": {
       "_model_module_version": "~2.1.4",
       "_view_module_version": "~2.1.4",
       "layout": "IPY_MODEL_09f28a21537f476783d98539f3f83a2c",
       "value": "Click on the signal figure and drag to the right to select arange. Press `Apply` to remove the background in the whole dataset. If fast is checked, the background parameters are estimated using a fast (analytical) method that can compromise accuray. When unchecked non linear least squares is employed instead."
      }
     },
     "42161db96bea47a9bc0e6fa614845593": {
      "model_module": "jupyter-js-widgets",
      "model_module_version": "~2.1.4",
      "model_name": "LayoutModel",
      "state": {
       "_model_module_version": "~2.1.4",
       "_view_module_version": "~2.1.4"
      }
     },
     "421b2b3c07584d9fb61b88c7407e6740": {
      "model_module": "jupyter-js-widgets",
      "model_module_version": "~2.1.4",
      "model_name": "LayoutModel",
      "state": {
       "_model_module_version": "~2.1.4",
       "_view_module_version": "~2.1.4"
      }
     },
     "4226a1e69a364b98b0f8cacee4a9c402": {
      "model_module": "jupyter-js-widgets",
      "model_module_version": "~2.1.4",
      "model_name": "ProgressModel",
      "state": {
       "_model_module_version": "~2.1.4",
       "_view_module_version": "~2.1.4",
       "bar_style": "success",
       "layout": "IPY_MODEL_3221b4c6ac494c11a8658399448ab557",
       "max": 2,
       "style": "IPY_MODEL_5fb5c8d1aa034f228d61b6d38d085b8b",
       "value": 2
      }
     },
     "42643e48863241138cceca1ba19f22ae": {
      "model_module": "jupyter-js-widgets",
      "model_module_version": "~2.1.4",
      "model_name": "LayoutModel",
      "state": {
       "_model_module_version": "~2.1.4",
       "_view_module_version": "~2.1.4"
      }
     },
     "428fc539ad0e405a8c3a169596381e4f": {
      "model_module": "jupyter-js-widgets",
      "model_module_version": "~2.1.4",
      "model_name": "HTMLModel",
      "state": {
       "_model_module_version": "~2.1.4",
       "_view_module_version": "~2.1.4",
       "layout": "IPY_MODEL_f60c9f219ea047cba2f9600d819485dd",
       "value": "100% 2/2 [00:00&lt;00:00, 14.73it/s]"
      }
     },
     "42b14e840732453ab41ab850e94120d3": {
      "model_module": "jupyter-js-widgets",
      "model_module_version": "~2.1.4",
      "model_name": "HBoxModel",
      "state": {
       "_model_module_version": "~2.1.4",
       "_view_module_version": "~2.1.4",
       "children": [
        "IPY_MODEL_5c7412e42bf1440f8fd68ff154bccbd7",
        "IPY_MODEL_b8f4e328a3ab45ae97204c861cc93774"
       ],
       "layout": "IPY_MODEL_0adfc4c1ec1b4d2d9dcc89450429fd8c"
      }
     },
     "42c308a426f949c39ff7bb9f4d1e161e": {
      "model_module": "jupyter-js-widgets",
      "model_module_version": "~2.1.4",
      "model_name": "VBoxModel",
      "state": {
       "_model_module_version": "~2.1.4",
       "_view_module_version": "~2.1.4",
       "children": [
        "IPY_MODEL_0d3b270550914e30a98a30994f0f6728",
        "IPY_MODEL_72e9d7613ba4407fb6bdd2ed7be7b346",
        "IPY_MODEL_192428ae3fae444ebe24866d6b787b90",
        "IPY_MODEL_234724c760c9450dbf107e51bd3c0e40",
        "IPY_MODEL_34f0396b79d4466ca1664eb51c89d9cc",
        "IPY_MODEL_ffaabfd89c3f4aa6977632a1e49228e5",
        "IPY_MODEL_9a5e3f4985a04e51824d9ee20abbfd6d"
       ],
       "layout": "IPY_MODEL_c01858e736f54f398cf90376fd795153"
      }
     },
     "43802e1aeb154e3282e0bbd3672cb13f": {
      "model_module": "jupyter-js-widgets",
      "model_module_version": "~2.1.4",
      "model_name": "LayoutModel",
      "state": {
       "_model_module_version": "~2.1.4",
       "_view_module_version": "~2.1.4",
       "width": "auto"
      }
     },
     "4392a59c8c6e4d18a74952f789481c89": {
      "model_module": "jupyter-js-widgets",
      "model_module_version": "~2.1.4",
      "model_name": "AccordionModel",
      "state": {
       "_model_module_version": "~2.1.4",
       "_titles": {
        "0": "Help"
       },
       "_view_module_version": "~2.1.4",
       "children": [
        "IPY_MODEL_9f03fa7a24cd4316a08178398d34742b"
       ],
       "layout": "IPY_MODEL_b3ea44ce5f514419bac3d42e305de513"
      }
     },
     "43d405688cf648828812c7a678344f7d": {
      "model_module": "jupyter-js-widgets",
      "model_module_version": "~2.1.4",
      "model_name": "LayoutModel",
      "state": {
       "_model_module_version": "~2.1.4",
       "_view_module_version": "~2.1.4"
      }
     },
     "448d8428677443d6903a280e85c5e426": {
      "model_module": "jupyter-js-widgets",
      "model_module_version": "~2.1.4",
      "model_name": "LayoutModel",
      "state": {
       "_model_module_version": "~2.1.4",
       "_view_module_version": "~2.1.4",
       "display": "none"
      }
     },
     "45b3b710c8a9435bbf51e6796f821acf": {
      "model_module": "jupyter-js-widgets",
      "model_module_version": "~2.1.4",
      "model_name": "FloatTextModel",
      "state": {
       "_model_module_version": "~2.1.4",
       "_view_module_version": "~2.1.4",
       "description": "Right",
       "disabled": true,
       "layout": "IPY_MODEL_4778a47a80c54a2f8e74d094ff7ad5cb",
       "value": 446.6013750483976
      }
     },
     "463408a72311497688963caa178c684f": {
      "model_module": "jupyter-js-widgets",
      "model_module_version": "~2.1.4",
      "model_name": "HBoxModel",
      "state": {
       "_model_module_version": "~2.1.4",
       "_view_module_version": "~2.1.4",
       "children": [
        "IPY_MODEL_d2c75d4abfc5438bbb16f7b9d99e8513",
        "IPY_MODEL_781f3583d5c54d7f98f657b9d55e9e81"
       ],
       "layout": "IPY_MODEL_117ba1d1ce8f499a9f02c0986bf230fe"
      }
     },
     "4771e91a9b464c0aa4f7a55bcbf1b439": {
      "model_module": "jupyter-js-widgets",
      "model_module_version": "~2.1.4",
      "model_name": "LayoutModel",
      "state": {
       "_model_module_version": "~2.1.4",
       "_view_module_version": "~2.1.4"
      }
     },
     "4778a47a80c54a2f8e74d094ff7ad5cb": {
      "model_module": "jupyter-js-widgets",
      "model_module_version": "~2.1.4",
      "model_name": "LayoutModel",
      "state": {
       "_model_module_version": "~2.1.4",
       "_view_module_version": "~2.1.4"
      }
     },
     "47e78c8bc32e4f27b5259e71da397dbf": {
      "model_module": "jupyter-js-widgets",
      "model_module_version": "~2.1.4",
      "model_name": "LayoutModel",
      "state": {
       "_model_module_version": "~2.1.4",
       "_view_module_version": "~2.1.4"
      }
     },
     "483cb31d6e1e4c1b8d24155fa02bd387": {
      "model_module": "jupyter-js-widgets",
      "model_module_version": "~2.1.4",
      "model_name": "LayoutModel",
      "state": {
       "_model_module_version": "~2.1.4",
       "_view_module_version": "~2.1.4"
      }
     },
     "483eff37f9bb4f23afb9cf5727226a62": {
      "model_module": "jupyter-js-widgets",
      "model_module_version": "~2.1.4",
      "model_name": "LayoutModel",
      "state": {
       "_model_module_version": "~2.1.4",
       "_view_module_version": "~2.1.4"
      }
     },
     "4848086a8a734894b27355579eb39da1": {
      "model_module": "jupyter-js-widgets",
      "model_module_version": "~2.1.4",
      "model_name": "LayoutModel",
      "state": {
       "_model_module_version": "~2.1.4",
       "_view_module_version": "~2.1.4"
      }
     },
     "4903e901bf264207b03467312d480aaa": {
      "model_module": "jupyter-js-widgets",
      "model_module_version": "~2.1.4",
      "model_name": "LayoutModel",
      "state": {
       "_model_module_version": "~2.1.4",
       "_view_module_version": "~2.1.4",
       "width": "auto"
      }
     },
     "4955da8c9f214aa485bf69af3025228c": {
      "model_module": "jupyter-js-widgets",
      "model_module_version": "~2.1.4",
      "model_name": "LayoutModel",
      "state": {
       "_model_module_version": "~2.1.4",
       "_view_module_version": "~2.1.4"
      }
     },
     "49c8271d753e44b992849f598f57bdd0": {
      "model_module": "jupyter-js-widgets",
      "model_module_version": "~2.1.4",
      "model_name": "HTMLModel",
      "state": {
       "_model_module_version": "~2.1.4",
       "_view_module_version": "~2.1.4",
       "layout": "IPY_MODEL_4d8879e1bab34c4597fb0dc47295db18",
       "value": "100% 2/2 [00:00&lt;00:00, 14.08it/s]"
      }
     },
     "4a428cab5bd04a46afb0cabb877b4301": {
      "model_module": "jupyter-js-widgets",
      "model_module_version": "~2.1.4",
      "model_name": "ProgressModel",
      "state": {
       "_model_module_version": "~2.1.4",
       "_view_module_version": "~2.1.4",
       "bar_style": "success",
       "layout": "IPY_MODEL_e32ab810bd154294abb373008375ce28",
       "max": 2,
       "style": "IPY_MODEL_64ba08a0064c4ed59f41309eee2b278b",
       "value": 2
      }
     },
     "4a4c95b347cb4093aae907db172688f8": {
      "model_module": "jupyter-js-widgets",
      "model_module_version": "~2.1.4",
      "model_name": "LayoutModel",
      "state": {
       "_model_module_version": "~2.1.4",
       "_view_module_version": "~2.1.4",
       "display": "none"
      }
     },
     "4aa917cb23904f3d865b354850b6d973": {
      "model_module": "jupyter-js-widgets",
      "model_module_version": "~2.1.4",
      "model_name": "HBoxModel",
      "state": {
       "_model_module_version": "~2.1.4",
       "_view_module_version": "~2.1.4",
       "children": [
        "IPY_MODEL_b18a70b419a64c72a6c31780db7c49a1",
        "IPY_MODEL_3fe041c35841469f99f4d937b1079a4f"
       ],
       "layout": "IPY_MODEL_e38cd8eb1604411e821d113463ea111d"
      }
     },
     "4bfb10280ee4478bb3eb36d1ba7fd35f": {
      "model_module": "jupyter-js-widgets",
      "model_module_version": "~2.1.4",
      "model_name": "LayoutModel",
      "state": {
       "_model_module_version": "~2.1.4",
       "_view_module_version": "~2.1.4"
      }
     },
     "4c5161b482e149c5ae05688ce6dd08f4": {
      "model_module": "jupyter-js-widgets",
      "model_module_version": "~2.1.4",
      "model_name": "AccordionModel",
      "state": {
       "_model_module_version": "~2.1.4",
       "_titles": {
        "0": "Help"
       },
       "_view_module_version": "~2.1.4",
       "children": [
        "IPY_MODEL_420feb53e8644ea0b715a00a6e8ef427"
       ],
       "layout": "IPY_MODEL_edfab38d412249378c1c7fe9b347bc6d"
      }
     },
     "4c5c145aac5d4a8b8ed8eaae0f53ed90": {
      "model_module": "jupyter-js-widgets",
      "model_module_version": "~2.1.4",
      "model_name": "ButtonStyleModel",
      "state": {
       "_model_module_version": "~2.1.4",
       "_view_module_version": "~2.1.4"
      }
     },
     "4d8879e1bab34c4597fb0dc47295db18": {
      "model_module": "jupyter-js-widgets",
      "model_module_version": "~2.1.4",
      "model_name": "LayoutModel",
      "state": {
       "_model_module_version": "~2.1.4",
       "_view_module_version": "~2.1.4"
      }
     },
     "4e9908bc417e4980a3a373d85f695925": {
      "model_module": "jupyter-js-widgets",
      "model_module_version": "~2.1.4",
      "model_name": "ProgressModel",
      "state": {
       "_model_module_version": "~2.1.4",
       "_view_module_version": "~2.1.4",
       "bar_style": "success",
       "layout": "IPY_MODEL_bb42ff9363954ecf88ceb7fdaa1cfeff",
       "max": 2,
       "style": "IPY_MODEL_2e5535cb98f748c4a6a0d63e7295a41a",
       "value": 2
      }
     },
     "4ecad1cb0a9647deb8149785eeaf5207": {
      "model_module": "jupyter-js-widgets",
      "model_module_version": "~2.1.4",
      "model_name": "ButtonModel",
      "state": {
       "_model_module_version": "~2.1.4",
       "_view_module_version": "~2.1.4",
       "description": "Apply",
       "layout": "IPY_MODEL_4848086a8a734894b27355579eb39da1",
       "style": "IPY_MODEL_90edba022ce14ce88c704a28b96e9450",
       "tooltip": "Remove the background in the whole dataset."
      }
     },
     "4f01b442c2f14400ba6dcbfbf61e5103": {
      "model_module": "jupyter-js-widgets",
      "model_module_version": "~2.1.4",
      "model_name": "ProgressStyleModel",
      "state": {
       "_model_module_version": "~2.1.4",
       "_view_module_version": "~2.1.4"
      }
     },
     "4f4111fd868f4358bc52e299175bb467": {
      "model_module": "jupyter-js-widgets",
      "model_module_version": "~2.1.4",
      "model_name": "LayoutModel",
      "state": {
       "_model_module_version": "~2.1.4",
       "_view_module_version": "~2.1.4",
       "width": "auto"
      }
     },
     "509000059f95431eb1573a52a595d2c8": {
      "model_module": "jupyter-js-widgets",
      "model_module_version": "~2.1.4",
      "model_name": "LayoutModel",
      "state": {
       "_model_module_version": "~2.1.4",
       "_view_module_version": "~2.1.4"
      }
     },
     "50c08c751663422aa25367d225267748": {
      "model_module": "jupyter-js-widgets",
      "model_module_version": "~2.1.4",
      "model_name": "LayoutModel",
      "state": {
       "_model_module_version": "~2.1.4",
       "_view_module_version": "~2.1.4"
      }
     },
     "52baa05af6764e52b90339ab19a707b4": {
      "model_module": "jupyter-js-widgets",
      "model_module_version": "~2.1.4",
      "model_name": "LayoutModel",
      "state": {
       "_model_module_version": "~2.1.4",
       "_view_module_version": "~2.1.4",
       "width": "auto"
      }
     },
     "53dee194d4514468acb8da90fe9f2c5f": {
      "model_module": "jupyter-js-widgets",
      "model_module_version": "~2.1.4",
      "model_name": "HBoxModel",
      "state": {
       "_model_module_version": "~2.1.4",
       "_view_module_version": "~2.1.4",
       "children": [
        "IPY_MODEL_ca83f19bcbfe46cfae9878248d2af585",
        "IPY_MODEL_a253be4431b3491ea9c5ddc9222e1d6e",
        "IPY_MODEL_c474766c48c44286931eb6bb041c6f06",
        "IPY_MODEL_8f150cfd24984c138ebc941c2ad0af8d",
        "IPY_MODEL_a253be4431b3491ea9c5ddc9222e1d6e"
       ],
       "layout": "IPY_MODEL_04897807ffa3485885354e69071c014a"
      }
     },
     "54a6033e91994493b53ad5d6bf8ec5d7": {
      "model_module": "jupyter-js-widgets",
      "model_module_version": "~2.1.4",
      "model_name": "LayoutModel",
      "state": {
       "_model_module_version": "~2.1.4",
       "_view_module_version": "~2.1.4"
      }
     },
     "56b575fc06ae42e79b5a502f31f02cc1": {
      "model_module": "jupyter-js-widgets",
      "model_module_version": "~2.1.4",
      "model_name": "ProgressStyleModel",
      "state": {
       "_model_module_version": "~2.1.4",
       "_view_module_version": "~2.1.4"
      }
     },
     "5718819376124ff19d3650db53ebffd2": {
      "model_module": "jupyter-js-widgets",
      "model_module_version": "~2.1.4",
      "model_name": "HTMLModel",
      "state": {
       "_model_module_version": "~2.1.4",
       "_view_module_version": "~2.1.4",
       "layout": "IPY_MODEL_2fa9ea26fb8546ecbffdc5de3701b7f4",
       "value": "100% 2/2 [00:00&lt;00:00, 30.96it/s]"
      }
     },
     "5796bc6f31fc4e4ba6f0f73ff19ffb86": {
      "model_module": "jupyter-js-widgets",
      "model_module_version": "~2.1.4",
      "model_name": "LayoutModel",
      "state": {
       "_model_module_version": "~2.1.4",
       "_view_module_version": "~2.1.4"
      }
     },
     "57ad15ad2f1641b586db84c3ac1b14d8": {
      "model_module": "jupyter-js-widgets",
      "model_module_version": "~2.1.4",
      "model_name": "LayoutModel",
      "state": {
       "_model_module_version": "~2.1.4",
       "_view_module_version": "~2.1.4",
       "display": "none"
      }
     },
     "57afaf7117544dfaa2d4de959e70153a": {
      "model_module": "jupyter-js-widgets",
      "model_module_version": "~2.1.4",
      "model_name": "HBoxModel",
      "state": {
       "_model_module_version": "~2.1.4",
       "_view_module_version": "~2.1.4",
       "children": [
        "IPY_MODEL_eae324dd10fc429393bd0e522e8b3bac",
        "IPY_MODEL_71978f961e224ce7936e24f78de37c69"
       ],
       "layout": "IPY_MODEL_5fd17243ca8f4f7eac0c32c453247dd8"
      }
     },
     "59d27c2bf9cc4ccfadb629298e95d3f9": {
      "model_module": "jupyter-js-widgets",
      "model_module_version": "~2.1.4",
      "model_name": "LayoutModel",
      "state": {
       "_model_module_version": "~2.1.4",
       "_view_module_version": "~2.1.4"
      }
     },
     "5aa6960f2f964ff1b8048e4221517375": {
      "model_module": "jupyter-js-widgets",
      "model_module_version": "~2.1.4",
      "model_name": "LayoutModel",
      "state": {
       "_model_module_version": "~2.1.4",
       "_view_module_version": "~2.1.4"
      }
     },
     "5b361bb4c53c4acab752919950d64715": {
      "model_module": "jupyter-js-widgets",
      "model_module_version": "~2.1.4",
      "model_name": "HBoxModel",
      "state": {
       "_model_module_version": "~2.1.4",
       "_view_module_version": "~2.1.4",
       "children": [
        "IPY_MODEL_e878acf2369d4e268f29626b6cc7127f",
        "IPY_MODEL_9acd2cebe32847f4aacdfec6081035d9"
       ],
       "layout": "IPY_MODEL_e8f3c29cce7647289dfbd04508bc8d6a"
      }
     },
     "5c424bcf50c6472897c873b6e6028d79": {
      "model_module": "jupyter-js-widgets",
      "model_module_version": "~2.1.4",
      "model_name": "ProgressStyleModel",
      "state": {
       "_model_module_version": "~2.1.4",
       "_view_module_version": "~2.1.4"
      }
     },
     "5c7412e42bf1440f8fd68ff154bccbd7": {
      "model_module": "jupyter-js-widgets",
      "model_module_version": "~2.1.4",
      "model_name": "ProgressModel",
      "state": {
       "_model_module_version": "~2.1.4",
       "_view_module_version": "~2.1.4",
       "bar_style": "success",
       "layout": "IPY_MODEL_1bd1c3d7e368409a8a8bcb0e5f2b5e1c",
       "max": 2,
       "style": "IPY_MODEL_e342f398d1a2438490ba760a12ec1315",
       "value": 2
      }
     },
     "5d53caab22df4f3dacfdcdf6f6fdeb9b": {
      "model_module": "jupyter-js-widgets",
      "model_module_version": "~2.1.4",
      "model_name": "LayoutModel",
      "state": {
       "_model_module_version": "~2.1.4",
       "_view_module_version": "~2.1.4"
      }
     },
     "5d659d8b506847e382cb8a9786365a03": {
      "model_module": "jupyter-js-widgets",
      "model_module_version": "~2.1.4",
      "model_name": "LayoutModel",
      "state": {
       "_model_module_version": "~2.1.4",
       "_view_module_version": "~2.1.4"
      }
     },
     "5da105e798324116b3378b83a30bed6d": {
      "model_module": "jupyter-js-widgets",
      "model_module_version": "~2.1.4",
      "model_name": "LayoutModel",
      "state": {
       "_model_module_version": "~2.1.4",
       "_view_module_version": "~2.1.4"
      }
     },
     "5e4038d6b12048b5b1386980877d4d9c": {
      "model_module": "jupyter-js-widgets",
      "model_module_version": "~2.1.4",
      "model_name": "LayoutModel",
      "state": {
       "_model_module_version": "~2.1.4",
       "_view_module_version": "~2.1.4"
      }
     },
     "5ed51fa0cb7a4f9dbdcd762a29599e0b": {
      "model_module": "jupyter-js-widgets",
      "model_module_version": "~2.1.4",
      "model_name": "LayoutModel",
      "state": {
       "_model_module_version": "~2.1.4",
       "_view_module_version": "~2.1.4"
      }
     },
     "5f37adb061ee4c63a073a291c783782e": {
      "model_module": "jupyter-js-widgets",
      "model_module_version": "~2.1.4",
      "model_name": "HTMLModel",
      "state": {
       "_model_module_version": "~2.1.4",
       "_view_module_version": "~2.1.4",
       "layout": "IPY_MODEL_f552342d24a44ec6b96d38ee7e241e77",
       "value": "100% 2/2 [00:00&lt;00:00, 30.57it/s]"
      }
     },
     "5fb5c8d1aa034f228d61b6d38d085b8b": {
      "model_module": "jupyter-js-widgets",
      "model_module_version": "~2.1.4",
      "model_name": "ProgressStyleModel",
      "state": {
       "_model_module_version": "~2.1.4",
       "_view_module_version": "~2.1.4"
      }
     },
     "5fd17243ca8f4f7eac0c32c453247dd8": {
      "model_module": "jupyter-js-widgets",
      "model_module_version": "~2.1.4",
      "model_name": "LayoutModel",
      "state": {
       "_model_module_version": "~2.1.4",
       "_view_module_version": "~2.1.4"
      }
     },
     "5fe4aced8de942b1b20b515dd1691c03": {
      "model_module": "jupyter-js-widgets",
      "model_module_version": "~2.1.4",
      "model_name": "ButtonStyleModel",
      "state": {
       "_model_module_version": "~2.1.4",
       "_view_module_version": "~2.1.4"
      }
     },
     "60d40e759a7d4ef0a55f1c3e955bf0d4": {
      "model_module": "jupyter-js-widgets",
      "model_module_version": "~2.1.4",
      "model_name": "HBoxModel",
      "state": {
       "_model_module_version": "~2.1.4",
       "_view_module_version": "~2.1.4",
       "children": [
        "IPY_MODEL_ee8caa86cefa4ae98a0590899c8a840e",
        "IPY_MODEL_07dfd04448554f94b50cae60a06e697d"
       ],
       "layout": "IPY_MODEL_e38cd8eb1604411e821d113463ea111d"
      }
     },
     "6115e39a67b8493eb3c8414b6d2c0e54": {
      "model_module": "jupyter-js-widgets",
      "model_module_version": "~2.1.4",
      "model_name": "LayoutModel",
      "state": {
       "_model_module_version": "~2.1.4",
       "_view_module_version": "~2.1.4"
      }
     },
     "61ee14c75da4445480fc10c6288391d2": {
      "model_module": "jupyter-js-widgets",
      "model_module_version": "~2.1.4",
      "model_name": "HTMLModel",
      "state": {
       "_model_module_version": "~2.1.4",
       "_view_module_version": "~2.1.4",
       "layout": "IPY_MODEL_cebdfd689784474692effcf7a1f25a94",
       "value": "100% 2/2 [00:00&lt;00:00, 34.87it/s]"
      }
     },
     "61ef0e274f3a4717aab5bcd8e6cf1887": {
      "model_module": "jupyter-js-widgets",
      "model_module_version": "~2.1.4",
      "model_name": "ButtonModel",
      "state": {
       "_model_module_version": "~2.1.4",
       "_view_module_version": "~2.1.4",
       "description": "Close",
       "layout": "IPY_MODEL_9fcf3759134446b9b6c120ec5fc9ab3d",
       "style": "IPY_MODEL_94db418d4aa14b9aaf71ba9bac760d9f",
       "tooltip": "Close widget and remove span selector from the signal figure."
      }
     },
     "62cb447912164c66b412be1ffff6bbef": {
      "model_module": "jupyter-js-widgets",
      "model_module_version": "~2.1.4",
      "model_name": "LayoutModel",
      "state": {
       "_model_module_version": "~2.1.4",
       "_view_module_version": "~2.1.4"
      }
     },
     "63ed80d649874d858f041f904902fd6c": {
      "model_module": "jupyter-js-widgets",
      "model_module_version": "~2.1.4",
      "model_name": "HBoxModel",
      "state": {
       "_model_module_version": "~2.1.4",
       "_view_module_version": "~2.1.4",
       "children": [
        "IPY_MODEL_71a2439cc29e4b0abe373890dd941616",
        "IPY_MODEL_071ce46bcf4c44e4ab4ac800a293d94d"
       ],
       "layout": "IPY_MODEL_8f1a166145ae479bbac5f3e24cd9d667"
      }
     },
     "6491cbbbcf7c4962bcf3e203d533b727": {
      "model_module": "jupyter-js-widgets",
      "model_module_version": "~2.1.4",
      "model_name": "LayoutModel",
      "state": {
       "_model_module_version": "~2.1.4",
       "_view_module_version": "~2.1.4"
      }
     },
     "6493fbb0d8554fd2a9a3a120165ef980": {
      "model_module": "jupyter-js-widgets",
      "model_module_version": "~2.1.4",
      "model_name": "HBoxModel",
      "state": {
       "_model_module_version": "~2.1.4",
       "_view_module_version": "~2.1.4",
       "children": [
        "IPY_MODEL_787aa6b322f74a3f9faa915403d434a2",
        "IPY_MODEL_251f3c197a384a4bb17ab2b6ba513659"
       ],
       "layout": "IPY_MODEL_bf76de15b0c748f8af2bbaabc428e26d"
      }
     },
     "64a7b86438144580be82b17fbe3e7d1b": {
      "model_module": "jupyter-js-widgets",
      "model_module_version": "~2.1.4",
      "model_name": "ProgressStyleModel",
      "state": {
       "_model_module_version": "~2.1.4",
       "_view_module_version": "~2.1.4"
      }
     },
     "64ba08a0064c4ed59f41309eee2b278b": {
      "model_module": "jupyter-js-widgets",
      "model_module_version": "~2.1.4",
      "model_name": "ProgressStyleModel",
      "state": {
       "_model_module_version": "~2.1.4",
       "_view_module_version": "~2.1.4"
      }
     },
     "656aba3975664b69b16243c7b1333d13": {
      "model_module": "jupyter-js-widgets",
      "model_module_version": "~2.1.4",
      "model_name": "ProgressStyleModel",
      "state": {
       "_model_module_version": "~2.1.4",
       "_view_module_version": "~2.1.4"
      }
     },
     "6648208eec8545658171572919a85fbe": {
      "model_module": "jupyter-js-widgets",
      "model_module_version": "~2.1.4",
      "model_name": "LayoutModel",
      "state": {
       "_model_module_version": "~2.1.4",
       "_view_module_version": "~2.1.4"
      }
     },
     "683878d92e8d424eaa5be564ab102c36": {
      "model_module": "jupyter-js-widgets",
      "model_module_version": "~2.1.4",
      "model_name": "LayoutModel",
      "state": {
       "_model_module_version": "~2.1.4",
       "_view_module_version": "~2.1.4"
      }
     },
     "68f1eb488ee5498ca6db31efbe646a7e": {
      "model_module": "jupyter-js-widgets",
      "model_module_version": "~2.1.4",
      "model_name": "LayoutModel",
      "state": {
       "_model_module_version": "~2.1.4",
       "_view_module_version": "~2.1.4"
      }
     },
     "69105d60f47f447d8ff85265263fe431": {
      "model_module": "jupyter-js-widgets",
      "model_module_version": "~2.1.4",
      "model_name": "ButtonModel",
      "state": {
       "_model_module_version": "~2.1.4",
       "_view_module_version": "~2.1.4",
       "description": "Save",
       "layout": "IPY_MODEL_73184a1a9ab14bac92036d637e5a4d8d",
       "style": "IPY_MODEL_4c5c145aac5d4a8b8ed8eaae0f53ed90",
       "tooltip": "Make changes permanent"
      }
     },
     "69b0d778cfbb43cb824f59e7e151f6e5": {
      "model_module": "jupyter-js-widgets",
      "model_module_version": "~2.1.4",
      "model_name": "ProgressModel",
      "state": {
       "_model_module_version": "~2.1.4",
       "_view_module_version": "~2.1.4",
       "bar_style": "success",
       "layout": "IPY_MODEL_aeb1360f3dc1458faa9b34fad6212e4b",
       "max": 2,
       "style": "IPY_MODEL_3fd1cfbdb5a7496692103832a6cf86d6",
       "value": 2
      }
     },
     "6ab8908fa6904f4387d87e6cda53e46a": {
      "model_module": "jupyter-js-widgets",
      "model_module_version": "~2.1.4",
      "model_name": "LayoutModel",
      "state": {
       "_model_module_version": "~2.1.4",
       "_view_module_version": "~2.1.4"
      }
     },
     "6ac2faa864a641a78737ba302ab1ca4b": {
      "model_module": "jupyter-js-widgets",
      "model_module_version": "~2.1.4",
      "model_name": "LayoutModel",
      "state": {
       "_model_module_version": "~2.1.4",
       "_view_module_version": "~2.1.4"
      }
     },
     "6ada2cdafc8e4ff9a9cb1dd26a277070": {
      "model_module": "jupyter-js-widgets",
      "model_module_version": "~2.1.4",
      "model_name": "LayoutModel",
      "state": {
       "_model_module_version": "~2.1.4",
       "_view_module_version": "~2.1.4"
      }
     },
     "6ae66beef83340ea81674380bed48f29": {
      "model_module": "jupyter-js-widgets",
      "model_module_version": "~2.1.4",
      "model_name": "LayoutModel",
      "state": {
       "_model_module_version": "~2.1.4",
       "_view_module_version": "~2.1.4"
      }
     },
     "6aee29028e2d42b0a223318f574c354d": {
      "model_module": "jupyter-js-widgets",
      "model_module_version": "~2.1.4",
      "model_name": "HBoxModel",
      "state": {
       "_model_module_version": "~2.1.4",
       "_view_module_version": "~2.1.4",
       "children": [
        "IPY_MODEL_c5b4643827fd45058d27dfc1a4529efd",
        "IPY_MODEL_8dda9d1679014523a021bab7a45562b0"
       ],
       "layout": "IPY_MODEL_7a1f5c45c83945f683a73a597f18dfae"
      }
     },
     "6b5e1a090bd948eb9e8f4bcb7c6e0ed0": {
      "model_module": "jupyter-js-widgets",
      "model_module_version": "~2.1.4",
      "model_name": "LayoutModel",
      "state": {
       "_model_module_version": "~2.1.4",
       "_view_module_version": "~2.1.4"
      }
     },
     "6c765d5215c74792a70e438afd69b98d": {
      "model_module": "jupyter-js-widgets",
      "model_module_version": "~2.1.4",
      "model_name": "ButtonModel",
      "state": {
       "_model_module_version": "~2.1.4",
       "_view_module_version": "~2.1.4",
       "description": "Fit",
       "layout": "IPY_MODEL_1178b550b91e434e86f7ee04982142cb",
       "style": "IPY_MODEL_40b677da50ac46378de98e6f3a5336cb",
       "tooltip": "Fit in the selected signal range"
      }
     },
     "6c8ea1a5d49c4d4990ca500e381ed89b": {
      "model_module": "jupyter-js-widgets",
      "model_module_version": "~2.1.4",
      "model_name": "LayoutModel",
      "state": {
       "_model_module_version": "~2.1.4",
       "_view_module_version": "~2.1.4"
      }
     },
     "6e91bd5734a14b878248668cc32a9bc4": {
      "model_module": "jupyter-js-widgets",
      "model_module_version": "~2.1.4",
      "model_name": "LayoutModel",
      "state": {
       "_model_module_version": "~2.1.4",
       "_view_module_version": "~2.1.4"
      }
     },
     "6eccc06f65d2417db252ddfcf8f8adbb": {
      "model_module": "jupyter-js-widgets",
      "model_module_version": "~2.1.4",
      "model_name": "LayoutModel",
      "state": {
       "_model_module_version": "~2.1.4",
       "_view_module_version": "~2.1.4",
       "display": "none"
      }
     },
     "6ed9e8f6cf364d42ae95344de5a156ca": {
      "model_module": "jupyter-js-widgets",
      "model_module_version": "~2.1.4",
      "model_name": "HBoxModel",
      "state": {
       "_model_module_version": "~2.1.4",
       "_view_module_version": "~2.1.4",
       "children": [
        "IPY_MODEL_ec8c4c668b5545df9370f7cb54127aef",
        "IPY_MODEL_bf94710096364a5ba3ee43b38ed9fa0b"
       ],
       "layout": "IPY_MODEL_ef8d6ed5ac52458ab2d83016f816ad30"
      }
     },
     "6fb507ca6e7141339b9e13ee5ea93ab1": {
      "model_module": "jupyter-js-widgets",
      "model_module_version": "~2.1.4",
      "model_name": "LayoutModel",
      "state": {
       "_model_module_version": "~2.1.4",
       "_view_module_version": "~2.1.4"
      }
     },
     "6ff4e82198a3437da8b4c92ce2b56bbb": {
      "model_module": "jupyter-js-widgets",
      "model_module_version": "~2.1.4",
      "model_name": "LayoutModel",
      "state": {
       "_model_module_version": "~2.1.4",
       "_view_module_version": "~2.1.4"
      }
     },
     "70740c8dc7f942cfa4bee01c11fcfd86": {
      "model_module": "jupyter-js-widgets",
      "model_module_version": "~2.1.4",
      "model_name": "AccordionModel",
      "state": {
       "_model_module_version": "~2.1.4",
       "_titles": {
        "0": "Help"
       },
       "_view_module_version": "~2.1.4",
       "children": [
        "IPY_MODEL_052af2190d4546dc92b92a8082860829"
       ],
       "layout": "IPY_MODEL_34149f12e79a42d4af61fcbeca0b25ac"
      }
     },
     "7153402f22a34a77b32bbaa0e77790e6": {
      "model_module": "jupyter-js-widgets",
      "model_module_version": "~2.1.4",
      "model_name": "LayoutModel",
      "state": {
       "_model_module_version": "~2.1.4",
       "_view_module_version": "~2.1.4",
       "width": "auto"
      }
     },
     "71978f961e224ce7936e24f78de37c69": {
      "model_module": "jupyter-js-widgets",
      "model_module_version": "~2.1.4",
      "model_name": "HTMLModel",
      "state": {
       "_model_module_version": "~2.1.4",
       "_view_module_version": "~2.1.4",
       "layout": "IPY_MODEL_3df210848dda4055b8b46bdd82d34782",
       "value": "100% 2/2 [00:00&lt;00:00, 21.53it/s]"
      }
     },
     "71a2439cc29e4b0abe373890dd941616": {
      "model_module": "jupyter-js-widgets",
      "model_module_version": "~2.1.4",
      "model_name": "ProgressModel",
      "state": {
       "_model_module_version": "~2.1.4",
       "_view_module_version": "~2.1.4",
       "bar_style": "success",
       "layout": "IPY_MODEL_188ff97b2a8f4e58a6b9b10f32e037a8",
       "max": 5,
       "style": "IPY_MODEL_c739d9400d04472d983265700ed48486",
       "value": 5
      }
     },
     "7299aa4f930c45518f683c10379d9e79": {
      "model_module": "jupyter-js-widgets",
      "model_module_version": "~2.1.4",
      "model_name": "ProgressStyleModel",
      "state": {
       "_model_module_version": "~2.1.4",
       "_view_module_version": "~2.1.4"
      }
     },
     "72e9d7613ba4407fb6bdd2ed7be7b346": {
      "model_module": "jupyter-js-widgets",
      "model_module_version": "~2.1.4",
      "model_name": "FloatTextModel",
      "state": {
       "_model_module_version": "~2.1.4",
       "_view_module_version": "~2.1.4",
       "description": "Right",
       "disabled": true,
       "layout": "IPY_MODEL_3415b8fbbeca4c4ebde823e549dffc88",
       "value": 509.5326557314271
      }
     },
     "73078b11b48d43159c53c21d7c05af33": {
      "model_module": "jupyter-js-widgets",
      "model_module_version": "~2.1.4",
      "model_name": "HTMLModel",
      "state": {
       "_model_module_version": "~2.1.4",
       "_view_module_version": "~2.1.4",
       "layout": "IPY_MODEL_68f1eb488ee5498ca6db31efbe646a7e",
       "value": "100% 2/2 [00:00&lt;00:00, 17.10it/s]"
      }
     },
     "730d946acfed478983e7da7a064b6945": {
      "model_module": "jupyter-js-widgets",
      "model_module_version": "~2.1.4",
      "model_name": "LabelModel",
      "state": {
       "_model_module_version": "~2.1.4",
       "_view_module_version": "~2.1.4",
       "layout": "IPY_MODEL_9c11489e8b314754aed61d2923fe74fc",
       "value": "Parallel"
      }
     },
     "73184a1a9ab14bac92036d637e5a4d8d": {
      "model_module": "jupyter-js-widgets",
      "model_module_version": "~2.1.4",
      "model_name": "LayoutModel",
      "state": {
       "_model_module_version": "~2.1.4",
       "_view_module_version": "~2.1.4"
      }
     },
     "740149b42d354ecc998dbd93cd76a1a8": {
      "model_module": "jupyter-js-widgets",
      "model_module_version": "~2.1.4",
      "model_name": "AccordionModel",
      "state": {
       "_model_module_version": "~2.1.4",
       "_titles": {
        "0": "Help"
       },
       "_view_module_version": "~2.1.4",
       "children": [
        "IPY_MODEL_e09bddecf1e74b8f80a850570016a983"
       ],
       "layout": "IPY_MODEL_1bc99bef28e24c0d8000b2d4e368291f"
      }
     },
     "74ade14a0a2c43ac9c3b868fff28ab1b": {
      "model_module": "jupyter-js-widgets",
      "model_module_version": "~2.1.4",
      "model_name": "ButtonStyleModel",
      "state": {
       "_model_module_version": "~2.1.4",
       "_view_module_version": "~2.1.4"
      }
     },
     "74bf1e2cb3e84a078ef3e92d0f2723d9": {
      "model_module": "jupyter-js-widgets",
      "model_module_version": "~2.1.4",
      "model_name": "LayoutModel",
      "state": {
       "_model_module_version": "~2.1.4",
       "_view_module_version": "~2.1.4"
      }
     },
     "75706747fbd7403689eb416b33e10966": {
      "model_module": "jupyter-js-widgets",
      "model_module_version": "~2.1.4",
      "model_name": "ProgressModel",
      "state": {
       "_model_module_version": "~2.1.4",
       "_view_module_version": "~2.1.4",
       "bar_style": "success",
       "layout": "IPY_MODEL_bbc37509c1b3429c8b08ea7a0b72fac5",
       "max": 5,
       "style": "IPY_MODEL_2b26f7cf6c48492294e13e6e14312dd3",
       "value": 5
      }
     },
     "75a0a36b4dd5436aa3b4c921d61e411f": {
      "model_module": "jupyter-js-widgets",
      "model_module_version": "~2.1.4",
      "model_name": "HTMLModel",
      "state": {
       "_model_module_version": "~2.1.4",
       "_view_module_version": "~2.1.4",
       "layout": "IPY_MODEL_d140453ca64946deaeb20ca6b6e60995",
       "value": "100% 2/2 [00:00&lt;00:00, 31.21it/s]"
      }
     },
     "76387ac93bee4521afe723c54cc44423": {
      "model_module": "jupyter-js-widgets",
      "model_module_version": "~2.1.4",
      "model_name": "HBoxModel",
      "state": {
       "_model_module_version": "~2.1.4",
       "_view_module_version": "~2.1.4",
       "children": [
        "IPY_MODEL_0d144052a1ac4ab9861894f951a1f9df",
        "IPY_MODEL_5718819376124ff19d3650db53ebffd2"
       ],
       "layout": "IPY_MODEL_88185cd025e746f6be5053763aa1b4c4"
      }
     },
     "7663bb63924645d5ac3d34a1fda69d9f": {
      "model_module": "jupyter-js-widgets",
      "model_module_version": "~2.1.4",
      "model_name": "LayoutModel",
      "state": {
       "_model_module_version": "~2.1.4",
       "_view_module_version": "~2.1.4",
       "width": "auto"
      }
     },
     "76908d49e1fc42bdb1cd89535406ae98": {
      "model_module": "jupyter-js-widgets",
      "model_module_version": "~2.1.4",
      "model_name": "LabelModel",
      "state": {
       "_model_module_version": "~2.1.4",
       "_view_module_version": "~2.1.4",
       "layout": "IPY_MODEL_52baa05af6764e52b90339ab19a707b4",
       "value": "GOS directory"
      }
     },
     "781c757b6acc42398a2310c3e74edebf": {
      "model_module": "jupyter-js-widgets",
      "model_module_version": "~2.1.4",
      "model_name": "LayoutModel",
      "state": {
       "_model_module_version": "~2.1.4",
       "_view_module_version": "~2.1.4"
      }
     },
     "781f3583d5c54d7f98f657b9d55e9e81": {
      "model_module": "jupyter-js-widgets",
      "model_module_version": "~2.1.4",
      "model_name": "HTMLModel",
      "state": {
       "_model_module_version": "~2.1.4",
       "_view_module_version": "~2.1.4",
       "layout": "IPY_MODEL_43d405688cf648828812c7a678344f7d",
       "value": "100% 2/2 [00:00&lt;00:00, 18.25it/s]"
      }
     },
     "787aa6b322f74a3f9faa915403d434a2": {
      "model_module": "jupyter-js-widgets",
      "model_module_version": "~2.1.4",
      "model_name": "ButtonModel",
      "state": {
       "_model_module_version": "~2.1.4",
       "_view_module_version": "~2.1.4",
       "description": "Apply",
       "layout": "IPY_MODEL_42161db96bea47a9bc0e6fa614845593",
       "style": "IPY_MODEL_3d6ea6bba9184247a19c09baef04031d",
       "tooltip": "Remove the background in the whole dataset."
      }
     },
     "790b8dabbfbf42fc825577c0113cbafb": {
      "model_module": "jupyter-js-widgets",
      "model_module_version": "~2.1.4",
      "model_name": "LayoutModel",
      "state": {
       "_model_module_version": "~2.1.4",
       "_view_module_version": "~2.1.4"
      }
     },
     "7932ee9da6ff49eba6b8625ecadc0d61": {
      "model_module": "jupyter-js-widgets",
      "model_module_version": "~2.1.4",
      "model_name": "LabelModel",
      "state": {
       "_model_module_version": "~2.1.4",
       "_view_module_version": "~2.1.4",
       "layout": "IPY_MODEL_9ce41e15c96a43b1a4644f79c42385eb",
       "value": "Only current"
      }
     },
     "7980f1e77d3d4d5482b4aceaf63ea713": {
      "model_module": "jupyter-js-widgets",
      "model_module_version": "~2.1.4",
      "model_name": "LayoutModel",
      "state": {
       "_model_module_version": "~2.1.4",
       "_view_module_version": "~2.1.4"
      }
     },
     "799eee499d204583a6e9360025fb275d": {
      "model_module": "jupyter-js-widgets",
      "model_module_version": "~2.1.4",
      "model_name": "ProgressStyleModel",
      "state": {
       "_model_module_version": "~2.1.4",
       "_view_module_version": "~2.1.4"
      }
     },
     "7a1f5c45c83945f683a73a597f18dfae": {
      "model_module": "jupyter-js-widgets",
      "model_module_version": "~2.1.4",
      "model_name": "LayoutModel",
      "state": {
       "_model_module_version": "~2.1.4",
       "_view_module_version": "~2.1.4"
      }
     },
     "7ad62ffe64574f338cea3531b491bf44": {
      "model_module": "jupyter-js-widgets",
      "model_module_version": "~2.1.4",
      "model_name": "ProgressModel",
      "state": {
       "_model_module_version": "~2.1.4",
       "_view_module_version": "~2.1.4",
       "bar_style": "success",
       "layout": "IPY_MODEL_02b46d644d5a49e1a4c0e5079de432ac",
       "max": 5,
       "style": "IPY_MODEL_7299aa4f930c45518f683c10379d9e79",
       "value": 5
      }
     },
     "7af25efc49a14edea69f76ac6b8eb5b6": {
      "model_module": "jupyter-js-widgets",
      "model_module_version": "~2.1.4",
      "model_name": "ProgressModel",
      "state": {
       "_model_module_version": "~2.1.4",
       "_view_module_version": "~2.1.4",
       "bar_style": "success",
       "layout": "IPY_MODEL_dc4c883e0ae143adacde332e3f5a05b9",
       "max": 2,
       "style": "IPY_MODEL_0ab0c1a0338240e5933a45c0e8572648",
       "value": 2
      }
     },
     "7c1989ff0fe045fc9a053512efe2671d": {
      "model_module": "jupyter-js-widgets",
      "model_module_version": "~2.1.4",
      "model_name": "LayoutModel",
      "state": {
       "_model_module_version": "~2.1.4",
       "_view_module_version": "~2.1.4"
      }
     },
     "7c4bfe7e7d68478ea63b1b107c07378e": {
      "model_module": "jupyter-js-widgets",
      "model_module_version": "~2.1.4",
      "model_name": "LayoutModel",
      "state": {
       "_model_module_version": "~2.1.4",
       "_view_module_version": "~2.1.4"
      }
     },
     "7c6258b96ac84e678905c5b778c10bf6": {
      "model_module": "jupyter-js-widgets",
      "model_module_version": "~2.1.4",
      "model_name": "ProgressModel",
      "state": {
       "_model_module_version": "~2.1.4",
       "_view_module_version": "~2.1.4",
       "bar_style": "success",
       "layout": "IPY_MODEL_790b8dabbfbf42fc825577c0113cbafb",
       "max": 2,
       "style": "IPY_MODEL_95186ab040af40f498304122a7693c00",
       "value": 2
      }
     },
     "7df9c49285354e4993b1e4eb665df595": {
      "model_module": "jupyter-js-widgets",
      "model_module_version": "~2.1.4",
      "model_name": "DropdownModel",
      "state": {
       "_model_module_version": "~2.1.4",
       "_options_labels": [
        "Power Law",
        "Gaussian",
        "Offset",
        "Polynomial"
       ],
       "_view_module_version": "~2.1.4",
       "description": "Background type",
       "layout": "IPY_MODEL_03f12a2559aa4f038849ce6c3dabfd14",
       "value": "Power Law"
      }
     },
     "7e1476a387ae4dacaccc90ce51cf30ec": {
      "model_module": "jupyter-js-widgets",
      "model_module_version": "~2.1.4",
      "model_name": "HBoxModel",
      "state": {
       "_model_module_version": "~2.1.4",
       "_view_module_version": "~2.1.4",
       "children": [
        "IPY_MODEL_81b5bf1d2fab41fc80c5d834ded99d17",
        "IPY_MODEL_d659f467e17645faadbcd9404d350d14"
       ],
       "layout": "IPY_MODEL_e38cd8eb1604411e821d113463ea111d"
      }
     },
     "7e307dc0195542c6a1b5ccbe05f9b250": {
      "model_module": "jupyter-js-widgets",
      "model_module_version": "~2.1.4",
      "model_name": "LayoutModel",
      "state": {
       "_model_module_version": "~2.1.4",
       "_view_module_version": "~2.1.4"
      }
     },
     "8028eedb8ae0472ca317fb3153fe73e1": {
      "model_module": "jupyter-js-widgets",
      "model_module_version": "~2.1.4",
      "model_name": "ButtonModel",
      "state": {
       "_model_module_version": "~2.1.4",
       "_view_module_version": "~2.1.4",
       "description": "Apply",
       "layout": "IPY_MODEL_421b2b3c07584d9fb61b88c7407e6740",
       "style": "IPY_MODEL_8e74dd6b30dd4cdcac0518e031999bc6",
       "tooltip": "Remove the background in the whole dataset."
      }
     },
     "81592a95cf454f4a8a3628e79b3ef441": {
      "model_module": "jupyter-js-widgets",
      "model_module_version": "~2.1.4",
      "model_name": "LayoutModel",
      "state": {
       "_model_module_version": "~2.1.4",
       "_view_module_version": "~2.1.4"
      }
     },
     "8173ec96fa49420da188193d7f9f3b6e": {
      "model_module": "jupyter-js-widgets",
      "model_module_version": "~2.1.4",
      "model_name": "FloatTextModel",
      "state": {
       "_model_module_version": "~2.1.4",
       "_view_module_version": "~2.1.4",
       "layout": "IPY_MODEL_3abd454420ee42cb86684be4038d320b",
       "value": 35
      }
     },
     "81b5bf1d2fab41fc80c5d834ded99d17": {
      "model_module": "jupyter-js-widgets",
      "model_module_version": "~2.1.4",
      "model_name": "LabelModel",
      "state": {
       "_model_module_version": "~2.1.4",
       "_view_module_version": "~2.1.4",
       "layout": "IPY_MODEL_43802e1aeb154e3282e0bbd3672cb13f",
       "value": "Stage tilt"
      }
     },
     "82c91b22360a4dc39229a523945024f4": {
      "model_module": "jupyter-js-widgets",
      "model_module_version": "~2.1.4",
      "model_name": "AccordionModel",
      "state": {
       "_model_module_version": "~2.1.4",
       "_titles": {
        "0": "Help"
       },
       "_view_module_version": "~2.1.4",
       "children": [
        "IPY_MODEL_c48f6294037649dcb8d28a15eb90d820"
       ],
       "layout": "IPY_MODEL_db5de0b3adad4f11988a2231f85db031"
      }
     },
     "82d641560d554868a11abf52b47d118e": {
      "model_module": "jupyter-js-widgets",
      "model_module_version": "~2.1.4",
      "model_name": "LayoutModel",
      "state": {
       "_model_module_version": "~2.1.4",
       "_view_module_version": "~2.1.4"
      }
     },
     "82ed1bc8d6e94d60bbaa6397704cfe06": {
      "model_module": "jupyter-js-widgets",
      "model_module_version": "~2.1.4",
      "model_name": "ProgressModel",
      "state": {
       "_model_module_version": "~2.1.4",
       "_view_module_version": "~2.1.4",
       "bar_style": "success",
       "layout": "IPY_MODEL_4771e91a9b464c0aa4f7a55bcbf1b439",
       "max": 5,
       "style": "IPY_MODEL_cfb008cabd134fa6af733ef658500438",
       "value": 5
      }
     },
     "83667aba9aae4fdcb2049da20be207e3": {
      "model_module": "jupyter-js-widgets",
      "model_module_version": "~2.1.4",
      "model_name": "ButtonModel",
      "state": {
       "_model_module_version": "~2.1.4",
       "_view_module_version": "~2.1.4",
       "description": "Apply",
       "layout": "IPY_MODEL_50c08c751663422aa25367d225267748",
       "style": "IPY_MODEL_1025722266d34d27b55d63df1e50ac69",
       "tooltip": "Perform the operation using the selected range."
      }
     },
     "852db1e6aec44b24bf855a5779974688": {
      "model_module": "jupyter-js-widgets",
      "model_module_version": "~2.1.4",
      "model_name": "HBoxModel",
      "state": {
       "_model_module_version": "~2.1.4",
       "_view_module_version": "~2.1.4",
       "children": [
        "IPY_MODEL_69b0d778cfbb43cb824f59e7e151f6e5",
        "IPY_MODEL_fca1834fc10f4f128878b0349f6d8113"
       ],
       "layout": "IPY_MODEL_ddff236b686648d1a614bab8d236f42f"
      }
     },
     "864b7865ffd94af88af64672637c252c": {
      "model_module": "jupyter-js-widgets",
      "model_module_version": "~2.1.4",
      "model_name": "ButtonStyleModel",
      "state": {
       "_model_module_version": "~2.1.4",
       "_view_module_version": "~2.1.4"
      }
     },
     "87b6cb09c8de475192c2174c31721d15": {
      "model_module": "jupyter-js-widgets",
      "model_module_version": "~2.1.4",
      "model_name": "HTMLModel",
      "state": {
       "_model_module_version": "~2.1.4",
       "_view_module_version": "~2.1.4",
       "layout": "IPY_MODEL_7980f1e77d3d4d5482b4aceaf63ea713",
       "value": "100% 5/5 [00:00&lt;00:00, 31.20it/s]"
      }
     },
     "88185cd025e746f6be5053763aa1b4c4": {
      "model_module": "jupyter-js-widgets",
      "model_module_version": "~2.1.4",
      "model_name": "LayoutModel",
      "state": {
       "_model_module_version": "~2.1.4",
       "_view_module_version": "~2.1.4"
      }
     },
     "89cd52d29f174dd08e811a11b03d7dba": {
      "model_module": "jupyter-js-widgets",
      "model_module_version": "~2.1.4",
      "model_name": "HBoxModel",
      "state": {
       "_model_module_version": "~2.1.4",
       "_view_module_version": "~2.1.4",
       "children": [
        "IPY_MODEL_a03b357823274fcd93d37f0c536161de",
        "IPY_MODEL_93f90c0c406042c1a144402995db1d2c"
       ],
       "layout": "IPY_MODEL_310e06607f8d480f9c99a70387c9fa56"
      }
     },
     "89d0ed4706ac4d24bbc9d54a65a2ae0b": {
      "model_module": "jupyter-js-widgets",
      "model_module_version": "~2.1.4",
      "model_name": "LayoutModel",
      "state": {
       "_model_module_version": "~2.1.4",
       "_view_module_version": "~2.1.4"
      }
     },
     "8add08e0012e4919a0b766d549ee970e": {
      "model_module": "jupyter-js-widgets",
      "model_module_version": "~2.1.4",
      "model_name": "HBoxModel",
      "state": {
       "_model_module_version": "~2.1.4",
       "_view_module_version": "~2.1.4",
       "children": [
        "IPY_MODEL_d21f35e74b9847ffbaa170496b7321b0",
        "IPY_MODEL_f4e68676ca4d4b0a86f013aabdde6c00"
       ],
       "layout": "IPY_MODEL_e38cd8eb1604411e821d113463ea111d"
      }
     },
     "8c028ec0b8d4477b8b4e65385f381cad": {
      "model_module": "jupyter-js-widgets",
      "model_module_version": "~2.1.4",
      "model_name": "HBoxModel",
      "state": {
       "_model_module_version": "~2.1.4",
       "_view_module_version": "~2.1.4",
       "children": [
        "IPY_MODEL_83667aba9aae4fdcb2049da20be207e3",
        "IPY_MODEL_20793d6f21d34f92922b0c8bfbf9eca9"
       ],
       "layout": "IPY_MODEL_2538896a6ec1468fb4905a353e4f02f4"
      }
     },
     "8c6d96a9f680474897e36feae4a3af02": {
      "model_module": "jupyter-js-widgets",
      "model_module_version": "~2.1.4",
      "model_name": "HBoxModel",
      "state": {
       "_model_module_version": "~2.1.4",
       "_view_module_version": "~2.1.4",
       "children": [
        "IPY_MODEL_e1b1ff345a8f440f821fa3c71b430f4f",
        "IPY_MODEL_61ee14c75da4445480fc10c6288391d2"
       ],
       "layout": "IPY_MODEL_c274a0936d50471d880228cc45463106"
      }
     },
     "8dda9d1679014523a021bab7a45562b0": {
      "model_module": "jupyter-js-widgets",
      "model_module_version": "~2.1.4",
      "model_name": "HTMLModel",
      "state": {
       "_model_module_version": "~2.1.4",
       "_view_module_version": "~2.1.4",
       "layout": "IPY_MODEL_24a1d9e9367e46688153a2c25fb52c82",
       "value": "100% 2/2 [00:00&lt;00:00, 26.63it/s]"
      }
     },
     "8e74dd6b30dd4cdcac0518e031999bc6": {
      "model_module": "jupyter-js-widgets",
      "model_module_version": "~2.1.4",
      "model_name": "ButtonStyleModel",
      "state": {
       "_model_module_version": "~2.1.4",
       "_view_module_version": "~2.1.4"
      }
     },
     "8f150cfd24984c138ebc941c2ad0af8d": {
      "model_module": "jupyter-js-widgets",
      "model_module_version": "~2.1.4",
      "model_name": "FloatTextModel",
      "state": {
       "_model_module_version": "~2.1.4",
       "_view_module_version": "~2.1.4",
       "disabled": true,
       "layout": "IPY_MODEL_1df4368025804af1975a7ac32e7feada",
       "value": "nan"
      }
     },
     "8f1a166145ae479bbac5f3e24cd9d667": {
      "model_module": "jupyter-js-widgets",
      "model_module_version": "~2.1.4",
      "model_name": "LayoutModel",
      "state": {
       "_model_module_version": "~2.1.4",
       "_view_module_version": "~2.1.4"
      }
     },
     "8faa832514fc46bb962f540f263f5f74": {
      "model_module": "jupyter-js-widgets",
      "model_module_version": "~2.1.4",
      "model_name": "CheckboxModel",
      "state": {
       "_model_module_version": "~2.1.4",
       "_view_module_version": "~2.1.4",
       "disabled": false,
       "layout": "IPY_MODEL_a175da24d503420697b992e3618fed18",
       "value": true
      }
     },
     "90676a5f11ab473e8e711db3be11f3a4": {
      "model_module": "jupyter-js-widgets",
      "model_module_version": "~2.1.4",
      "model_name": "LayoutModel",
      "state": {
       "_model_module_version": "~2.1.4",
       "_view_module_version": "~2.1.4"
      }
     },
     "90edba022ce14ce88c704a28b96e9450": {
      "model_module": "jupyter-js-widgets",
      "model_module_version": "~2.1.4",
      "model_name": "ButtonStyleModel",
      "state": {
       "_model_module_version": "~2.1.4",
       "_view_module_version": "~2.1.4"
      }
     },
     "9112f9e3d2f548588aa63fad68549892": {
      "model_module": "jupyter-js-widgets",
      "model_module_version": "~2.1.4",
      "model_name": "LayoutModel",
      "state": {
       "_model_module_version": "~2.1.4",
       "_view_module_version": "~2.1.4",
       "width": "auto"
      }
     },
     "915a67710ef040dda0ef30b08918511b": {
      "model_module": "jupyter-js-widgets",
      "model_module_version": "~2.1.4",
      "model_name": "FloatTextModel",
      "state": {
       "_model_module_version": "~2.1.4",
       "_view_module_version": "~2.1.4",
       "disabled": true,
       "layout": "IPY_MODEL_9b6a7a2368c5466cb1ab35681d6f6abd",
       "value": 515.9864882973021
      }
     },
     "93495e13fdd843228fe97082457d8430": {
      "model_module": "jupyter-js-widgets",
      "model_module_version": "~2.1.4",
      "model_name": "LayoutModel",
      "state": {
       "_model_module_version": "~2.1.4",
       "_view_module_version": "~2.1.4"
      }
     },
     "93f90c0c406042c1a144402995db1d2c": {
      "model_module": "jupyter-js-widgets",
      "model_module_version": "~2.1.4",
      "model_name": "HTMLModel",
      "state": {
       "_model_module_version": "~2.1.4",
       "_view_module_version": "~2.1.4",
       "layout": "IPY_MODEL_b361711e6bef48eb818e1c7aa1d9caaa",
       "value": "100% 2/2 [00:00&lt;00:00, 22.52it/s]"
      }
     },
     "94d6229f8e9f430dbbdb8bdbf63b676f": {
      "model_module": "jupyter-js-widgets",
      "model_module_version": "~2.1.4",
      "model_name": "ProgressModel",
      "state": {
       "_model_module_version": "~2.1.4",
       "_view_module_version": "~2.1.4",
       "bar_style": "success",
       "layout": "IPY_MODEL_6ff4e82198a3437da8b4c92ce2b56bbb",
       "max": 2,
       "style": "IPY_MODEL_656aba3975664b69b16243c7b1333d13",
       "value": 2
      }
     },
     "94db418d4aa14b9aaf71ba9bac760d9f": {
      "model_module": "jupyter-js-widgets",
      "model_module_version": "~2.1.4",
      "model_name": "ButtonStyleModel",
      "state": {
       "_model_module_version": "~2.1.4",
       "_view_module_version": "~2.1.4"
      }
     },
     "95186ab040af40f498304122a7693c00": {
      "model_module": "jupyter-js-widgets",
      "model_module_version": "~2.1.4",
      "model_name": "ProgressStyleModel",
      "state": {
       "_model_module_version": "~2.1.4",
       "_view_module_version": "~2.1.4"
      }
     },
     "95809276eebe4603accc4c9aaa935f9b": {
      "model_module": "jupyter-js-widgets",
      "model_module_version": "~2.1.4",
      "model_name": "HBoxModel",
      "state": {
       "_model_module_version": "~2.1.4",
       "_view_module_version": "~2.1.4",
       "children": [
        "IPY_MODEL_d2b79e447c6a4073aa64fa59e85f7068",
        "IPY_MODEL_e020b211c7a54ccda691d9be97a153e6"
       ],
       "layout": "IPY_MODEL_e38cd8eb1604411e821d113463ea111d"
      }
     },
     "95a7b694fb0548288d9dcccd5f9ca1aa": {
      "model_module": "jupyter-js-widgets",
      "model_module_version": "~2.1.4",
      "model_name": "HBoxModel",
      "state": {
       "_model_module_version": "~2.1.4",
       "_view_module_version": "~2.1.4",
       "children": [
        "IPY_MODEL_82ed1bc8d6e94d60bbaa6397704cfe06",
        "IPY_MODEL_cab71d5c68b74d97b8daca7b69711ae1"
       ],
       "layout": "IPY_MODEL_5d53caab22df4f3dacfdcdf6f6fdeb9b"
      }
     },
     "95b039649ff449409acc445362a1edbb": {
      "model_module": "jupyter-js-widgets",
      "model_module_version": "~2.1.4",
      "model_name": "HBoxModel",
      "state": {
       "_model_module_version": "~2.1.4",
       "_view_module_version": "~2.1.4",
       "children": [
        "IPY_MODEL_0839690fbb09415e83c5731bb193e70f",
        "IPY_MODEL_b99eae7e16204d2186f1dab5041c8d3d"
       ],
       "layout": "IPY_MODEL_6ada2cdafc8e4ff9a9cb1dd26a277070"
      }
     },
     "9645c2c98231407e9ff2c3ad1d1a95d6": {
      "model_module": "jupyter-js-widgets",
      "model_module_version": "~2.1.4",
      "model_name": "TextModel",
      "state": {
       "_model_module_version": "~2.1.4",
       "_view_module_version": "~2.1.4",
       "layout": "IPY_MODEL_2510c1aae61e4f0f8f5ffffbdca28f08",
       "value": "/home/example/GOS"
      }
     },
     "965c8dbbb1f54d54bfd6d926500dd5ef": {
      "model_module": "jupyter-js-widgets",
      "model_module_version": "~2.1.4",
      "model_name": "LayoutModel",
      "state": {
       "_model_module_version": "~2.1.4",
       "_view_module_version": "~2.1.4"
      }
     },
     "96f7ae4d68544cb2bf36ec4ed44c3a6c": {
      "model_module": "jupyter-js-widgets",
      "model_module_version": "~2.1.4",
      "model_name": "LayoutModel",
      "state": {
       "_model_module_version": "~2.1.4",
       "_view_module_version": "~2.1.4"
      }
     },
     "9744a595eee14dfdaa8e4973c7522f7d": {
      "model_module": "jupyter-js-widgets",
      "model_module_version": "~2.1.4",
      "model_name": "HBoxModel",
      "state": {
       "_model_module_version": "~2.1.4",
       "_view_module_version": "~2.1.4",
       "children": [
        "IPY_MODEL_1b000c7e2c254ce4b39493d76667fdff",
        "IPY_MODEL_428fc539ad0e405a8c3a169596381e4f"
       ],
       "layout": "IPY_MODEL_62cb447912164c66b412be1ffff6bbef"
      }
     },
     "9785d1c43c7c4d5190f14556b2e639ba": {
      "model_module": "jupyter-js-widgets",
      "model_module_version": "~2.1.4",
      "model_name": "LayoutModel",
      "state": {
       "_model_module_version": "~2.1.4",
       "_view_module_version": "~2.1.4"
      }
     },
     "998d24750a3f45b2b2b5d820a6251934": {
      "model_module": "jupyter-js-widgets",
      "model_module_version": "~2.1.4",
      "model_name": "LayoutModel",
      "state": {
       "_model_module_version": "~2.1.4",
       "_view_module_version": "~2.1.4",
       "width": "auto"
      }
     },
     "99e68d160f76426f88eba80327a3fb2d": {
      "model_module": "jupyter-js-widgets",
      "model_module_version": "~2.1.4",
      "model_name": "IntTextModel",
      "state": {
       "_model_module_version": "~2.1.4",
       "_view_module_version": "~2.1.4",
       "description": "Polynomial order",
       "layout": "IPY_MODEL_4a4c95b347cb4093aae907db172688f8",
       "value": 1
      }
     },
     "9a264a3975274f639bfca94cb78d7c50": {
      "model_module": "jupyter-js-widgets",
      "model_module_version": "~2.1.4",
      "model_name": "LayoutModel",
      "state": {
       "_model_module_version": "~2.1.4",
       "_view_module_version": "~2.1.4"
      }
     },
     "9a5e3f4985a04e51824d9ee20abbfd6d": {
      "model_module": "jupyter-js-widgets",
      "model_module_version": "~2.1.4",
      "model_name": "HBoxModel",
      "state": {
       "_model_module_version": "~2.1.4",
       "_view_module_version": "~2.1.4",
       "children": [
        "IPY_MODEL_8028eedb8ae0472ca317fb3153fe73e1",
        "IPY_MODEL_61ef0e274f3a4717aab5bcd8e6cf1887"
       ],
       "layout": "IPY_MODEL_b31df01eaee04b099e9341ab6b39f211"
      }
     },
     "9acd2cebe32847f4aacdfec6081035d9": {
      "model_module": "jupyter-js-widgets",
      "model_module_version": "~2.1.4",
      "model_name": "ButtonModel",
      "state": {
       "_model_module_version": "~2.1.4",
       "_view_module_version": "~2.1.4",
       "description": "Close",
       "layout": "IPY_MODEL_ea417d0fd54345bb881d8ba845982276",
       "style": "IPY_MODEL_afdd40daff54450a8b5bb2460d9ad1ef",
       "tooltip": "Close widget and remove span selector from the signal figure."
      }
     },
     "9b1be1d5bbd34de0be7448a806adacde": {
      "model_module": "jupyter-js-widgets",
      "model_module_version": "~2.1.4",
      "model_name": "LayoutModel",
      "state": {
       "_model_module_version": "~2.1.4",
       "_view_module_version": "~2.1.4"
      }
     },
     "9b6785665ce44d3dbd466d63c520c77c": {
      "model_module": "jupyter-js-widgets",
      "model_module_version": "~2.1.4",
      "model_name": "ProgressModel",
      "state": {
       "_model_module_version": "~2.1.4",
       "_view_module_version": "~2.1.4",
       "bar_style": "success",
       "layout": "IPY_MODEL_6ab8908fa6904f4387d87e6cda53e46a",
       "max": 2,
       "style": "IPY_MODEL_4f01b442c2f14400ba6dcbfbf61e5103",
       "value": 2
      }
     },
     "9b6a7a2368c5466cb1ab35681d6f6abd": {
      "model_module": "jupyter-js-widgets",
      "model_module_version": "~2.1.4",
      "model_name": "LayoutModel",
      "state": {
       "_model_module_version": "~2.1.4",
       "_view_module_version": "~2.1.4"
      }
     },
     "9b779506f8194f31afaf77846aa65363": {
      "model_module": "jupyter-js-widgets",
      "model_module_version": "~2.1.4",
      "model_name": "LabelModel",
      "state": {
       "_model_module_version": "~2.1.4",
       "_view_module_version": "~2.1.4",
       "layout": "IPY_MODEL_7c4bfe7e7d68478ea63b1b107c07378e",
       "value": "-"
      }
     },
     "9c11489e8b314754aed61d2923fe74fc": {
      "model_module": "jupyter-js-widgets",
      "model_module_version": "~2.1.4",
      "model_name": "LayoutModel",
      "state": {
       "_model_module_version": "~2.1.4",
       "_view_module_version": "~2.1.4",
       "width": "auto"
      }
     },
     "9ce41e15c96a43b1a4644f79c42385eb": {
      "model_module": "jupyter-js-widgets",
      "model_module_version": "~2.1.4",
      "model_name": "LayoutModel",
      "state": {
       "_model_module_version": "~2.1.4",
       "_view_module_version": "~2.1.4",
       "width": "auto"
      }
     },
     "9d51dad44342475dadc6b4cbd6bf3e55": {
      "model_module": "jupyter-js-widgets",
      "model_module_version": "~2.1.4",
      "model_name": "HBoxModel",
      "state": {
       "_model_module_version": "~2.1.4",
       "_view_module_version": "~2.1.4",
       "children": [
        "IPY_MODEL_ad7f4edf55f2424e98e639889891b9b7",
        "IPY_MODEL_c51e146770f54523bc4c7ad1558df414"
       ],
       "layout": "IPY_MODEL_e38cd8eb1604411e821d113463ea111d"
      }
     },
     "9e3df5ba72a5449c935271c86d7f088c": {
      "model_module": "jupyter-js-widgets",
      "model_module_version": "~2.1.4",
      "model_name": "LayoutModel",
      "state": {
       "_model_module_version": "~2.1.4",
       "_view_module_version": "~2.1.4"
      }
     },
     "9f03fa7a24cd4316a08178398d34742b": {
      "model_module": "jupyter-js-widgets",
      "model_module_version": "~2.1.4",
      "model_name": "HTMLModel",
      "state": {
       "_model_module_version": "~2.1.4",
       "_view_module_version": "~2.1.4",
       "layout": "IPY_MODEL_96f7ae4d68544cb2bf36ec4ed44c3a6c",
       "value": "Click on the signal figure and drag to the right to select a signal range. Press `Apply` to perform the operation or `Close` to cancel."
      }
     },
     "9f85ee520a1d4e3fa3e81f5cfb3b6000": {
      "model_module": "jupyter-js-widgets",
      "model_module_version": "~2.1.4",
      "model_name": "HBoxModel",
      "state": {
       "_model_module_version": "~2.1.4",
       "_view_module_version": "~2.1.4",
       "children": [
        "IPY_MODEL_c022b572145e4113a40e9996cd53d1a6",
        "IPY_MODEL_87b6cb09c8de475192c2174c31721d15"
       ],
       "layout": "IPY_MODEL_318bb27c495443d2a1a2762763ea953a"
      }
     },
     "9fcf3759134446b9b6c120ec5fc9ab3d": {
      "model_module": "jupyter-js-widgets",
      "model_module_version": "~2.1.4",
      "model_name": "LayoutModel",
      "state": {
       "_model_module_version": "~2.1.4",
       "_view_module_version": "~2.1.4"
      }
     },
     "a03b357823274fcd93d37f0c536161de": {
      "model_module": "jupyter-js-widgets",
      "model_module_version": "~2.1.4",
      "model_name": "ProgressModel",
      "state": {
       "_model_module_version": "~2.1.4",
       "_view_module_version": "~2.1.4",
       "bar_style": "success",
       "layout": "IPY_MODEL_3c0dac7b9fcb42b58e7c94a1e9020c5c",
       "max": 2,
       "style": "IPY_MODEL_d42067d8201040e79a72cd7bc2932466",
       "value": 2
      }
     },
     "a03db943221a41e0b0895c64c10be3d3": {
      "model_module": "jupyter-js-widgets",
      "model_module_version": "~2.1.4",
      "model_name": "HTMLModel",
      "state": {
       "_model_module_version": "~2.1.4",
       "_view_module_version": "~2.1.4",
       "layout": "IPY_MODEL_c6c199de09ba42688c7f857ccd927438",
       "value": "100% 2/2 [00:00&lt;00:00, 16.50it/s]"
      }
     },
     "a175da24d503420697b992e3618fed18": {
      "model_module": "jupyter-js-widgets",
      "model_module_version": "~2.1.4",
      "model_name": "LayoutModel",
      "state": {
       "_model_module_version": "~2.1.4",
       "_view_module_version": "~2.1.4"
      }
     },
     "a207d8bb67be4dd08a8e508f230c3fc2": {
      "model_module": "jupyter-js-widgets",
      "model_module_version": "~2.1.4",
      "model_name": "LayoutModel",
      "state": {
       "_model_module_version": "~2.1.4",
       "_view_module_version": "~2.1.4"
      }
     },
     "a253be4431b3491ea9c5ddc9222e1d6e": {
      "model_module": "jupyter-js-widgets",
      "model_module_version": "~2.1.4",
      "model_name": "LabelModel",
      "state": {
       "_model_module_version": "~2.1.4",
       "_view_module_version": "~2.1.4",
       "layout": "IPY_MODEL_2e925028a4da4521854618e343f780ef",
       "value": "eV"
      }
     },
     "a27245673d48423d85ea851a8cebb085": {
      "model_module": "jupyter-js-widgets",
      "model_module_version": "~2.1.4",
      "model_name": "LayoutModel",
      "state": {
       "_model_module_version": "~2.1.4",
       "_view_module_version": "~2.1.4"
      }
     },
     "a2a993eec30f44e1bcdb4abf56291e88": {
      "model_module": "jupyter-js-widgets",
      "model_module_version": "~2.1.4",
      "model_name": "LayoutModel",
      "state": {
       "_model_module_version": "~2.1.4",
       "_view_module_version": "~2.1.4"
      }
     },
     "a30283dfb2e243dabf7c69cb23ff2e7f": {
      "model_module": "jupyter-js-widgets",
      "model_module_version": "~2.1.4",
      "model_name": "HBoxModel",
      "state": {
       "_model_module_version": "~2.1.4",
       "_view_module_version": "~2.1.4",
       "children": [
        "IPY_MODEL_7932ee9da6ff49eba6b8625ecadc0d61",
        "IPY_MODEL_8faa832514fc46bb962f540f263f5f74"
       ],
       "layout": "IPY_MODEL_e38cd8eb1604411e821d113463ea111d"
      }
     },
     "a3a8256f2477417393425148ad677f4c": {
      "model_module": "jupyter-js-widgets",
      "model_module_version": "~2.1.4",
      "model_name": "CheckboxModel",
      "state": {
       "_model_module_version": "~2.1.4",
       "_view_module_version": "~2.1.4",
       "disabled": false,
       "layout": "IPY_MODEL_d55a3fa85ae94e2fae12a4d0567bb35d",
       "value": false
      }
     },
     "a41e789b98fa4601b5a5eb6cf9813a3d": {
      "model_module": "jupyter-js-widgets",
      "model_module_version": "~2.1.4",
      "model_name": "LayoutModel",
      "state": {
       "_model_module_version": "~2.1.4",
       "_view_module_version": "~2.1.4"
      }
     },
     "a467d76ee2bb4235b837811816d10595": {
      "model_module": "jupyter-js-widgets",
      "model_module_version": "~2.1.4",
      "model_name": "VBoxModel",
      "state": {
       "_model_module_version": "~2.1.4",
       "_view_module_version": "~2.1.4",
       "children": [
        "IPY_MODEL_ad9efed827fc44848c12e50901a45afc",
        "IPY_MODEL_fc93a40768be426ba854d835aa6dd40f",
        "IPY_MODEL_0af9e24c6b1441d4948fcaa53e67b8ac",
        "IPY_MODEL_b1882ea44a2043cba6a6adddd770b3f6",
        "IPY_MODEL_1e5dc8b041544e5ab9acdd2ea8171ecd",
        "IPY_MODEL_4c5161b482e149c5ae05688ce6dd08f4",
        "IPY_MODEL_e48deed9e56e45b483646a20fa731c25"
       ],
       "layout": "IPY_MODEL_29de9a965cd041fdbd2724f6460814fe"
      }
     },
     "a54d894ac2cf4d498c1af200728efecd": {
      "model_module": "jupyter-js-widgets",
      "model_module_version": "~2.1.4",
      "model_name": "LayoutModel",
      "state": {
       "_model_module_version": "~2.1.4",
       "_view_module_version": "~2.1.4"
      }
     },
     "a62b11d7585f4bbe858a420f38664c13": {
      "model_module": "jupyter-js-widgets",
      "model_module_version": "~2.1.4",
      "model_name": "LayoutModel",
      "state": {
       "_model_module_version": "~2.1.4",
       "_view_module_version": "~2.1.4"
      }
     },
     "a79d9bda04134807825e4bc4f3ddb9d2": {
      "model_module": "jupyter-js-widgets",
      "model_module_version": "~2.1.4",
      "model_name": "LayoutModel",
      "state": {
       "_model_module_version": "~2.1.4",
       "_view_module_version": "~2.1.4"
      }
     },
     "aab1841a664146219eb4289158935098": {
      "model_module": "jupyter-js-widgets",
      "model_module_version": "~2.1.4",
      "model_name": "VBoxModel",
      "state": {
       "_model_module_version": "~2.1.4",
       "_view_module_version": "~2.1.4",
       "children": [
        "IPY_MODEL_8add08e0012e4919a0b766d549ee970e",
        "IPY_MODEL_fac3c26316e7440fad5f5a6062b7e215"
       ],
       "layout": "IPY_MODEL_483eff37f9bb4f23afb9cf5727226a62"
      }
     },
     "ace0cac9a8fa417caa7bd7cd8012ab9d": {
      "model_module": "jupyter-js-widgets",
      "model_module_version": "~2.1.4",
      "model_name": "LayoutModel",
      "state": {
       "_model_module_version": "~2.1.4",
       "_view_module_version": "~2.1.4"
      }
     },
     "ad7f4edf55f2424e98e639889891b9b7": {
      "model_module": "jupyter-js-widgets",
      "model_module_version": "~2.1.4",
      "model_name": "LabelModel",
      "state": {
       "_model_module_version": "~2.1.4",
       "_view_module_version": "~2.1.4",
       "layout": "IPY_MODEL_10917d7d20ad4fa58fd3f858dfca2fc6",
       "value": "Logging level"
      }
     },
     "ad817739796743648e9dfc5896e52e67": {
      "model_module": "jupyter-js-widgets",
      "model_module_version": "~2.1.4",
      "model_name": "CheckboxModel",
      "state": {
       "_model_module_version": "~2.1.4",
       "_view_module_version": "~2.1.4",
       "disabled": false,
       "layout": "IPY_MODEL_6491cbbbcf7c4962bcf3e203d533b727",
       "value": true
      }
     },
     "ad9efed827fc44848c12e50901a45afc": {
      "model_module": "jupyter-js-widgets",
      "model_module_version": "~2.1.4",
      "model_name": "FloatTextModel",
      "state": {
       "_model_module_version": "~2.1.4",
       "_view_module_version": "~2.1.4",
       "description": "Left",
       "disabled": true,
       "layout": "IPY_MODEL_c76fcb92ea984ed2be17dfb799ca234e",
       "value": 398.3660923709417
      }
     },
     "aeb1360f3dc1458faa9b34fad6212e4b": {
      "model_module": "jupyter-js-widgets",
      "model_module_version": "~2.1.4",
      "model_name": "LayoutModel",
      "state": {
       "_model_module_version": "~2.1.4",
       "_view_module_version": "~2.1.4"
      }
     },
     "afb2cefb5feb4eeb8089abfe1006ea44": {
      "model_module": "jupyter-js-widgets",
      "model_module_version": "~2.1.4",
      "model_name": "HBoxModel",
      "state": {
       "_model_module_version": "~2.1.4",
       "_view_module_version": "~2.1.4",
       "children": [
        "IPY_MODEL_c7f391e0ff534d11b58fd69008e78990",
        "IPY_MODEL_e576e3e3879744bea4894320d5313803"
       ],
       "layout": "IPY_MODEL_12382dc8cca7497dad173d9ddb89d937"
      }
     },
     "afdd40daff54450a8b5bb2460d9ad1ef": {
      "model_module": "jupyter-js-widgets",
      "model_module_version": "~2.1.4",
      "model_name": "ButtonStyleModel",
      "state": {
       "_model_module_version": "~2.1.4",
       "_view_module_version": "~2.1.4"
      }
     },
     "b06bea81055642cb96b0fbbd197c7157": {
      "model_module": "jupyter-js-widgets",
      "model_module_version": "~2.1.4",
      "model_name": "FloatTextModel",
      "state": {
       "_model_module_version": "~2.1.4",
       "_view_module_version": "~2.1.4",
       "description": "Left",
       "disabled": true,
       "layout": "IPY_MODEL_6fb507ca6e7141339b9e13ee5ea93ab1",
       "value": 401.20346194020385
      }
     },
     "b0724ffc3556455ebcb794b40b71c9eb": {
      "model_module": "jupyter-js-widgets",
      "model_module_version": "~2.1.4",
      "model_name": "HBoxModel",
      "state": {
       "_model_module_version": "~2.1.4",
       "_view_module_version": "~2.1.4",
       "children": [
        "IPY_MODEL_4e9908bc417e4980a3a373d85f695925",
        "IPY_MODEL_75a0a36b4dd5436aa3b4c921d61e411f"
       ],
       "layout": "IPY_MODEL_fff6698f0e744deb84b7515be434254a"
      }
     },
     "b07683477e0a43f6b9236d3185b05326": {
      "model_module": "jupyter-js-widgets",
      "model_module_version": "~2.1.4",
      "model_name": "HBoxModel",
      "state": {
       "_model_module_version": "~2.1.4",
       "_view_module_version": "~2.1.4",
       "children": [
        "IPY_MODEL_c7eb80499f2d4650a794e5056ac56b0b",
        "IPY_MODEL_17310984ec5c48128d6f9df2d0b6bb3b"
       ],
       "layout": "IPY_MODEL_e38cd8eb1604411e821d113463ea111d"
      }
     },
     "b0bb6a70001948a896b7a7b1e87ccf2f": {
      "model_module": "jupyter-js-widgets",
      "model_module_version": "~2.1.4",
      "model_name": "HBoxModel",
      "state": {
       "_model_module_version": "~2.1.4",
       "_view_module_version": "~2.1.4",
       "children": [
        "IPY_MODEL_9b6785665ce44d3dbd466d63c520c77c",
        "IPY_MODEL_eb3ae5607d44437ba8a5244f7c59f9c9"
       ],
       "layout": "IPY_MODEL_74bf1e2cb3e84a078ef3e92d0f2723d9"
      }
     },
     "b17ac6ee70b74c44b7883b13d2d54de0": {
      "model_module": "jupyter-js-widgets",
      "model_module_version": "~2.1.4",
      "model_name": "LayoutModel",
      "state": {
       "_model_module_version": "~2.1.4",
       "_view_module_version": "~2.1.4"
      }
     },
     "b1882ea44a2043cba6a6adddd770b3f6": {
      "model_module": "jupyter-js-widgets",
      "model_module_version": "~2.1.4",
      "model_name": "IntTextModel",
      "state": {
       "_model_module_version": "~2.1.4",
       "_view_module_version": "~2.1.4",
       "description": "Polynomial order",
       "layout": "IPY_MODEL_6eccc06f65d2417db252ddfcf8f8adbb",
       "value": 1
      }
     },
     "b18a70b419a64c72a6c31780db7c49a1": {
      "model_module": "jupyter-js-widgets",
      "model_module_version": "~2.1.4",
      "model_name": "LabelModel",
      "state": {
       "_model_module_version": "~2.1.4",
       "_view_module_version": "~2.1.4",
       "layout": "IPY_MODEL_f681b6cf80434d4f8918bb4aafe88a7e",
       "value": "Show progress bar"
      }
     },
     "b233a9fc43aa4a8f98b48ccec1596931": {
      "model_module": "jupyter-js-widgets",
      "model_module_version": "~2.1.4",
      "model_name": "LayoutModel",
      "state": {
       "_model_module_version": "~2.1.4",
       "_view_module_version": "~2.1.4"
      }
     },
     "b31df01eaee04b099e9341ab6b39f211": {
      "model_module": "jupyter-js-widgets",
      "model_module_version": "~2.1.4",
      "model_name": "LayoutModel",
      "state": {
       "_model_module_version": "~2.1.4",
       "_view_module_version": "~2.1.4"
      }
     },
     "b361711e6bef48eb818e1c7aa1d9caaa": {
      "model_module": "jupyter-js-widgets",
      "model_module_version": "~2.1.4",
      "model_name": "LayoutModel",
      "state": {
       "_model_module_version": "~2.1.4",
       "_view_module_version": "~2.1.4"
      }
     },
     "b3ea44ce5f514419bac3d42e305de513": {
      "model_module": "jupyter-js-widgets",
      "model_module_version": "~2.1.4",
      "model_name": "LayoutModel",
      "state": {
       "_model_module_version": "~2.1.4",
       "_view_module_version": "~2.1.4"
      }
     },
     "b40b6a27df9d4ca88d2dbab65940ef9a": {
      "model_module": "jupyter-js-widgets",
      "model_module_version": "~2.1.4",
      "model_name": "IntTextModel",
      "state": {
       "_model_module_version": "~2.1.4",
       "_view_module_version": "~2.1.4",
       "description": "Polynomial order",
       "layout": "IPY_MODEL_448d8428677443d6903a280e85c5e426",
       "value": 1
      }
     },
     "b4464ac8aa7147938347da1385013c6f": {
      "model_module": "jupyter-js-widgets",
      "model_module_version": "~2.1.4",
      "model_name": "ProgressStyleModel",
      "state": {
       "_model_module_version": "~2.1.4",
       "_view_module_version": "~2.1.4"
      }
     },
     "b7a040fe0c154300be58c13bea622384": {
      "model_module": "jupyter-js-widgets",
      "model_module_version": "~2.1.4",
      "model_name": "LayoutModel",
      "state": {
       "_model_module_version": "~2.1.4",
       "_view_module_version": "~2.1.4"
      }
     },
     "b8b2f74572eb4d9f9b28c8b48556cf7f": {
      "model_module": "jupyter-js-widgets",
      "model_module_version": "~2.1.4",
      "model_name": "ProgressModel",
      "state": {
       "_model_module_version": "~2.1.4",
       "_view_module_version": "~2.1.4",
       "bar_style": "success",
       "layout": "IPY_MODEL_0e003539ccc34424834f7b94451ec897",
       "max": 2,
       "style": "IPY_MODEL_0648998b41704d80b4af954e0b4e5f8f",
       "value": 2
      }
     },
     "b8f4e328a3ab45ae97204c861cc93774": {
      "model_module": "jupyter-js-widgets",
      "model_module_version": "~2.1.4",
      "model_name": "HTMLModel",
      "state": {
       "_model_module_version": "~2.1.4",
       "_view_module_version": "~2.1.4",
       "layout": "IPY_MODEL_5e4038d6b12048b5b1386980877d4d9c",
       "value": "100% 2/2 [00:00&lt;00:00, 23.01it/s]"
      }
     },
     "b946d1aa1eeb4a7389585e10bb7a2e8e": {
      "model_module": "jupyter-js-widgets",
      "model_module_version": "~2.1.4",
      "model_name": "LayoutModel",
      "state": {
       "_model_module_version": "~2.1.4",
       "_view_module_version": "~2.1.4"
      }
     },
     "b9907e0973004fe49826a62aba57fd9e": {
      "model_module": "jupyter-js-widgets",
      "model_module_version": "~2.1.4",
      "model_name": "LabelModel",
      "state": {
       "_model_module_version": "~2.1.4",
       "_view_module_version": "~2.1.4",
       "layout": "IPY_MODEL_7663bb63924645d5ac3d34a1fda69d9f",
       "value": "Enable traitsui gui"
      }
     },
     "b99eae7e16204d2186f1dab5041c8d3d": {
      "model_module": "jupyter-js-widgets",
      "model_module_version": "~2.1.4",
      "model_name": "HTMLModel",
      "state": {
       "_model_module_version": "~2.1.4",
       "_view_module_version": "~2.1.4",
       "layout": "IPY_MODEL_3fbe4db97b3b4ae6a8e09c9045ad83c8",
       "value": "100% 5/5 [00:00&lt;00:00, 38.87it/s]"
      }
     },
     "b9ea6ce902f4486f99f6d78cfa39af2a": {
      "model_module": "jupyter-js-widgets",
      "model_module_version": "~2.1.4",
      "model_name": "LayoutModel",
      "state": {
       "_model_module_version": "~2.1.4",
       "_view_module_version": "~2.1.4"
      }
     },
     "ba32443684c4441c8e893a7a57ca4747": {
      "model_module": "jupyter-js-widgets",
      "model_module_version": "~2.1.4",
      "model_name": "LayoutModel",
      "state": {
       "_model_module_version": "~2.1.4",
       "_view_module_version": "~2.1.4"
      }
     },
     "bb42ff9363954ecf88ceb7fdaa1cfeff": {
      "model_module": "jupyter-js-widgets",
      "model_module_version": "~2.1.4",
      "model_name": "LayoutModel",
      "state": {
       "_model_module_version": "~2.1.4",
       "_view_module_version": "~2.1.4"
      }
     },
     "bb735fab41374346b6744ae4f8f72e68": {
      "model_module": "jupyter-js-widgets",
      "model_module_version": "~2.1.4",
      "model_name": "LayoutModel",
      "state": {
       "_model_module_version": "~2.1.4",
       "_view_module_version": "~2.1.4"
      }
     },
     "bbc37509c1b3429c8b08ea7a0b72fac5": {
      "model_module": "jupyter-js-widgets",
      "model_module_version": "~2.1.4",
      "model_name": "LayoutModel",
      "state": {
       "_model_module_version": "~2.1.4",
       "_view_module_version": "~2.1.4"
      }
     },
     "bd44bf3c949b4d5aa142c79546363de6": {
      "model_module": "jupyter-js-widgets",
      "model_module_version": "~2.1.4",
      "model_name": "LabelModel",
      "state": {
       "_model_module_version": "~2.1.4",
       "_view_module_version": "~2.1.4",
       "layout": "IPY_MODEL_9112f9e3d2f548588aa63fad68549892",
       "value": "Elevation angle"
      }
     },
     "bf76de15b0c748f8af2bbaabc428e26d": {
      "model_module": "jupyter-js-widgets",
      "model_module_version": "~2.1.4",
      "model_name": "LayoutModel",
      "state": {
       "_model_module_version": "~2.1.4",
       "_view_module_version": "~2.1.4"
      }
     },
     "bf94710096364a5ba3ee43b38ed9fa0b": {
      "model_module": "jupyter-js-widgets",
      "model_module_version": "~2.1.4",
      "model_name": "HTMLModel",
      "state": {
       "_model_module_version": "~2.1.4",
       "_view_module_version": "~2.1.4",
       "layout": "IPY_MODEL_59d27c2bf9cc4ccfadb629298e95d3f9",
       "value": "100% 5/5 [00:00&lt;00:00, 29.58it/s]"
      }
     },
     "bfe5a6faccb2434b939c221ac6e6aac1": {
      "model_module": "jupyter-js-widgets",
      "model_module_version": "~2.1.4",
      "model_name": "ButtonStyleModel",
      "state": {
       "_model_module_version": "~2.1.4",
       "_view_module_version": "~2.1.4"
      }
     },
     "c01858e736f54f398cf90376fd795153": {
      "model_module": "jupyter-js-widgets",
      "model_module_version": "~2.1.4",
      "model_name": "LayoutModel",
      "state": {
       "_model_module_version": "~2.1.4",
       "_view_module_version": "~2.1.4"
      }
     },
     "c019d073c65a47cb823a4a588ea7988e": {
      "model_module": "jupyter-js-widgets",
      "model_module_version": "~2.1.4",
      "model_name": "LayoutModel",
      "state": {
       "_model_module_version": "~2.1.4",
       "_view_module_version": "~2.1.4"
      }
     },
     "c022b572145e4113a40e9996cd53d1a6": {
      "model_module": "jupyter-js-widgets",
      "model_module_version": "~2.1.4",
      "model_name": "ProgressModel",
      "state": {
       "_model_module_version": "~2.1.4",
       "_view_module_version": "~2.1.4",
       "bar_style": "success",
       "layout": "IPY_MODEL_89d0ed4706ac4d24bbc9d54a65a2ae0b",
       "max": 5,
       "style": "IPY_MODEL_56b575fc06ae42e79b5a502f31f02cc1",
       "value": 5
      }
     },
     "c090bd78b70545b093a5d5713b379ecd": {
      "model_module": "jupyter-js-widgets",
      "model_module_version": "~2.1.4",
      "model_name": "LayoutModel",
      "state": {
       "_model_module_version": "~2.1.4",
       "_view_module_version": "~2.1.4"
      }
     },
     "c200df57d5354734a1d80d3b4a0d722a": {
      "model_module": "jupyter-js-widgets",
      "model_module_version": "~2.1.4",
      "model_name": "FloatTextModel",
      "state": {
       "_model_module_version": "~2.1.4",
       "_view_module_version": "~2.1.4",
       "layout": "IPY_MODEL_b946d1aa1eeb4a7389585e10bb7a2e8e"
      }
     },
     "c274a0936d50471d880228cc45463106": {
      "model_module": "jupyter-js-widgets",
      "model_module_version": "~2.1.4",
      "model_name": "LayoutModel",
      "state": {
       "_model_module_version": "~2.1.4",
       "_view_module_version": "~2.1.4"
      }
     },
     "c474766c48c44286931eb6bb041c6f06": {
      "model_module": "jupyter-js-widgets",
      "model_module_version": "~2.1.4",
      "model_name": "LabelModel",
      "state": {
       "_model_module_version": "~2.1.4",
       "_view_module_version": "~2.1.4",
       "layout": "IPY_MODEL_ce2c9fafe376459b8f960f6b78ee3117",
       "value": "-"
      }
     },
     "c48f6294037649dcb8d28a15eb90d820": {
      "model_module": "jupyter-js-widgets",
      "model_module_version": "~2.1.4",
      "model_name": "HTMLModel",
      "state": {
       "_model_module_version": "~2.1.4",
       "_view_module_version": "~2.1.4",
       "layout": "IPY_MODEL_eea57d705d8c4b558a29df499d954a19",
       "value": "Click on the signal figure and drag to the right to select a signal range. Press `Apply` to perform the operation or `Close` to cancel."
      }
     },
     "c51e146770f54523bc4c7ad1558df414": {
      "model_module": "jupyter-js-widgets",
      "model_module_version": "~2.1.4",
      "model_name": "DropdownModel",
      "state": {
       "_model_module_version": "~2.1.4",
       "_options_labels": [
        "CRITICAL",
        "ERROR",
        "WARNING",
        "INFO",
        "DEBUG"
       ],
       "_view_module_version": "~2.1.4",
       "layout": "IPY_MODEL_5aa6960f2f964ff1b8048e4221517375",
       "value": "WARNING"
      }
     },
     "c532d393dcdb455bada96c134e487ce4": {
      "model_module": "jupyter-js-widgets",
      "model_module_version": "~2.1.4",
      "model_name": "HBoxModel",
      "state": {
       "_model_module_version": "~2.1.4",
       "_view_module_version": "~2.1.4",
       "children": [
        "IPY_MODEL_7af25efc49a14edea69f76ac6b8eb5b6",
        "IPY_MODEL_a03db943221a41e0b0895c64c10be3d3"
       ],
       "layout": "IPY_MODEL_d069f12dd2b84afd871e18c409d0f4da"
      }
     },
     "c5b4643827fd45058d27dfc1a4529efd": {
      "model_module": "jupyter-js-widgets",
      "model_module_version": "~2.1.4",
      "model_name": "ProgressModel",
      "state": {
       "_model_module_version": "~2.1.4",
       "_view_module_version": "~2.1.4",
       "bar_style": "success",
       "layout": "IPY_MODEL_d7f4b00a9816430798ac37a1c4952bba",
       "max": 2,
       "style": "IPY_MODEL_b4464ac8aa7147938347da1385013c6f",
       "value": 2
      }
     },
     "c5ede99c1b834309a0b9019cf84a1abd": {
      "model_module": "jupyter-js-widgets",
      "model_module_version": "~2.1.4",
      "model_name": "HBoxModel",
      "state": {
       "_model_module_version": "~2.1.4",
       "_view_module_version": "~2.1.4",
       "children": [
        "IPY_MODEL_f6fa7e6794cb4e45a722106c1ae9f78d",
        "IPY_MODEL_27a58543e3354247bcca39141e32466a"
       ],
       "layout": "IPY_MODEL_ace0cac9a8fa417caa7bd7cd8012ab9d"
      }
     },
     "c670bdc2634946d6a6bf386797d5efa1": {
      "model_module": "jupyter-js-widgets",
      "model_module_version": "~2.1.4",
      "model_name": "LayoutModel",
      "state": {
       "_model_module_version": "~2.1.4",
       "_view_module_version": "~2.1.4"
      }
     },
     "c6c199de09ba42688c7f857ccd927438": {
      "model_module": "jupyter-js-widgets",
      "model_module_version": "~2.1.4",
      "model_name": "LayoutModel",
      "state": {
       "_model_module_version": "~2.1.4",
       "_view_module_version": "~2.1.4"
      }
     },
     "c739d9400d04472d983265700ed48486": {
      "model_module": "jupyter-js-widgets",
      "model_module_version": "~2.1.4",
      "model_name": "ProgressStyleModel",
      "state": {
       "_model_module_version": "~2.1.4",
       "_view_module_version": "~2.1.4"
      }
     },
     "c76fcb92ea984ed2be17dfb799ca234e": {
      "model_module": "jupyter-js-widgets",
      "model_module_version": "~2.1.4",
      "model_name": "LayoutModel",
      "state": {
       "_model_module_version": "~2.1.4",
       "_view_module_version": "~2.1.4"
      }
     },
     "c7eb80499f2d4650a794e5056ac56b0b": {
      "model_module": "jupyter-js-widgets",
      "model_module_version": "~2.1.4",
      "model_name": "LabelModel",
      "state": {
       "_model_module_version": "~2.1.4",
       "_view_module_version": "~2.1.4",
       "layout": "IPY_MODEL_7153402f22a34a77b32bbaa0e77790e6",
       "value": "Energy resolution at Mn Ka (eV)"
      }
     },
     "c7f391e0ff534d11b58fd69008e78990": {
      "model_module": "jupyter-js-widgets",
      "model_module_version": "~2.1.4",
      "model_name": "ProgressModel",
      "state": {
       "_model_module_version": "~2.1.4",
       "_view_module_version": "~2.1.4",
       "bar_style": "success",
       "layout": "IPY_MODEL_37046adbf09e472eb2d83da33b3d0ade",
       "max": 2,
       "style": "IPY_MODEL_fa2a1c1c665348169af3dcd2bbc2f726",
       "value": 2
      }
     },
     "c9b05d5e79e14a2197e7526e3180e82d": {
      "model_module": "jupyter-js-widgets",
      "model_module_version": "~2.1.4",
      "model_name": "LayoutModel",
      "state": {
       "_model_module_version": "~2.1.4",
       "_view_module_version": "~2.1.4",
       "width": "auto"
      }
     },
     "ca83f19bcbfe46cfae9878248d2af585": {
      "model_module": "jupyter-js-widgets",
      "model_module_version": "~2.1.4",
      "model_name": "FloatTextModel",
      "state": {
       "_model_module_version": "~2.1.4",
       "_view_module_version": "~2.1.4",
       "disabled": true,
       "layout": "IPY_MODEL_42643e48863241138cceca1ba19f22ae",
       "value": "nan"
      }
     },
     "cab71d5c68b74d97b8daca7b69711ae1": {
      "model_module": "jupyter-js-widgets",
      "model_module_version": "~2.1.4",
      "model_name": "HTMLModel",
      "state": {
       "_model_module_version": "~2.1.4",
       "_view_module_version": "~2.1.4",
       "layout": "IPY_MODEL_509000059f95431eb1573a52a595d2c8",
       "value": "100% 5/5 [00:00&lt;00:00, 46.35it/s]"
      }
     },
     "ccc883e8b9174434bd78a960ae5fdf21": {
      "model_module": "jupyter-js-widgets",
      "model_module_version": "~2.1.4",
      "model_name": "HTMLModel",
      "state": {
       "_model_module_version": "~2.1.4",
       "_view_module_version": "~2.1.4",
       "layout": "IPY_MODEL_b17ac6ee70b74c44b7883b13d2d54de0",
       "value": "100% 2/2 [00:00&lt;00:00, 52.79it/s]"
      }
     },
     "ccf862186f054a6db9aefecb58dafee1": {
      "model_module": "jupyter-js-widgets",
      "model_module_version": "~2.1.4",
      "model_name": "HTMLModel",
      "state": {
       "_model_module_version": "~2.1.4",
       "_view_module_version": "~2.1.4",
       "layout": "IPY_MODEL_82d641560d554868a11abf52b47d118e",
       "value": "100% 2/2 [00:00&lt;00:00, 19.30it/s]"
      }
     },
     "cd6d1ab56eba4051aaff3f46c555a96e": {
      "model_module": "jupyter-js-widgets",
      "model_module_version": "~2.1.4",
      "model_name": "CheckboxModel",
      "state": {
       "_model_module_version": "~2.1.4",
       "_view_module_version": "~2.1.4",
       "disabled": false,
       "layout": "IPY_MODEL_93495e13fdd843228fe97082457d8430",
       "value": false
      }
     },
     "ce2c9fafe376459b8f960f6b78ee3117": {
      "model_module": "jupyter-js-widgets",
      "model_module_version": "~2.1.4",
      "model_name": "LayoutModel",
      "state": {
       "_model_module_version": "~2.1.4",
       "_view_module_version": "~2.1.4"
      }
     },
     "ce3ad3857b644a5098fa9cda1bb9b627": {
      "model_module": "jupyter-js-widgets",
      "model_module_version": "~2.1.4",
      "model_name": "ButtonModel",
      "state": {
       "_model_module_version": "~2.1.4",
       "_view_module_version": "~2.1.4",
       "description": "Close",
       "layout": "IPY_MODEL_a62b11d7585f4bbe858a420f38664c13",
       "style": "IPY_MODEL_74ade14a0a2c43ac9c3b868fff28ab1b",
       "tooltip": "Close widget and remove span selector from the signal figure."
      }
     },
     "cebdfd689784474692effcf7a1f25a94": {
      "model_module": "jupyter-js-widgets",
      "model_module_version": "~2.1.4",
      "model_name": "LayoutModel",
      "state": {
       "_model_module_version": "~2.1.4",
       "_view_module_version": "~2.1.4"
      }
     },
     "cec760409229494a901a60ce62118db6": {
      "model_module": "jupyter-js-widgets",
      "model_module_version": "~2.1.4",
      "model_name": "LayoutModel",
      "state": {
       "_model_module_version": "~2.1.4",
       "_view_module_version": "~2.1.4"
      }
     },
     "cfb008cabd134fa6af733ef658500438": {
      "model_module": "jupyter-js-widgets",
      "model_module_version": "~2.1.4",
      "model_name": "ProgressStyleModel",
      "state": {
       "_model_module_version": "~2.1.4",
       "_view_module_version": "~2.1.4"
      }
     },
     "d069f12dd2b84afd871e18c409d0f4da": {
      "model_module": "jupyter-js-widgets",
      "model_module_version": "~2.1.4",
      "model_name": "LayoutModel",
      "state": {
       "_model_module_version": "~2.1.4",
       "_view_module_version": "~2.1.4"
      }
     },
     "d0f902cfb4c74736a0751a8d455b0ffe": {
      "model_module": "jupyter-js-widgets",
      "model_module_version": "~2.1.4",
      "model_name": "LayoutModel",
      "state": {
       "_model_module_version": "~2.1.4",
       "_view_module_version": "~2.1.4"
      }
     },
     "d140453ca64946deaeb20ca6b6e60995": {
      "model_module": "jupyter-js-widgets",
      "model_module_version": "~2.1.4",
      "model_name": "LayoutModel",
      "state": {
       "_model_module_version": "~2.1.4",
       "_view_module_version": "~2.1.4"
      }
     },
     "d1707d21d4294046928a3b6e0ca2bf3b": {
      "model_module": "jupyter-js-widgets",
      "model_module_version": "~2.1.4",
      "model_name": "ProgressStyleModel",
      "state": {
       "_model_module_version": "~2.1.4",
       "_view_module_version": "~2.1.4"
      }
     },
     "d21f35e74b9847ffbaa170496b7321b0": {
      "model_module": "jupyter-js-widgets",
      "model_module_version": "~2.1.4",
      "model_name": "LabelModel",
      "state": {
       "_model_module_version": "~2.1.4",
       "_view_module_version": "~2.1.4",
       "layout": "IPY_MODEL_c9b05d5e79e14a2197e7526e3180e82d",
       "value": "Enable ipywidgets gui"
      }
     },
     "d2b79e447c6a4073aa64fa59e85f7068": {
      "model_module": "jupyter-js-widgets",
      "model_module_version": "~2.1.4",
      "model_name": "LabelModel",
      "state": {
       "_model_module_version": "~2.1.4",
       "_view_module_version": "~2.1.4",
       "layout": "IPY_MODEL_4f4111fd868f4358bc52e299175bb467",
       "value": "Nb progressbar"
      }
     },
     "d2c75d4abfc5438bbb16f7b9d99e8513": {
      "model_module": "jupyter-js-widgets",
      "model_module_version": "~2.1.4",
      "model_name": "ProgressModel",
      "state": {
       "_model_module_version": "~2.1.4",
       "_view_module_version": "~2.1.4",
       "bar_style": "success",
       "layout": "IPY_MODEL_08e520d78f504f56b169cef99c49d261",
       "max": 2,
       "style": "IPY_MODEL_5c424bcf50c6472897c873b6e6028d79",
       "value": 2
      }
     },
     "d42067d8201040e79a72cd7bc2932466": {
      "model_module": "jupyter-js-widgets",
      "model_module_version": "~2.1.4",
      "model_name": "ProgressStyleModel",
      "state": {
       "_model_module_version": "~2.1.4",
       "_view_module_version": "~2.1.4"
      }
     },
     "d47a95f24b4b46918e2fea1ede91a7e2": {
      "model_module": "jupyter-js-widgets",
      "model_module_version": "~2.1.4",
      "model_name": "LayoutModel",
      "state": {
       "_model_module_version": "~2.1.4",
       "_view_module_version": "~2.1.4"
      }
     },
     "d48f8f36b843442380d747021b4964de": {
      "model_module": "jupyter-js-widgets",
      "model_module_version": "~2.1.4",
      "model_name": "HBoxModel",
      "state": {
       "_model_module_version": "~2.1.4",
       "_view_module_version": "~2.1.4",
       "children": [
        "IPY_MODEL_94d6229f8e9f430dbbdb8bdbf63b676f",
        "IPY_MODEL_ccc883e8b9174434bd78a960ae5fdf21"
       ],
       "layout": "IPY_MODEL_19d4ee3a33504991bf2d58efe3e1f96d"
      }
     },
     "d55a3fa85ae94e2fae12a4d0567bb35d": {
      "model_module": "jupyter-js-widgets",
      "model_module_version": "~2.1.4",
      "model_name": "LayoutModel",
      "state": {
       "_model_module_version": "~2.1.4",
       "_view_module_version": "~2.1.4"
      }
     },
     "d659f467e17645faadbcd9404d350d14": {
      "model_module": "jupyter-js-widgets",
      "model_module_version": "~2.1.4",
      "model_name": "FloatTextModel",
      "state": {
       "_model_module_version": "~2.1.4",
       "_view_module_version": "~2.1.4",
       "layout": "IPY_MODEL_a54d894ac2cf4d498c1af200728efecd"
      }
     },
     "d66eb80953a04edbb310027606c22ef5": {
      "model_module": "jupyter-js-widgets",
      "model_module_version": "~2.1.4",
      "model_name": "LayoutModel",
      "state": {
       "_model_module_version": "~2.1.4",
       "_view_module_version": "~2.1.4"
      }
     },
     "d6da2314ed6741c2afc888f82ee469f2": {
      "model_module": "jupyter-js-widgets",
      "model_module_version": "~2.1.4",
      "model_name": "HBoxModel",
      "state": {
       "_model_module_version": "~2.1.4",
       "_view_module_version": "~2.1.4",
       "children": [
        "IPY_MODEL_f7698e277cba4ecc956deaa35197b1b0",
        "IPY_MODEL_f92318422f3c4ee6859fa9ab01836c59"
       ],
       "layout": "IPY_MODEL_d0f902cfb4c74736a0751a8d455b0ffe"
      }
     },
     "d7f4b00a9816430798ac37a1c4952bba": {
      "model_module": "jupyter-js-widgets",
      "model_module_version": "~2.1.4",
      "model_name": "LayoutModel",
      "state": {
       "_model_module_version": "~2.1.4",
       "_view_module_version": "~2.1.4"
      }
     },
     "db5de0b3adad4f11988a2231f85db031": {
      "model_module": "jupyter-js-widgets",
      "model_module_version": "~2.1.4",
      "model_name": "LayoutModel",
      "state": {
       "_model_module_version": "~2.1.4",
       "_view_module_version": "~2.1.4"
      }
     },
     "dc4c883e0ae143adacde332e3f5a05b9": {
      "model_module": "jupyter-js-widgets",
      "model_module_version": "~2.1.4",
      "model_name": "LayoutModel",
      "state": {
       "_model_module_version": "~2.1.4",
       "_view_module_version": "~2.1.4"
      }
     },
     "ddf5b7f3a382487787470ee9a49be37f": {
      "model_module": "jupyter-js-widgets",
      "model_module_version": "~2.1.4",
      "model_name": "HBoxModel",
      "state": {
       "_model_module_version": "~2.1.4",
       "_view_module_version": "~2.1.4",
       "children": [
        "IPY_MODEL_7c6258b96ac84e678905c5b778c10bf6",
        "IPY_MODEL_e346ed45dd0e4a55960f1478aac9e646"
       ],
       "layout": "IPY_MODEL_a41e789b98fa4601b5a5eb6cf9813a3d"
      }
     },
     "ddff236b686648d1a614bab8d236f42f": {
      "model_module": "jupyter-js-widgets",
      "model_module_version": "~2.1.4",
      "model_name": "LayoutModel",
      "state": {
       "_model_module_version": "~2.1.4",
       "_view_module_version": "~2.1.4"
      }
     },
     "df6b84a681354201951d09e472ebd4aa": {
      "model_module": "jupyter-js-widgets",
      "model_module_version": "~2.1.4",
      "model_name": "HBoxModel",
      "state": {
       "_model_module_version": "~2.1.4",
       "_view_module_version": "~2.1.4",
       "children": [
        "IPY_MODEL_76908d49e1fc42bdb1cd89535406ae98",
        "IPY_MODEL_9645c2c98231407e9ff2c3ad1d1a95d6"
       ],
       "layout": "IPY_MODEL_e38cd8eb1604411e821d113463ea111d"
      }
     },
     "e020b211c7a54ccda691d9be97a153e6": {
      "model_module": "jupyter-js-widgets",
      "model_module_version": "~2.1.4",
      "model_name": "CheckboxModel",
      "state": {
       "_model_module_version": "~2.1.4",
       "_view_module_version": "~2.1.4",
       "disabled": false,
       "layout": "IPY_MODEL_9785d1c43c7c4d5190f14556b2e639ba",
       "value": true
      }
     },
     "e03b68bc55f44bed8381c23114e113af": {
      "model_module": "jupyter-js-widgets",
      "model_module_version": "~2.1.4",
      "model_name": "HBoxModel",
      "state": {
       "_model_module_version": "~2.1.4",
       "_view_module_version": "~2.1.4",
       "children": [
        "IPY_MODEL_4226a1e69a364b98b0f8cacee4a9c402",
        "IPY_MODEL_49c8271d753e44b992849f598f57bdd0"
       ],
       "layout": "IPY_MODEL_00c3fd4bb03c4b2d994a213af150ef33"
      }
     },
     "e09bddecf1e74b8f80a850570016a983": {
      "model_module": "jupyter-js-widgets",
      "model_module_version": "~2.1.4",
      "model_name": "HTMLModel",
      "state": {
       "_model_module_version": "~2.1.4",
       "_view_module_version": "~2.1.4",
       "layout": "IPY_MODEL_6ac2faa864a641a78737ba302ab1ca4b",
       "value": "Click on the signal figure and drag to the right to select arange. Press `Apply` to remove the background in the whole dataset. If fast is checked, the background parameters are estimated using a fast (analytical) method that can compromise accuray. When unchecked non linear least squares is employed instead."
      }
     },
     "e1b1ff345a8f440f821fa3c71b430f4f": {
      "model_module": "jupyter-js-widgets",
      "model_module_version": "~2.1.4",
      "model_name": "ProgressModel",
      "state": {
       "_model_module_version": "~2.1.4",
       "_view_module_version": "~2.1.4",
       "bar_style": "success",
       "layout": "IPY_MODEL_360ecbbaeb3f48fc8ff0641258f908d0",
       "max": 2,
       "style": "IPY_MODEL_104453bf5a10455ab5727444d149e9cd",
       "value": 2
      }
     },
     "e1cbdaffe62f4ee685665966f0644ccd": {
      "model_module": "jupyter-js-widgets",
      "model_module_version": "~2.1.4",
      "model_name": "CheckboxModel",
      "state": {
       "_model_module_version": "~2.1.4",
       "_view_module_version": "~2.1.4",
       "description": "Fast",
       "disabled": false,
       "layout": "IPY_MODEL_6c8ea1a5d49c4d4990ca500e381ed89b",
       "value": true
      }
     },
     "e32ab810bd154294abb373008375ce28": {
      "model_module": "jupyter-js-widgets",
      "model_module_version": "~2.1.4",
      "model_name": "LayoutModel",
      "state": {
       "_model_module_version": "~2.1.4",
       "_view_module_version": "~2.1.4"
      }
     },
     "e342f398d1a2438490ba760a12ec1315": {
      "model_module": "jupyter-js-widgets",
      "model_module_version": "~2.1.4",
      "model_name": "ProgressStyleModel",
      "state": {
       "_model_module_version": "~2.1.4",
       "_view_module_version": "~2.1.4"
      }
     },
     "e343db5fa3ec413c8e7f13a87a40eb19": {
      "model_module": "jupyter-js-widgets",
      "model_module_version": "~2.1.4",
      "model_name": "LayoutModel",
      "state": {
       "_model_module_version": "~2.1.4",
       "_view_module_version": "~2.1.4"
      }
     },
     "e346ed45dd0e4a55960f1478aac9e646": {
      "model_module": "jupyter-js-widgets",
      "model_module_version": "~2.1.4",
      "model_name": "HTMLModel",
      "state": {
       "_model_module_version": "~2.1.4",
       "_view_module_version": "~2.1.4",
       "layout": "IPY_MODEL_e343db5fa3ec413c8e7f13a87a40eb19",
       "value": "100% 2/2 [00:00&lt;00:00, 41.53it/s]"
      }
     },
     "e38cd8eb1604411e821d113463ea111d": {
      "model_module": "jupyter-js-widgets",
      "model_module_version": "~2.1.4",
      "model_name": "LayoutModel",
      "state": {
       "_model_module_version": "~2.1.4",
       "_view_module_version": "~2.1.4",
       "display": "flex",
       "flex_flow": "row",
       "justify_content": "space-between"
      }
     },
     "e48deed9e56e45b483646a20fa731c25": {
      "model_module": "jupyter-js-widgets",
      "model_module_version": "~2.1.4",
      "model_name": "HBoxModel",
      "state": {
       "_model_module_version": "~2.1.4",
       "_view_module_version": "~2.1.4",
       "children": [
        "IPY_MODEL_ea5121d000a54cba953099f9d2b2a1ec",
        "IPY_MODEL_ce3ad3857b644a5098fa9cda1bb9b627"
       ],
       "layout": "IPY_MODEL_6e91bd5734a14b878248668cc32a9bc4"
      }
     },
     "e576e3e3879744bea4894320d5313803": {
      "model_module": "jupyter-js-widgets",
      "model_module_version": "~2.1.4",
      "model_name": "HTMLModel",
      "state": {
       "_model_module_version": "~2.1.4",
       "_view_module_version": "~2.1.4",
       "layout": "IPY_MODEL_4955da8c9f214aa485bf69af3025228c",
       "value": "100% 2/2 [00:00&lt;00:00, 18.23it/s]"
      }
     },
     "e61ee9d330f94f988bf6e2fc020e0d54": {
      "model_module": "jupyter-js-widgets",
      "model_module_version": "~2.1.4",
      "model_name": "LayoutModel",
      "state": {
       "_model_module_version": "~2.1.4",
       "_view_module_version": "~2.1.4"
      }
     },
     "e6d6ae9694294cb3b6817b508469323b": {
      "model_module": "jupyter-js-widgets",
      "model_module_version": "~2.1.4",
      "model_name": "HBoxModel",
      "state": {
       "_model_module_version": "~2.1.4",
       "_view_module_version": "~2.1.4",
       "children": [
        "IPY_MODEL_e8582c0d19b34372b3a53337deb4b119",
        "IPY_MODEL_c200df57d5354734a1d80d3b4a0d722a"
       ],
       "layout": "IPY_MODEL_e38cd8eb1604411e821d113463ea111d"
      }
     },
     "e74814ac6a654ec5b11b3be420de3c9f": {
      "model_module": "jupyter-js-widgets",
      "model_module_version": "~2.1.4",
      "model_name": "LayoutModel",
      "state": {
       "_model_module_version": "~2.1.4",
       "_view_module_version": "~2.1.4"
      }
     },
     "e8582c0d19b34372b3a53337deb4b119": {
      "model_module": "jupyter-js-widgets",
      "model_module_version": "~2.1.4",
      "model_name": "LabelModel",
      "state": {
       "_model_module_version": "~2.1.4",
       "_view_module_version": "~2.1.4",
       "layout": "IPY_MODEL_998d24750a3f45b2b2b5d820a6251934",
       "value": "Azimuth angle"
      }
     },
     "e878acf2369d4e268f29626b6cc7127f": {
      "model_module": "jupyter-js-widgets",
      "model_module_version": "~2.1.4",
      "model_name": "ButtonModel",
      "state": {
       "_model_module_version": "~2.1.4",
       "_view_module_version": "~2.1.4",
       "description": "Apply",
       "layout": "IPY_MODEL_683878d92e8d424eaa5be564ab102c36",
       "style": "IPY_MODEL_21ec5c264efe418da4e7d8c7ae83eeff",
       "tooltip": "Perform the operation using the selected range."
      }
     },
     "e8f3c29cce7647289dfbd04508bc8d6a": {
      "model_module": "jupyter-js-widgets",
      "model_module_version": "~2.1.4",
      "model_name": "LayoutModel",
      "state": {
       "_model_module_version": "~2.1.4",
       "_view_module_version": "~2.1.4"
      }
     },
     "e9b9df05c0dd45789094c448cf5051c1": {
      "model_module": "jupyter-js-widgets",
      "model_module_version": "~2.1.4",
      "model_name": "VBoxModel",
      "state": {
       "_model_module_version": "~2.1.4",
       "_view_module_version": "~2.1.4",
       "children": [
        "IPY_MODEL_ea4c8f579347417fa501d2d58e5450a9",
        "IPY_MODEL_69105d60f47f447d8ff85265263fe431"
       ],
       "layout": "IPY_MODEL_9a264a3975274f639bfca94cb78d7c50"
      }
     },
     "e9bbea9b34e64c8db77f12c2afe94c90": {
      "model_module": "jupyter-js-widgets",
      "model_module_version": "~2.1.4",
      "model_name": "HBoxModel",
      "state": {
       "_model_module_version": "~2.1.4",
       "_view_module_version": "~2.1.4",
       "children": [
        "IPY_MODEL_6c765d5215c74792a70e438afd69b98d",
        "IPY_MODEL_2251a0f47c8e488caea9692ac1af9510"
       ],
       "layout": "IPY_MODEL_391450526c7e4256a9c1b3bc6de1eaea"
      }
     },
     "ea417d0fd54345bb881d8ba845982276": {
      "model_module": "jupyter-js-widgets",
      "model_module_version": "~2.1.4",
      "model_name": "LayoutModel",
      "state": {
       "_model_module_version": "~2.1.4",
       "_view_module_version": "~2.1.4"
      }
     },
     "ea4c8f579347417fa501d2d58e5450a9": {
      "model_module": "jupyter-js-widgets",
      "model_module_version": "~2.1.4",
      "model_name": "TabModel",
      "state": {
       "_model_module_version": "~2.1.4",
       "_titles": {
        "0": "General",
        "1": "GUIs",
        "2": "EELS",
        "3": "EDS"
       },
       "_view_module_version": "~2.1.4",
       "children": [
        "IPY_MODEL_1364c82086ce408c8d3e67de52cd7cde",
        "IPY_MODEL_aab1841a664146219eb4289158935098",
        "IPY_MODEL_1a4b549b981f43d0838e79e16a16a706",
        "IPY_MODEL_03a28ada817c4056beb2c6f20e30fbd8"
       ],
       "layout": "IPY_MODEL_7e307dc0195542c6a1b5ccbe05f9b250",
       "selected_index": 2
      }
     },
     "ea5121d000a54cba953099f9d2b2a1ec": {
      "model_module": "jupyter-js-widgets",
      "model_module_version": "~2.1.4",
      "model_name": "ButtonModel",
      "state": {
       "_model_module_version": "~2.1.4",
       "_view_module_version": "~2.1.4",
       "description": "Apply",
       "layout": "IPY_MODEL_11654f7ef6b24bcf92806f4e35e203c0",
       "style": "IPY_MODEL_2a2ada98d5624aceb24a2d2d22127c7f",
       "tooltip": "Remove the background in the whole dataset."
      }
     },
     "eae324dd10fc429393bd0e522e8b3bac": {
      "model_module": "jupyter-js-widgets",
      "model_module_version": "~2.1.4",
      "model_name": "ProgressModel",
      "state": {
       "_model_module_version": "~2.1.4",
       "_view_module_version": "~2.1.4",
       "bar_style": "success",
       "layout": "IPY_MODEL_e74814ac6a654ec5b11b3be420de3c9f",
       "max": 2,
       "style": "IPY_MODEL_d1707d21d4294046928a3b6e0ca2bf3b",
       "value": 2
      }
     },
     "eb3ae5607d44437ba8a5244f7c59f9c9": {
      "model_module": "jupyter-js-widgets",
      "model_module_version": "~2.1.4",
      "model_name": "HTMLModel",
      "state": {
       "_model_module_version": "~2.1.4",
       "_view_module_version": "~2.1.4",
       "layout": "IPY_MODEL_23decac2e7f047c4a59fb901064bae25",
       "value": "100% 2/2 [00:00&lt;00:00, 27.70it/s]"
      }
     },
     "eb3ef057de8b475595b44d2a66d8b42e": {
      "model_module": "jupyter-js-widgets",
      "model_module_version": "~2.1.4",
      "model_name": "LayoutModel",
      "state": {
       "_model_module_version": "~2.1.4",
       "_view_module_version": "~2.1.4"
      }
     },
     "ec4ce2dd868f4c6596f82619b2f0af77": {
      "model_module": "jupyter-js-widgets",
      "model_module_version": "~2.1.4",
      "model_name": "LayoutModel",
      "state": {
       "_model_module_version": "~2.1.4",
       "_view_module_version": "~2.1.4",
       "width": "auto"
      }
     },
     "ec8c4c668b5545df9370f7cb54127aef": {
      "model_module": "jupyter-js-widgets",
      "model_module_version": "~2.1.4",
      "model_name": "ProgressModel",
      "state": {
       "_model_module_version": "~2.1.4",
       "_view_module_version": "~2.1.4",
       "bar_style": "success",
       "layout": "IPY_MODEL_7c1989ff0fe045fc9a053512efe2671d",
       "max": 5,
       "style": "IPY_MODEL_03736830f4154dd1b5f1cdc4aa116d4a",
       "value": 5
      }
     },
     "ed8701f4f9a64695a9d06b1ef3083bb3": {
      "model_module": "jupyter-js-widgets",
      "model_module_version": "~2.1.4",
      "model_name": "ProgressStyleModel",
      "state": {
       "_model_module_version": "~2.1.4",
       "_view_module_version": "~2.1.4"
      }
     },
     "edfab38d412249378c1c7fe9b347bc6d": {
      "model_module": "jupyter-js-widgets",
      "model_module_version": "~2.1.4",
      "model_name": "LayoutModel",
      "state": {
       "_model_module_version": "~2.1.4",
       "_view_module_version": "~2.1.4"
      }
     },
     "ee8caa86cefa4ae98a0590899c8a840e": {
      "model_module": "jupyter-js-widgets",
      "model_module_version": "~2.1.4",
      "model_name": "LabelModel",
      "state": {
       "_model_module_version": "~2.1.4",
       "_view_module_version": "~2.1.4",
       "layout": "IPY_MODEL_ec4ce2dd868f4c6596f82619b2f0af77",
       "value": "Expand structures in DictionaryTreeBrowser"
      }
     },
     "eea57d705d8c4b558a29df499d954a19": {
      "model_module": "jupyter-js-widgets",
      "model_module_version": "~2.1.4",
      "model_name": "LayoutModel",
      "state": {
       "_model_module_version": "~2.1.4",
       "_view_module_version": "~2.1.4"
      }
     },
     "ef8d6ed5ac52458ab2d83016f816ad30": {
      "model_module": "jupyter-js-widgets",
      "model_module_version": "~2.1.4",
      "model_name": "LayoutModel",
      "state": {
       "_model_module_version": "~2.1.4",
       "_view_module_version": "~2.1.4"
      }
     },
     "f081794290574b05b1879914b08ab95a": {
      "model_module": "jupyter-js-widgets",
      "model_module_version": "~2.1.4",
      "model_name": "LayoutModel",
      "state": {
       "_model_module_version": "~2.1.4",
       "_view_module_version": "~2.1.4"
      }
     },
     "f0b7eb61ac1b4b0cb8bba3bda5fb3f7b": {
      "model_module": "jupyter-js-widgets",
      "model_module_version": "~2.1.4",
      "model_name": "LayoutModel",
      "state": {
       "_model_module_version": "~2.1.4",
       "_view_module_version": "~2.1.4"
      }
     },
     "f49b23e860744367a71a322d68f6f62b": {
      "model_module": "jupyter-js-widgets",
      "model_module_version": "~2.1.4",
      "model_name": "LayoutModel",
      "state": {
       "_model_module_version": "~2.1.4",
       "_view_module_version": "~2.1.4"
      }
     },
     "f4e68676ca4d4b0a86f013aabdde6c00": {
      "model_module": "jupyter-js-widgets",
      "model_module_version": "~2.1.4",
      "model_name": "CheckboxModel",
      "state": {
       "_model_module_version": "~2.1.4",
       "_view_module_version": "~2.1.4",
       "disabled": false,
       "layout": "IPY_MODEL_1a104b2ca8604dbe8b695e02702cb6d3",
       "value": true
      }
     },
     "f552342d24a44ec6b96d38ee7e241e77": {
      "model_module": "jupyter-js-widgets",
      "model_module_version": "~2.1.4",
      "model_name": "LayoutModel",
      "state": {
       "_model_module_version": "~2.1.4",
       "_view_module_version": "~2.1.4"
      }
     },
     "f60676892b714cc5938e80135b4b4f14": {
      "model_module": "jupyter-js-widgets",
      "model_module_version": "~2.1.4",
      "model_name": "HBoxModel",
      "state": {
       "_model_module_version": "~2.1.4",
       "_view_module_version": "~2.1.4",
       "children": [
        "IPY_MODEL_4ecad1cb0a9647deb8149785eeaf5207",
        "IPY_MODEL_0d5a1cc6b2c74430a1ba8e9983df4f85"
       ],
       "layout": "IPY_MODEL_0842d5e99c464f81b0ac2fd98e7e95e5"
      }
     },
     "f60c9f219ea047cba2f9600d819485dd": {
      "model_module": "jupyter-js-widgets",
      "model_module_version": "~2.1.4",
      "model_name": "LayoutModel",
      "state": {
       "_model_module_version": "~2.1.4",
       "_view_module_version": "~2.1.4"
      }
     },
     "f681b6cf80434d4f8918bb4aafe88a7e": {
      "model_module": "jupyter-js-widgets",
      "model_module_version": "~2.1.4",
      "model_name": "LayoutModel",
      "state": {
       "_model_module_version": "~2.1.4",
       "_view_module_version": "~2.1.4",
       "width": "auto"
      }
     },
     "f6fa7e6794cb4e45a722106c1ae9f78d": {
      "model_module": "jupyter-js-widgets",
      "model_module_version": "~2.1.4",
      "model_name": "ProgressModel",
      "state": {
       "_model_module_version": "~2.1.4",
       "_view_module_version": "~2.1.4",
       "bar_style": "success",
       "layout": "IPY_MODEL_2465b53eeab0420399be235c4b5bd852",
       "max": 5,
       "style": "IPY_MODEL_ed8701f4f9a64695a9d06b1ef3083bb3",
       "value": 5
      }
     },
     "f7698e277cba4ecc956deaa35197b1b0": {
      "model_module": "jupyter-js-widgets",
      "model_module_version": "~2.1.4",
      "model_name": "ProgressModel",
      "state": {
       "_model_module_version": "~2.1.4",
       "_view_module_version": "~2.1.4",
       "bar_style": "success",
       "layout": "IPY_MODEL_f49b23e860744367a71a322d68f6f62b",
       "max": 2,
       "style": "IPY_MODEL_32c4e9b2a2894ec39b97706602aae380",
       "value": 2
      }
     },
     "f7b9390d746044698eaaa57c6cb82ea7": {
      "model_module": "jupyter-js-widgets",
      "model_module_version": "~2.1.4",
      "model_name": "LayoutModel",
      "state": {
       "_model_module_version": "~2.1.4",
       "_view_module_version": "~2.1.4"
      }
     },
     "f92318422f3c4ee6859fa9ab01836c59": {
      "model_module": "jupyter-js-widgets",
      "model_module_version": "~2.1.4",
      "model_name": "HTMLModel",
      "state": {
       "_model_module_version": "~2.1.4",
       "_view_module_version": "~2.1.4",
       "layout": "IPY_MODEL_b233a9fc43aa4a8f98b48ccec1596931",
       "value": "100% 2/2 [00:00&lt;00:00, 13.40it/s]"
      }
     },
     "f9d4ddd1b1054c288389ef22c4c7d91b": {
      "model_module": "jupyter-js-widgets",
      "model_module_version": "~2.1.4",
      "model_name": "CheckboxModel",
      "state": {
       "_model_module_version": "~2.1.4",
       "_view_module_version": "~2.1.4",
       "description": "Fast",
       "disabled": false,
       "layout": "IPY_MODEL_37b3f638430345029b9e7404b7fa0d39",
       "value": true
      }
     },
     "fa2a1c1c665348169af3dcd2bbc2f726": {
      "model_module": "jupyter-js-widgets",
      "model_module_version": "~2.1.4",
      "model_name": "ProgressStyleModel",
      "state": {
       "_model_module_version": "~2.1.4",
       "_view_module_version": "~2.1.4"
      }
     },
     "fac3c26316e7440fad5f5a6062b7e215": {
      "model_module": "jupyter-js-widgets",
      "model_module_version": "~2.1.4",
      "model_name": "HBoxModel",
      "state": {
       "_model_module_version": "~2.1.4",
       "_view_module_version": "~2.1.4",
       "children": [
        "IPY_MODEL_b9907e0973004fe49826a62aba57fd9e",
        "IPY_MODEL_a3a8256f2477417393425148ad677f4c"
       ],
       "layout": "IPY_MODEL_e38cd8eb1604411e821d113463ea111d"
      }
     },
     "fb512709e18c4c34ad1ab4c2d0a30b39": {
      "model_module": "jupyter-js-widgets",
      "model_module_version": "~2.1.4",
      "model_name": "LayoutModel",
      "state": {
       "_model_module_version": "~2.1.4",
       "_view_module_version": "~2.1.4"
      }
     },
     "fbf21afbdcf44f249e70502a9e89d5e2": {
      "model_module": "jupyter-js-widgets",
      "model_module_version": "~2.1.4",
      "model_name": "HTMLModel",
      "state": {
       "_model_module_version": "~2.1.4",
       "_view_module_version": "~2.1.4",
       "layout": "IPY_MODEL_310d334928e04a7a805b774204435a5e",
       "value": "Click on the signal figure and drag to the right to select arange. Press `Fit` to fit the component in that range. If only current is unchecked the fit is performed in the whole dataset."
      }
     },
     "fc93a40768be426ba854d835aa6dd40f": {
      "model_module": "jupyter-js-widgets",
      "model_module_version": "~2.1.4",
      "model_name": "FloatTextModel",
      "state": {
       "_model_module_version": "~2.1.4",
       "_view_module_version": "~2.1.4",
       "description": "Right",
       "disabled": true,
       "layout": "IPY_MODEL_d66eb80953a04edbb310027606c22ef5",
       "value": 443.76400547913545
      }
     },
     "fca1834fc10f4f128878b0349f6d8113": {
      "model_module": "jupyter-js-widgets",
      "model_module_version": "~2.1.4",
      "model_name": "HTMLModel",
      "state": {
       "_model_module_version": "~2.1.4",
       "_view_module_version": "~2.1.4",
       "layout": "IPY_MODEL_a207d8bb67be4dd08a8e508f230c3fc2",
       "value": "100% 2/2 [00:00&lt;00:00, 12.02it/s]"
      }
     },
     "fe45aa34e21f494db548ab28b6a12052": {
      "model_module": "jupyter-js-widgets",
      "model_module_version": "~2.1.4",
      "model_name": "LayoutModel",
      "state": {
       "_model_module_version": "~2.1.4",
       "_view_module_version": "~2.1.4"
      }
     },
     "ffaabfd89c3f4aa6977632a1e49228e5": {
      "model_module": "jupyter-js-widgets",
      "model_module_version": "~2.1.4",
      "model_name": "AccordionModel",
      "state": {
       "_model_module_version": "~2.1.4",
       "_titles": {
        "0": "Help"
       },
       "_view_module_version": "~2.1.4",
       "children": [
        "IPY_MODEL_1cd729986a7a463e9f77485ccb313095"
       ],
       "layout": "IPY_MODEL_c670bdc2634946d6a6bf386797d5efa1"
      }
     },
     "fff6698f0e744deb84b7515be434254a": {
      "model_module": "jupyter-js-widgets",
      "model_module_version": "~2.1.4",
      "model_name": "LayoutModel",
      "state": {
       "_model_module_version": "~2.1.4",
       "_view_module_version": "~2.1.4"
      }
     }
    },
    "version_major": 1,
    "version_minor": 0
   }
  }
 },
 "nbformat": 4,
 "nbformat_minor": 4
}
