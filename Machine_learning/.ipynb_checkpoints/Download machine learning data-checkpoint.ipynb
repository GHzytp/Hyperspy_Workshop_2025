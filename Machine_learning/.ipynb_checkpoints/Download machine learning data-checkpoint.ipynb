{
 "cells": [
  {
   "cell_type": "code",
   "execution_count": null,
   "id": "86d5d70a-e08f-42e0-86d2-79792ad49adc",
   "metadata": {},
   "outputs": [],
   "source": [
    "from urllib.request import urlretrieve, urlopen\n",
    "from zipfile import ZipFile\n",
    "files = urlretrieve(\"https://www.dropbox.com/s/dt6bc3dtg373ahw/machine_learning.zip?raw=1\", \"./machine_learning.zip\")\n",
    "\n",
    "with ZipFile(\"machine_learning.zip\") as z:\n",
    "    z.extractall()"
   ]
  }
 ],
 "metadata": {
  "kernelspec": {
   "display_name": "Python 3 (ipykernel)",
   "language": "python",
   "name": "python3"
  },
  "language_info": {
   "codemirror_mode": {
    "name": "ipython",
    "version": 3
   },
   "file_extension": ".py",
   "mimetype": "text/x-python",
   "name": "python",
   "nbconvert_exporter": "python",
   "pygments_lexer": "ipython3",
   "version": "3.9.12"
  },
  "widgets": {
   "application/vnd.jupyter.widget-state+json": {
    "state": {},
    "version_major": 2,
    "version_minor": 0
   }
  }
 },
 "nbformat": 4,
 "nbformat_minor": 5
}
