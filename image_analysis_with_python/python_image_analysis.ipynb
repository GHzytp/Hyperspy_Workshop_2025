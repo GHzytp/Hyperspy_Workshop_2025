{
 "cells": [
  {
   "cell_type": "markdown",
   "id": "aa0e8622",
   "metadata": {},
   "source": [
    "# Image analysis with scikit-image\n",
    "\n",
    "Hyperspy and its associated packages has a lot of functionality for analysis of (electron microscopy) images, but of course not every analysis task is available. In this notebook, we create a custom image analysis algorithm using the Python libraries NumPy, SciPy and scikit-image. The algorithm we will create finds defects in noisy contaminated graphene images using thresholding, Bragg filtering and blob detection. The dataset we analyse is a subset of the STEM-MAADF images collected as part of an automated scan map by Alberto Trentino, the data was originally published [here](https://pubs.acs.org/doi/full/10.1021/acs.nanolett.1c01214). It is noted that the selection of images were deliberately chosen to have contamination.\n",
    "\n",
    "### Authors:\n",
    "* 16/05/2024 Jacob Madsen - For the HyperSpy workshop at ePSIC 2024"
   ]
  },
  {
   "cell_type": "code",
   "execution_count": null,
   "id": "760ed728",
   "metadata": {},
   "outputs": [],
   "source": [
    "%matplotlib inline\n",
    "\n",
    "import numpy as np\n",
    "import scipy\n",
    "import skimage\n",
    "import matplotlib.pyplot as plt\n",
    "import matplotlib\n",
    "import hyperspy.api as hs"
   ]
  },
  {
   "cell_type": "markdown",
   "id": "8bfa7dcb-d5e1-4dd3-9674-0a0f2d7575e6",
   "metadata": {},
   "source": [
    "## Importing images\n",
    "\n",
    "We import the image using the [skimage.io](https://scikit-image.org/docs/stable/api/skimage.io.html) module, the image is imported as a NumPy array. Of course HyperSpy can be used as well, and would be necessary for specialized image formats."
   ]
  },
  {
   "cell_type": "code",
   "execution_count": null,
   "id": "4ee96eb8-82cd-4546-9336-4fc00d564925",
   "metadata": {},
   "outputs": [],
   "source": [
    "fname = \"data/stem_maadf_scan_map_0000.tif\""
   ]
  },
  {
   "cell_type": "markdown",
   "id": "4e516254-440f-4fc2-91da-d80dd85efa9e",
   "metadata": {},
   "source": [
    "## Binning and rescaling\n",
    "\n",
    "We downscale the image using binning with [downscale_local_mean](https://scikit-image.org/docs/stable/api/skimage.transform.html#skimage.transform.downscale_local_mean). We use binning instead of [rescaling](https://scikit-image.org/docs/stable/auto_examples/transform/plot_rescale.html) to avoid aliasing artifacts. "
   ]
  },
  {
   "cell_type": "code",
   "execution_count": null,
   "id": "329dbe44-1076-4bbe-a2c3-07d8766df6d2",
   "metadata": {},
   "outputs": [],
   "source": []
  },
  {
   "cell_type": "markdown",
   "id": "a99978d4-6317-4500-9890-1bf61451a403",
   "metadata": {},
   "source": [
    "## Displaying images with Matplotlib\n",
    "\n",
    "We can use the Matplotlib library to inspect the images. By default the image is normalized such that the full range is displayed, we can change that by changing `vmin` and `vmax`. We can also display the image on a powerscale to enhance lower intensities (equivalent to `gamma` in image-jargon). "
   ]
  },
  {
   "cell_type": "code",
   "execution_count": null,
   "id": "ff0dd3b6-1b99-49ee-b3f0-fb60443a2879",
   "metadata": {},
   "outputs": [],
   "source": []
  },
  {
   "cell_type": "markdown",
   "id": "35a010b2-47d6-4faf-972e-4475ebffae9c",
   "metadata": {},
   "source": [
    "## FFTs and displaying reciprocal space images\n",
    "Performing FFT's and understanding how to manipulate images in both real and reciprocal space is an important aspect of image analysis in electron microscopy.\n",
    "\n",
    "We use NumPy to Fourier transform the image."
   ]
  },
  {
   "cell_type": "code",
   "execution_count": null,
   "id": "89a49a3d-b757-419e-8ac2-9292bfec32ee",
   "metadata": {},
   "outputs": [],
   "source": []
  },
  {
   "cell_type": "markdown",
   "id": "d36ba1f9-a1c3-481a-8ae9-daddaa9e0a9f",
   "metadata": {},
   "source": [
    "The Fourier transformed image is complex and the zero-frequency is at the upper left corner. We take the amplitude and shift the zero-frequency to the center. We make the code into a function as we will need it later."
   ]
  },
  {
   "cell_type": "code",
   "execution_count": null,
   "id": "fad8e9c4-c469-47d6-bffa-c223b0255cad",
   "metadata": {},
   "outputs": [],
   "source": []
  },
  {
   "cell_type": "code",
   "execution_count": null,
   "id": "7b4d7506-58db-425a-9ecc-e476d12a18e5",
   "metadata": {},
   "outputs": [],
   "source": [
    "def calculate_power(image):\n",
    "    fft_image = np.fft.fft2(image)\n",
    "    return np.fft.fftshift(np.abs(fft_image))"
   ]
  },
  {
   "cell_type": "markdown",
   "id": "69270ed6-4f47-4913-9549-d1077a62d059",
   "metadata": {},
   "source": [
    "Images are typically dominated by the low frequencies, hence it may be necessary to display them in reciprocal space using a logarithmic normalization."
   ]
  },
  {
   "cell_type": "code",
   "execution_count": null,
   "id": "406a29fb-905a-437a-af25-91aeee83b698",
   "metadata": {},
   "outputs": [],
   "source": []
  },
  {
   "cell_type": "markdown",
   "id": "e127fec5-53ed-48f6-adb2-a7e3ddb2624d",
   "metadata": {},
   "source": [
    "## Filtering\n",
    "Filtering is the most basic method of removing noise. This is typically utilizing that the noise has a larger frequency than the signal and thus we can remove the high frequencies without damaging the signal.\n",
    "\n",
    "scikit-image has a large selection of filters, see [documentation](https://scikit-image.org/docs/stable/api/skimage.filters.html#skimage.filters.difference_of_gaussians) and [examples](https://scikit-image.org/docs/stable/auto_examples/index.html#filtering-and-restoration).\n",
    "\n",
    "We will just use a Gaussian filter, i.e. higher frequencies are attenuated weighted according to a Gaussian. "
   ]
  },
  {
   "cell_type": "code",
   "execution_count": null,
   "id": "077a6c4e-9d2b-4e21-b06f-7fb5efa70841",
   "metadata": {},
   "outputs": [],
   "source": []
  },
  {
   "cell_type": "markdown",
   "id": "a8fb8c35-2d8c-4b5e-add7-2128d20c1e99",
   "metadata": {},
   "source": [
    "We see that the Gaussian filter attenuated the larger frequencies while preserving the lower. The streaks are mainly due to the contamination introducing discontinuous step in the signal.  "
   ]
  },
  {
   "cell_type": "markdown",
   "id": "7e2564e1-f1b0-4cbe-88bf-64061ebd4f86",
   "metadata": {},
   "source": [
    "## Histogram thresholding\n",
    "\n",
    "The most basic method of segmenting the contamination is histogram thresholding, i.e. selecting the pixels with a value above (or below) a specified threshold. \n",
    "\n",
    "We start by showing a histogram of the image values."
   ]
  },
  {
   "cell_type": "code",
   "execution_count": null,
   "id": "3e5419f1-88ce-4a5c-8041-7fc7de83c2e4",
   "metadata": {},
   "outputs": [],
   "source": []
  },
  {
   "cell_type": "markdown",
   "id": "6a400ddc-b5d4-4279-81b2-41c23564eb28",
   "metadata": {},
   "source": [
    "scikit-image provides several methods for automatically selecting an optimal threshold. The methods typically attempts to the find the threshold that \"best\" separates the histogram into two different modes. See the documentation for a comprehensive [example](https://scikit-image.org/docs/stable/auto_examples/applications/plot_thresholding_guide.html#sphx-glr-auto-examples-applications-plot-thresholding-guide-py).\n",
    "\n",
    "The `try_all_threshold` function will apply each of the different methods and show a visualization of the result."
   ]
  },
  {
   "cell_type": "code",
   "execution_count": null,
   "id": "ee3195c0-8f1c-46f3-a3ac-ba37e291356f",
   "metadata": {},
   "outputs": [],
   "source": []
  },
  {
   "cell_type": "markdown",
   "id": "c049e057-5184-4801-af56-ba4c2ec463fb",
   "metadata": {},
   "source": [
    "Based on the visualization most of the methods seems to work reasonably well, we will pick the \"Yen\" method."
   ]
  },
  {
   "cell_type": "code",
   "execution_count": null,
   "id": "f9106f98-7d6e-496a-961e-19d670b5ddeb",
   "metadata": {},
   "outputs": [],
   "source": []
  },
  {
   "cell_type": "markdown",
   "id": "04b14bf6-54ca-4bc6-8a35-16c7b443c1eb",
   "metadata": {},
   "source": [
    "Finally, we can show the thresholded image, i.e. the segmented contamination. We use the alpha keyword to overlay the contamination on the image."
   ]
  },
  {
   "cell_type": "code",
   "execution_count": null,
   "id": "08707f41-a4e7-49f9-b3a4-c5a250ba4f4a",
   "metadata": {},
   "outputs": [],
   "source": [
    "plt.figure()\n",
    "plt.imshow(contamination)"
   ]
  },
  {
   "cell_type": "markdown",
   "id": "2dfa7c94-5de9-495f-9544-34e74e57aa64",
   "metadata": {},
   "source": [
    "## Morphological transformations\n",
    "\n",
    "Often segmentations based on thresholding may produce a noisy output. Binary masks can be manipulated using morphological transformations, see the [module documentation](https://scikit-image.org/docs/stable/api/skimage.morphology.html#module-skimage.morphology) or this [example](https://scikit-image.org/docs/stable/auto_examples/applications/plot_morphology.html). \n",
    "\n",
    "To clean up the segmented contamination, we remove the small holes and objects, then, we expand the contamination using dilation."
   ]
  },
  {
   "cell_type": "code",
   "execution_count": null,
   "id": "11ebe541-ff71-4ac3-bce6-fbdce0b77478",
   "metadata": {},
   "outputs": [],
   "source": []
  },
  {
   "cell_type": "code",
   "execution_count": null,
   "id": "927d5d3f-77da-4c2f-9ffc-95c46d5664b2",
   "metadata": {},
   "outputs": [],
   "source": [
    "plt.figure()\n",
    "plt.imshow(cleaned_contamination)"
   ]
  },
  {
   "cell_type": "markdown",
   "id": "253db966-d722-449a-b3b2-4c3078c3336a",
   "metadata": {},
   "source": [
    "## Masking images\n",
    "We mask the image by setting the values of the contamination mask to the mean image value."
   ]
  },
  {
   "cell_type": "code",
   "execution_count": null,
   "id": "381e5551-7cf1-4526-92ff-0778c69dc9da",
   "metadata": {},
   "outputs": [],
   "source": []
  },
  {
   "cell_type": "code",
   "execution_count": null,
   "id": "7fb3776a-b783-4c76-bc39-7a0b8f9c4b3c",
   "metadata": {},
   "outputs": [],
   "source": [
    "plt.figure()\n",
    "plt.imshow(masked_image)"
   ]
  },
  {
   "cell_type": "code",
   "execution_count": null,
   "id": "9c09cae0-99c4-4262-aad1-fea98388f6f6",
   "metadata": {},
   "outputs": [],
   "source": [
    "power_spectrum = calculate_power(masked_image)\n",
    "\n",
    "plt.figure()\n",
    "plt.imshow(power_spectrum, norm=matplotlib.colors.LogNorm())"
   ]
  },
  {
   "cell_type": "markdown",
   "id": "fa09d4fe-f518-4cd1-9016-3bc7fbe8fb37",
   "metadata": {},
   "source": [
    "## Windowed FFT\n",
    "\n",
    "The remaining streaks around the diffraction spots in the power spectrum comes from the discontinuities at the boundary of the image. They can be removed by applying a [window function](https://en.wikipedia.org/wiki/Window_function) to the original signal before computating of the FFT. See also example in [documentation](https://scikit-image.org/docs/stable/auto_examples/filters/plot_window.html#sphx-glr-auto-examples-filters-plot-window-py).\n",
    "\n",
    "The `skimage.filters.window` module has a multiple of available window functions, see [docs](https://docs.scipy.org/doc/scipy/reference/signal.windows.html). Here, we choose a Hanning window, this is also default when setting `apodization = True` using the [FFT](http://hyperspy.org/hyperspy-doc/current/api/hyperspy.signal.html#hyperspy.signal.BaseSignal.fft) method of a HyperSpy signal."
   ]
  },
  {
   "cell_type": "code",
   "execution_count": null,
   "id": "076eb655",
   "metadata": {},
   "outputs": [],
   "source": []
  },
  {
   "cell_type": "code",
   "execution_count": null,
   "id": "8b9d005e-b695-488f-b26d-129d8ed46895",
   "metadata": {},
   "outputs": [],
   "source": [
    "plt.figure()\n",
    "plt.imshow(hanning)\n",
    "plt.colorbar();"
   ]
  },
  {
   "cell_type": "markdown",
   "id": "f708881c",
   "metadata": {},
   "source": [
    "We multiply the image by the window function in real space."
   ]
  },
  {
   "cell_type": "code",
   "execution_count": null,
   "id": "f050aafe",
   "metadata": {},
   "outputs": [],
   "source": [
    "windowed_power = calculate_power(masked_image * hanning)\n",
    "\n",
    "plt.figure()\n",
    "plt.imshow(windowed_power, norm=LogNorm())"
   ]
  },
  {
   "cell_type": "markdown",
   "id": "83083337",
   "metadata": {},
   "source": [
    "### Find diffraction spots\n",
    "With our clean power spectrum it is much easier to find the diffraction spots.\n",
    "\n",
    "The `skimage.feature.peak_local_max` function returns the coordinates of local peaks (maxima) in an image. A minimum distance between the detected peaks is given to avoid detecting the same peak multiple times."
   ]
  },
  {
   "cell_type": "code",
   "execution_count": null,
   "id": "2166967b",
   "metadata": {},
   "outputs": [],
   "source": []
  },
  {
   "cell_type": "markdown",
   "id": "c4cd0118",
   "metadata": {},
   "source": [
    "Plotting the detected peaks, we see that, in addition to the diffraction spots, a lot of unwanted peaks in the random noise was found."
   ]
  },
  {
   "cell_type": "code",
   "execution_count": null,
   "id": "83a1f6cb",
   "metadata": {},
   "outputs": [],
   "source": [
    "plt.figure()\n",
    "plt.imshow(windowed_power, norm=LogNorm())"
   ]
  },
  {
   "cell_type": "markdown",
   "id": "86c2162a",
   "metadata": {},
   "source": [
    "We expect the most intense peak to be the zero'th order spot, the next six peaks will be the first order spots. Hence, we may select these spots by slicing the array of coordinates from index 1 through 13. \n",
    "\n",
    "The positions of diffraction spots are overlaid on the power spectrum."
   ]
  },
  {
   "cell_type": "code",
   "execution_count": null,
   "id": "e417d441",
   "metadata": {},
   "outputs": [],
   "source": [
    "\n",
    "\n",
    "plt.figure()\n",
    "plt.imshow(windowed_power, norm=LogNorm())\n",
    "plt.scatter(selected_coordinates[:,1], selected_coordinates[:,0], s = 100, facecolors = 'none', edgecolors = 'r');"
   ]
  },
  {
   "cell_type": "markdown",
   "id": "e626492c",
   "metadata": {},
   "source": [
    "### Create Bragg mask\n",
    "\n",
    "The Bragg mask will be an array with zeros everywhere except for the regions around the first order diffraction spots. \n",
    "\n",
    "We start by creating an array of zeros and set the pixels at the diffraction spots to 1, i.e. the array represents a set of delta-functions placed at the positions of the Bragg spots."
   ]
  },
  {
   "cell_type": "code",
   "execution_count": null,
   "id": "7a17cb20",
   "metadata": {},
   "outputs": [],
   "source": []
  },
  {
   "cell_type": "markdown",
   "id": "64b6cfbe",
   "metadata": {},
   "source": [
    "To finalize the Bragg mask, we convolve a disk with the array with the delta-functions."
   ]
  },
  {
   "cell_type": "code",
   "execution_count": null,
   "id": "b30c2a5e",
   "metadata": {},
   "outputs": [],
   "source": [
    "\n",
    "\n",
    "plt.figure()\n",
    "plt.imshow(mask);"
   ]
  },
  {
   "cell_type": "markdown",
   "id": "3078b0b5",
   "metadata": {},
   "source": [
    "Note that the Bragg mask could possibly be improved slightly making the edges of the disks smoother."
   ]
  },
  {
   "cell_type": "markdown",
   "id": "68617772",
   "metadata": {},
   "source": [
    "### Apply Bragg filter \n",
    "\n",
    "We apply the Bragg mask to the Fourier transformed image. Here, we do not use windowing and we make sure to inverse shift the mask."
   ]
  },
  {
   "cell_type": "code",
   "execution_count": null,
   "id": "f4199cf9",
   "metadata": {},
   "outputs": [],
   "source": []
  },
  {
   "cell_type": "markdown",
   "id": "0b36d28e",
   "metadata": {},
   "source": [
    "The result is complex-valued, to get the Bragg filtered image we select the real part."
   ]
  },
  {
   "cell_type": "code",
   "execution_count": null,
   "id": "c03a98e5",
   "metadata": {},
   "outputs": [],
   "source": [
    "plt.figure()\n",
    "plt.imshow(bragg_filtered);"
   ]
  },
  {
   "cell_type": "markdown",
   "id": "322a129a",
   "metadata": {},
   "source": [
    "The Bragg filtered image shows a perfect graphene lattice. The trick to using Bragg filtering to finding the defects is to subtract the original image from the periodic Bragg filtered image to obtaini the non-periodic components."
   ]
  },
  {
   "cell_type": "code",
   "execution_count": null,
   "id": "50a5c996",
   "metadata": {},
   "outputs": [],
   "source": [
    "non_periodic[cleaned_contamination] = non_periodic[cleaned_contamination == 0].mean()\n",
    "\n",
    "non_periodic = skimage.filters.gaussian(non_periodic, 4)\n",
    "\n",
    "fig, (ax1, ax2) = plt.subplots(1,2)\n",
    "ax1.imshow(binned_image);\n",
    "ax2.imshow(non_periodic);"
   ]
  },
  {
   "cell_type": "markdown",
   "id": "3753b47b",
   "metadata": {},
   "source": [
    "### Blob detection\n",
    "\n",
    "The image above should show the defects as bright \"blobs\" on a noisy background. We will use the scikit-image implementation of the \"Laplacian-of-Gaussian\" (LOG) blob detection algorithm. See the [docs](https://scikit-image.org/docs/stable/auto_examples/features_detection/plot_blob.html) for an example or the [wiki page](https://en.wikipedia.org/wiki/Blob_detection) for a theoretical description.\n",
    "\n",
    "We use the scikit-image implementation of the LOG algorithm to find the blobs, the parameters are explained in the [docs](https://scikit-image.org/docs/stable/api/skimage.feature.html#skimage.feature.blob_log). Finding the right parameters "
   ]
  },
  {
   "cell_type": "code",
   "execution_count": null,
   "id": "6ce76d31",
   "metadata": {},
   "outputs": [],
   "source": []
  },
  {
   "cell_type": "markdown",
   "id": "50e7f162",
   "metadata": {},
   "source": [
    "Selecting the optimal parameters for the blob detection algorithm is not always trivial. You might even want to use some machine learning methods to find the best parameters. "
   ]
  },
  {
   "cell_type": "code",
   "execution_count": null,
   "id": "2868df41",
   "metadata": {},
   "outputs": [],
   "source": [
    "plt.figure()\n",
    "plt.imshow(masked_image);\n",
    "plt.scatter(blobs_log[:,1], blobs_log[:,0], s = 200, facecolors = 'none', edgecolors = 'r');"
   ]
  },
  {
   "cell_type": "markdown",
   "id": "9985574a-07de-47db-a650-476b8e456d92",
   "metadata": {},
   "source": [
    "## Applying algorithm to image series\n",
    "\n",
    "The next step is ensure that the algorihm works on other images. When we are confident that the algorithm is robust, we can run it across our entire dataset. However, doing so with a Jupyter notebook, one image at a time, is quite inefficient (although we could use [papermill](https://papermill.readthedocs.io/en/latest/)). \n",
    "\n",
    "Writing an algorithm step-by-step in a Jupyter notebook is great for prototyping; however, once you have a working algorithm you should create proper python functions (preferably with documentation). Below the code in this Jupyter notebook is made into functions."
   ]
  },
  {
   "cell_type": "code",
   "execution_count": null,
   "id": "ff11b948-4e03-4d04-ab6c-eff3170427f8",
   "metadata": {},
   "outputs": [],
   "source": [
    "def import_binned_image(fname, binning=(2,2)):\n",
    "    image = skimage.io.imread(fname)\n",
    "    image = skimage.transform.downscale_local_mean(image, binning)\n",
    "    return image\n",
    "\n",
    "def calculate_power_spectrum(image):\n",
    "    fft_image = np.fft.fft2(image)\n",
    "    return np.fft.fftshift(np.abs(fft_image))\n",
    "\n",
    "def segment_contamination(image, sigma=2, area_threshold=128, dilation=15):\n",
    "    image = skimage.filters.gaussian(image, sigma)\n",
    "    threshold = skimage.filters.threshold_yen(image)\n",
    "    contamination = image > threshold\n",
    "    contamination = skimage.morphology.remove_small_holes(contamination, area_threshold)\n",
    "    contamination = skimage.morphology.remove_small_objects(contamination, area_threshold)\n",
    "    disk = skimage.morphology.disk(dilation)\n",
    "    return skimage.morphology.binary_dilation(contamination, disk)\n",
    "\n",
    "def mask_image(image, mask):\n",
    "    masked_image = image.copy()\n",
    "    masked_image[mask] = masked_image[mask == 0].mean()\n",
    "    return masked_image\n",
    "\n",
    "def windowed_power_spectrum(image):\n",
    "    hanning = skimage.filters.window(\"hann\", image.shape)\n",
    "    return calculate_power_spectrum(masked_image * hanning)\n",
    "\n",
    "def find_diffraction_spots(image, num_spots=6, min_distance=20):\n",
    "    power = windowed_power_spectrum(image)\n",
    "    coordinates = skimage.feature.peak_local_max(power, min_distance=min_distance)\n",
    "    return coordinates[1:num_spots+1]\n",
    "\n",
    "def create_bragg_mask(spots, shape, disk_radius):\n",
    "    delta_mask = np.zeros(shape, dtype=float)\n",
    "    delta_mask[spots[:,0], spots[:,1]] = 1\n",
    "    disk = skimage.morphology.disk(disk_radius).astype(float)\n",
    "    return scipy.signal.fftconvolve(delta_mask, disk, mode='same')\n",
    "\n",
    "def apply_fft_filter(image, mask):\n",
    "    return np.fft.ifft2(np.fft.fft2(image) * np.fft.ifftshift(mask)).real"
   ]
  },
  {
   "cell_type": "markdown",
   "id": "0f6c6f27-ab65-4761-950e-b4efd2704818",
   "metadata": {},
   "source": [
    "We can now import a series of images and apply our algorithm to each of them."
   ]
  },
  {
   "cell_type": "code",
   "execution_count": null,
   "id": "3910417f-5419-46d5-816c-ddc80a398239",
   "metadata": {},
   "outputs": [],
   "source": [
    "import glob\n",
    "\n",
    "image_names = sorted(glob.glob(\"data/*.tif\"))\n",
    "image_names"
   ]
  },
  {
   "cell_type": "markdown",
   "id": "aa016860-cde0-499d-838b-04b106dd7b8f",
   "metadata": {},
   "source": [
    "We loop over all the file_names and visualize the output."
   ]
  },
  {
   "cell_type": "code",
   "execution_count": null,
   "id": "3034bf81-66a2-4349-8f36-df9b50d101f1",
   "metadata": {},
   "outputs": [],
   "source": [
    "for fname in image_names:\n",
    "    image = import_binned_image(fname, binning=(2,2))\n",
    "\n",
    "    contamination = segment_contamination(image, sigma=2, area_threshold=128, dilation=15)\n",
    "    \n",
    "    masked_image = mask_image(image, contamination)\n",
    "    \n",
    "    spots = find_diffraction_spots(masked_image, num_spots=6, min_distance=20)\n",
    "    \n",
    "    bragg_mask = create_bragg_mask(spots, image.shape, disk_radius=5)\n",
    "    \n",
    "    bragg_filtered = apply_fft_filter(image, bragg_mask)\n",
    "    \n",
    "    non_periodic = bragg_filtered - image\n",
    "    \n",
    "    non_periodic = mask_image(non_periodic, contamination)\n",
    "    \n",
    "    blobs_log = skimage.feature.blob_log(non_periodic, \n",
    "                                         min_sigma = 10,\n",
    "                                         max_sigma = 15,\n",
    "                                         threshold = .0004,\n",
    "                                         exclude_border = 20)\n",
    "    \n",
    "    plt.figure()\n",
    "    plt.imshow(image, vmax=.018)\n",
    "    plt.scatter(blobs_log[:,1], blobs_log[:,0], s = 200, facecolors = 'none', edgecolors = 'r')\n",
    "    plt.imshow(contamination, cmap=\"bwr\", alpha=contamination.astype(float) * .5)"
   ]
  }
 ],
 "metadata": {
  "kernelspec": {
   "display_name": "Python 3 (ipykernel)",
   "language": "python",
   "name": "python3"
  },
  "language_info": {
   "codemirror_mode": {
    "name": "ipython",
    "version": 3
   },
   "file_extension": ".py",
   "mimetype": "text/x-python",
   "name": "python",
   "nbconvert_exporter": "python",
   "pygments_lexer": "ipython3",
   "version": "3.11.8"
  },
  "widgets": {
   "application/vnd.jupyter.widget-state+json": {
    "state": {},
    "version_major": 2,
    "version_minor": 0
   }
  }
 },
 "nbformat": 4,
 "nbformat_minor": 5
}
