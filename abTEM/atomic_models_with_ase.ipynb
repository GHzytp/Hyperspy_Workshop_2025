{
 "cells": [
  {
   "cell_type": "markdown",
   "id": "a5d6af69",
   "metadata": {},
   "source": [
    "# Atomic models for image simulation with ASE <a id='top'></a>\n",
    "\n",
    "This notebook introduces the Atomic Simulation Environment ([ASE](https://wiki.fysik.dtu.dk/ase/)) for creating atomic models for image simulation.\n",
    "\n",
    "ASE is a set of tools and Python modules for setting up, manipulating and visualizing atomic structures, which is used in conjunction with a large number of atomistic simulation codes, for example [GPAW](https://wiki.fysik.dtu.dk/gpaw/) for running DFT simulations. In this notebook, ASE is introduced in the context of running electron microscopy image simulations with [*ab*TEM](https://abtem.github.io/doc/intro.html). \n",
    "\n",
    "### Contents\n",
    "\n",
    "1. <a href='#the_atoms_object'> The Atoms object\n",
    "2. <a href='#importing_structures'> Importing structures from files\n",
    "3. <a href='#visualization'> Visualization\n",
    "4. <a href='#manipulating'> Manipulating atoms\n",
    "5. <a href='#exporting_structures'> Exporting structures to files\n",
    "6. <a href='#orthogonal'> Orthogonal and periodic supercells"
   ]
  },
  {
   "cell_type": "code",
   "execution_count": null,
   "id": "6e8da5b8",
   "metadata": {
    "pycharm": {
     "name": "#%%\n"
    }
   },
   "outputs": [],
   "source": [
    "%matplotlib inline\n",
    "\n",
    "import abtem\n",
    "import ase\n",
    "import matplotlib.pyplot as plt\n",
    "import numpy as np\n",
    "from ase.visualize import view"
   ]
  },
  {
   "cell_type": "markdown",
   "id": "a28d8176",
   "metadata": {},
   "source": [
    "##  The `Atoms` object <a id='the_atoms_object'></a>\n",
    "\n",
    "The `Atoms` object defines a collection of atoms. To define `Atoms` from scratch, we need to specify at least three things:\n",
    "\n",
    "* atomic positions,\n",
    "* atomic numbers,\n",
    "* a periodic cell.\n",
    "\n",
    "Here, we create a basic model of the N<sub>2</sub> molecule."
   ]
  },
  {
   "cell_type": "code",
   "execution_count": null,
   "id": "a8df9627",
   "metadata": {},
   "outputs": [],
   "source": [
    "atoms = ase.Atoms(\"N2\", positions=[(0.0, 0.0, 0.0), (1.0, 0.0, 0.0)], cell=[6, 6, 6])"
   ]
  },
  {
   "cell_type": "markdown",
   "id": "829b32f8-a421-4440-9200-cdbb543bd6f8",
   "metadata": {},
   "source": [
    "__Note__: *ab*TEM and ASE uses the same [unit conventions](https://wiki.fysik.dtu.dk/ase/ase/units.html), as defined in the `ase.units` module. Thus, electron volts (eV), Ångström (Å), and atomic mass units are defined as 1.0.\n",
    "\n",
    "We can access the corresponding properties as attributes of the object we've defined."
   ]
  },
  {
   "cell_type": "code",
   "execution_count": null,
   "id": "c5a7f1eb",
   "metadata": {},
   "outputs": [],
   "source": [
    "atoms.positions"
   ]
  },
  {
   "cell_type": "code",
   "execution_count": null,
   "id": "fd8d8631",
   "metadata": {},
   "outputs": [],
   "source": [
    "atoms.numbers"
   ]
  },
  {
   "cell_type": "code",
   "execution_count": null,
   "id": "f2ecf400",
   "metadata": {},
   "outputs": [],
   "source": [
    "atoms.cell"
   ]
  },
  {
   "cell_type": "code",
   "execution_count": null,
   "id": "85ba8c97-8bcd-4b55-b430-798b0e0aa492",
   "metadata": {},
   "outputs": [],
   "source": [
    "atoms.cell"
   ]
  },
  {
   "cell_type": "markdown",
   "id": "fd4b28db-0fc1-489e-943f-0ea42123abf9",
   "metadata": {},
   "source": [
    "The `Atoms` can be modified by directly changing the underlying NumPy arrays. For instance, we can create NO by changing the atomic number of one of the N atoms."
   ]
  },
  {
   "cell_type": "code",
   "execution_count": null,
   "id": "cbc506b0-dacd-40b4-8529-ab3ea8afc8a6",
   "metadata": {},
   "outputs": [],
   "source": [
    "atoms.numbers"
   ]
  },
  {
   "cell_type": "code",
   "execution_count": null,
   "id": "5ab06094-9c6f-4226-8162-bbd3fdd31683",
   "metadata": {},
   "outputs": [],
   "source": [
    "atoms.numbers[0] = 8"
   ]
  },
  {
   "cell_type": "markdown",
   "id": "39b76328-0a20-498e-a366-46c9fbeb1d25",
   "metadata": {},
   "source": [
    "We can further add an additional N atom to create nitrous oxide; convenient arithmetic operations work for the `Atoms` object."
   ]
  },
  {
   "cell_type": "code",
   "execution_count": null,
   "id": "a296bc6a-7715-451a-940c-9773796d40ff",
   "metadata": {},
   "outputs": [],
   "source": [
    "atoms += ase.Atoms(\"N\", positions=[(2.0, 0, 0)])\n",
    "\n",
    "atoms"
   ]
  },
  {
   "cell_type": "markdown",
   "id": "1e2913da",
   "metadata": {},
   "source": [
    "## Visualization <a id='visualization'></a>\n",
    "\n",
    "We can visualize the atoms using the Matplotlib backend with *ab*TEM's `show_atoms` function, which shows a 2D projection of the structure perpendicular to a specified plane (by default $xy$, ie. perpendicular to the propagation direction)."
   ]
  },
  {
   "cell_type": "code",
   "execution_count": null,
   "id": "d9d0cf6a",
   "metadata": {},
   "outputs": [],
   "source": [
    "abtem.show_atoms(atoms, plane='xy');"
   ]
  },
  {
   "cell_type": "markdown",
   "id": "67b273a9",
   "metadata": {},
   "source": [
    "The default ASE GUI, an interactive 3D viewer, may be started using the `view` function."
   ]
  },
  {
   "cell_type": "code",
   "execution_count": null,
   "id": "73bab343",
   "metadata": {},
   "outputs": [],
   "source": [
    "from ase.visualize import view\n",
    "\n",
    "view(atoms);"
   ]
  },
  {
   "cell_type": "markdown",
   "id": "a1ad4125",
   "metadata": {},
   "source": [
    "## Building a crystal\n",
    "\n",
    "ASE has many, many tools for building various molecules, crystals, surfaces and nanostructures (see [ASE documentation](https://wiki.fysik.dtu.dk/ase/ase/build/build.html)). Here, we build the unit cell of strontium titanate."
   ]
  },
  {
   "cell_type": "code",
   "execution_count": null,
   "id": "4f42ab49",
   "metadata": {},
   "outputs": [],
   "source": [
    "atom_pos = [(0.0, 0.0, 0.0), (0.5, 0.5, 0.5), (0.5, 0.5, 0.0)]\n",
    "srtio3 = ase.spacegroup.crystal(['Sr','Ti','O'], atom_pos, spacegroup=221, cellpar=3.905, size=(1, 1, 1))\n",
    "\n",
    "abtem.show_atoms(srtio3*(3,3,3), legend=True);"
   ]
  },
  {
   "cell_type": "markdown",
   "id": "14a3d97e",
   "metadata": {},
   "source": [
    "## Manipulating atoms <a id='manipulating'></a>\n",
    "*ab*TEM always assumes that the imaging electrons propagate along the $z$-axis in the direction from _negative to positive_ coordinate values. Hence, to choose the zone axis, we need to manipulate the atoms so they are properly aligned.\n",
    "\n",
    "ASE has so many tools for manipulating structures that we can't cover all of them here. As an example, we will look at the `surface` function, which can be used for creating a periodic surface (aligned with the $z$-axis) for a given set of Miller indices.\n",
    "\n",
    "Below we orient the strontium titanate structure along the (110)-direction."
   ]
  },
  {
   "cell_type": "code",
   "execution_count": null,
   "id": "b0f71ca6",
   "metadata": {},
   "outputs": [],
   "source": [
    "from ase.build import surface\n",
    "\n",
    "srtio3_110 = surface(srtio3, indices=(1, 1, 0), layers=2, periodic=True)\n",
    "\n",
    "abtem.show_atoms(srtio3_110, plane=\"xy\", legend=True);"
   ]
  },
  {
   "cell_type": "markdown",
   "id": "75241b71-328a-48f7-a057-a69752786865",
   "metadata": {},
   "source": [
    "Some of the atoms on the edge of the cell may look a little funny, but since the structure is periodic, that doesn't really matter. However, we can use the `wrap` function to wrap those back across the cell boundary."
   ]
  },
  {
   "cell_type": "code",
   "execution_count": null,
   "id": "5150e0c6-d1cb-4b97-b308-5bdef7886eca",
   "metadata": {},
   "outputs": [],
   "source": [
    "srtio3_110.wrap()\n",
    "\n",
    "abtem.show_atoms(srtio3_110, plane=\"xy\", legend=True, show_periodic=True);"
   ]
  },
  {
   "cell_type": "markdown",
   "id": "761cbe83",
   "metadata": {},
   "source": [
    "Simulations may require a larger crystal, to repeat the atoms by 3 in $x$, 4 in $y$ and 10 in the $z$-direction, we simply multiply the atoms."
   ]
  },
  {
   "cell_type": "code",
   "execution_count": null,
   "id": "41e43aca",
   "metadata": {},
   "outputs": [],
   "source": [
    "repeated_srtio3 = srtio3_110.copy()\n",
    "\n",
    "repeated_srtio3 *= (3, 4, 10)\n",
    "\n",
    "abtem.show_atoms(repeated_srtio3, legend=True);"
   ]
  },
  {
   "cell_type": "markdown",
   "id": "50cd3dd4-698f-4d56-a710-e5dd04464d28",
   "metadata": {},
   "source": [
    "To view the structure from the side, we can give a different `plane` keyword. We now see that that the model is slab a few nanometers in thickness."
   ]
  },
  {
   "cell_type": "code",
   "execution_count": null,
   "id": "e65c8d90-b5c6-4d67-95b8-6b0305992f89",
   "metadata": {},
   "outputs": [],
   "source": [
    "abtem.show_atoms(repeated_srtio3, legend=True, plane='xz');"
   ]
  },
  {
   "cell_type": "markdown",
   "id": "6c57d3a5",
   "metadata": {},
   "source": [
    "The positions and atomic numbers are just `NumPy` arrays and hence can be modified in- place. Below, we create an SrTiO<sub>3</sub>/LaTiO<sub>3</sub> interface by changing the atomic numbers of the Sr atoms with a $y$-coordinate less than $7.5 \\ \\mathrm{Å}$.\n",
    "\n",
    "Note that it is important to make a copy of the structure so that you avoid modifying the original object!"
   ]
  },
  {
   "cell_type": "code",
   "execution_count": null,
   "id": "fbd928f8",
   "metadata": {},
   "outputs": [],
   "source": [
    "sto_lto = repeated_srtio3.copy()\n",
    "\n",
    "mask = sto_lto.symbols == \"Sr\"\n",
    "\n",
    "mask = mask * (sto_lto.positions[:, 1] < 7.5)\n",
    "\n",
    "sto_lto.numbers[mask] = 57"
   ]
  },
  {
   "cell_type": "markdown",
   "id": "8ea702bb",
   "metadata": {},
   "source": [
    "Next, we center the atoms in the cell and add $5 \\ \\mathrm{Å}$ of vacuum at the entrance and exit surfaces along the $z$-axis."
   ]
  },
  {
   "cell_type": "code",
   "execution_count": null,
   "id": "bfda0e1c",
   "metadata": {},
   "outputs": [],
   "source": [
    "sto_lto.center(axis=2, vacuum=5)\n",
    "\n",
    "fig, (ax1, ax2) = plt.subplots(1, 2, figsize=(8, 4))\n",
    "abtem.show_atoms(sto_lto, ax=ax1)\n",
    "abtem.show_atoms(sto_lto, ax=ax2, plane=\"yz\", legend=True);"
   ]
  },
  {
   "cell_type": "markdown",
   "id": "0a107dbc",
   "metadata": {},
   "source": [
    "## Exporting structures to files <a id='exporting_structures'></a>\n",
    "\n",
    "The structures can also be exported in all the common atomic structure formats. Here, we export the manipulated structure as `.cif`, so we can use it in the next tutorial. The ASE IO writer will infer the file format from the ending, and supports almost anything you can imagine: https://wiki.fysik.dtu.dk/ase/ase/io/io.html"
   ]
  },
  {
   "cell_type": "code",
   "execution_count": null,
   "id": "ba702810",
   "metadata": {},
   "outputs": [],
   "source": [
    "from ase.io import write\n",
    "\n",
    "write(\"sto_lto.cif\", sto_lto)"
   ]
  },
  {
   "cell_type": "markdown",
   "id": "95f9f86d-c5f6-46f0-bc3c-2350361aa37d",
   "metadata": {},
   "source": [
    "Reading the structure is equally easy, and ASE will automatically infer the format from the file ending. (One notable exception that you may encounter in TEM are Prismatic/Computem .xyz files, which have a slightly different syntax and thus their own reader: https://wiki.fysik.dtu.dk/ase/ase/io/formatoptions.html#prismatic.)"
   ]
  },
  {
   "cell_type": "code",
   "execution_count": null,
   "id": "e1d697cb-c5e8-44c0-8198-8845d1a90a45",
   "metadata": {},
   "outputs": [],
   "source": [
    "sto_lto = ase.io.read(\"sto_lto.cif\")"
   ]
  },
  {
   "cell_type": "markdown",
   "id": "d60ff25c",
   "metadata": {},
   "source": [
    "## Orthogonal and periodic supercells <a id='orthogonal'></a>\n",
    "\n",
    "The multislice algorithm requires an orthogonal periodic atomic structure as its input. However, taking any arbitrary structure and making it periodic and orthogonal is often not trivial. *ab*TEM has some tools for solving this problem.\n",
    "\n",
    "To demonstrate this, we create a graphene structure with the minimal hexagonal unit cell. "
   ]
  },
  {
   "cell_type": "code",
   "execution_count": null,
   "id": "4c6eff22",
   "metadata": {},
   "outputs": [],
   "source": [
    "graphene = ase.build.graphene(vacuum=4)\n",
    "\n",
    "abtem.show_atoms(graphene * (4,4,1));"
   ]
  },
  {
   "cell_type": "markdown",
   "id": "0ab0f626",
   "metadata": {},
   "source": [
    "Applying `orthogonalize_cell`, we find the smallest orthogonal version of a cell. "
   ]
  },
  {
   "cell_type": "code",
   "execution_count": null,
   "id": "daa2fe94",
   "metadata": {},
   "outputs": [],
   "source": [
    "orthogonal_graphene, transform = abtem.orthogonalize_cell(graphene, return_transform=True)\n",
    "\n",
    "abtem.show_atoms(orthogonal_graphene * (5,3,1));"
   ]
  },
  {
   "cell_type": "code",
   "execution_count": null,
   "id": "8f2c6d63-8471-4215-ae7a-634ef4b02bff",
   "metadata": {},
   "outputs": [],
   "source": [
    "from abtem.atoms import pretty_print_transform\n",
    "pretty_print_transform(transform)"
   ]
  },
  {
   "cell_type": "markdown",
   "id": "23f6bff6",
   "metadata": {},
   "source": [
    "The problem of creating orthogonal cells is not always as trivial as for graphene. For those interested in more advanced uses of the `orthogonalize_cell` function, we have a [tutorial](https://abtem.github.io/doc/user_guide/tutorials/advanced_atomic_models.html) dedicated to the subject."
   ]
  },
  {
   "cell_type": "markdown",
   "id": "45693b9e-7a8a-4222-ac75-70e40b6d6c07",
   "metadata": {},
   "source": [
    "### Twisted strontium titanate"
   ]
  },
  {
   "cell_type": "code",
   "execution_count": null,
   "id": "8069754a-c634-4951-8bbc-081e8203ff19",
   "metadata": {},
   "outputs": [],
   "source": [
    "abtem.show_atoms(srtio3, plane='xz')"
   ]
  },
  {
   "cell_type": "code",
   "execution_count": null,
   "id": "476f1c73-f8fa-46f9-95a1-4f269da050e3",
   "metadata": {},
   "outputs": [],
   "source": [
    "repeated_srtio3 = srtio3 * (1, 1, 8)\n",
    "\n",
    "fig, (ax1, ax2) = plt.subplots(1, 2, figsize=(6, 4))\n",
    "abtem.show_atoms(repeated_srtio3, ax=ax1, title=\"Beam view\")\n",
    "abtem.show_atoms(repeated_srtio3, ax=ax2, plane=\"xz\", title=\"Side view\")\n",
    "fig.tight_layout();"
   ]
  },
  {
   "cell_type": "code",
   "execution_count": null,
   "id": "f0739214-5348-4d26-843c-1b4e4a363489",
   "metadata": {},
   "outputs": [],
   "source": [
    "rotated_srtio3_1 = repeated_srtio3.copy()\n",
    "rotated_srtio3_1.rotate(8.8/2,\"z\", rotate_cell=True)\n",
    "\n",
    "rotated_srtio3_2 = repeated_srtio3.copy()\n",
    "rotated_srtio3_2.rotate(-8.8/2,\"z\", rotate_cell=True)\n",
    "\n",
    "fig, (ax1, ax2) = plt.subplots(1, 2, figsize=(10, 4))\n",
    "abtem.show_atoms(rotated_srtio3_1, title=\"Positive rotation\", ax=ax1)\n",
    "abtem.show_atoms(rotated_srtio3_2, title=\"Negative rotation\", ax=ax2)"
   ]
  },
  {
   "cell_type": "code",
   "execution_count": null,
   "id": "c92f6ba8-b779-48cc-a91c-5bcb9a76e99a",
   "metadata": {},
   "outputs": [],
   "source": [
    "from abtem.atoms import pretty_print_transform\n",
    "\n",
    "maxreps = 12\n",
    "\n",
    "atoms_top, transform1 = abtem.orthogonalize_cell(\n",
    "    rotated_srtio3_1, max_repetitions=maxreps, return_transform=True\n",
    ")\n",
    "\n",
    "atoms, transform2 = abtem.orthogonalize_cell(\n",
    "    rotated_srtio3_2, max_repetitions=maxreps, return_transform=True\n",
    ")\n",
    "\n",
    "atoms_bottom = atoms.copy()\n",
    "atoms_bottom.translate([0,0,-atoms_top.cell[2,2]])\n",
    "\n",
    "pretty_print_transform(transform1)\n",
    "pretty_print_transform(transform2)\n",
    "\n",
    "abtem.show_atoms(atoms, title=\"Beam view\", plane='xz')"
   ]
  },
  {
   "cell_type": "code",
   "execution_count": null,
   "id": "78a566f7-c661-4160-b480-3568a881a42b",
   "metadata": {},
   "outputs": [],
   "source": [
    "combined = atoms_top + atoms_bottom\n",
    "combined.cell[2,2] *= 2\n",
    "combined.center(axis=2, vacuum=4)\n",
    "\n",
    "fig, (ax1, ax2) = plt.subplots(1, 2, figsize=(12, 6))\n",
    "abtem.show_atoms(combined, ax=ax1, title=\"Beam view\", scale=0.4)\n",
    "abtem.show_atoms(combined, ax=ax2, plane=\"xz\", title=\"Side view\", scale=0.4)\n",
    "fig.tight_layout();"
   ]
  }
 ],
 "metadata": {
  "kernelspec": {
   "display_name": "Python 3 (ipykernel)",
   "language": "python",
   "name": "python3"
  },
  "language_info": {
   "codemirror_mode": {
    "name": "ipython",
    "version": 3
   },
   "file_extension": ".py",
   "mimetype": "text/x-python",
   "name": "python",
   "nbconvert_exporter": "python",
   "pygments_lexer": "ipython3",
   "version": "3.12.10"
  },
  "widgets": {
   "application/vnd.jupyter.widget-state+json": {
    "state": {},
    "version_major": 2,
    "version_minor": 0
   }
  }
 },
 "nbformat": 4,
 "nbformat_minor": 5
}
